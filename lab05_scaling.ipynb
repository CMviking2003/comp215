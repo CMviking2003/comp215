{
  "nbformat": 4,
  "nbformat_minor": 0,
  "metadata": {
    "colab": {
      "provenance": [],
      "include_colab_link": true
    },
    "kernelspec": {
      "name": "python3",
      "display_name": "Python 3"
    },
    "language_info": {
      "name": "python"
    }
  },
  "cells": [
    {
      "cell_type": "markdown",
      "metadata": {
        "id": "view-in-github",
        "colab_type": "text"
      },
      "source": [
        "<a href=\"https://colab.research.google.com/github/CMviking2003/comp215/blob/main/lab05_scaling.ipynb\" target=\"_parent\"><img src=\"https://colab.research.google.com/assets/colab-badge.svg\" alt=\"Open In Colab\"/></a>"
      ]
    },
    {
      "cell_type": "markdown",
      "source": [
        "COMP 215 - LAB 5\n",
        "----------------\n",
        "#### Name(s): Christian Mancuso\n",
        "#### Date: Febuary 1, 2025\n",
        "\n",
        "\n",
        "By the end of this lab you should be able to:\n",
        "  * apply both a direct (ie. brute force) and heuristic algorithm to a problem\n",
        "  * use the networkx module to visualize graphs\n",
        "  * measure algorithm scaling\n",
        "\n",
        "\n",
        "During this lab, you will be introduced to the following:\n",
        "  * seeding the random module\n",
        "\n"
      ],
      "metadata": {
        "id": "maj2ZJihN_mq"
      }
    },
    {
      "cell_type": "markdown",
      "source": [
        "## The Traveling Salesperson Problem\n",
        "\n",
        "This lab is based on the famous Traveling Salesperson Problem (TSP) outlined in Section 3.3.2 of 'On Complexity'.  Imagine you needed to travel to ten different cities.  What is the sortest possible route you could take to visit every city?  For our version of the problem, you start from a specific city and must end on the same city.\n",
        "\n",
        "In this lab, you will implement a direct (ie. brute force) and a heuristic solution to the problem."
      ],
      "metadata": {
        "id": "bXq2viKmFY-h"
      }
    },
    {
      "cell_type": "code",
      "source": [
        "# start with some imports\n",
        "import random, math, time, itertools\n",
        "import networkx as nx\n",
        "import matplotlib.pyplot as plt\n",
        "%matplotlib inline\n",
        "from pprint import pprint"
      ],
      "metadata": {
        "id": "XAr1Vf5HiC6N"
      },
      "execution_count": null,
      "outputs": []
    },
    {
      "cell_type": "markdown",
      "source": [
        "## Set up the map\n",
        "\n",
        "For this implementation of the problem we will randomly place N cities on a 100 by 100 grid.  Cities will be labelled using a single character; 'A', 'B', 'C', etc.  City locations will be denoted by a 2-tuple, `(x,y)`, giving their position on the grid. In order to create reproducable maps, we will use [random.seed()](https://docs.python.org/3/library/random.html#random.seed) to initialize the random module.  "
      ],
      "metadata": {
        "id": "P69qc4NLXcHA"
      }
    },
    {
      "cell_type": "code",
      "source": [
        "def setup_map(N, seed=1):\n",
        "  ''' Returns a map of N cities with random locations on a 100 by 100 grid '''\n",
        "  random.seed(seed)\n",
        "  city_locations = [(random.randint(0, 100), random.randint(0, 100)) for i in range(N)]\n",
        "  city_names = [chr(65 + i) for i in range(N)]\n",
        "  city_map = dict(zip(city_names, city_locations))\n",
        "  return city_map\n",
        "\n",
        "def graph_map(city_map):\n",
        "  ''' graph the map of cities using networkx'''\n",
        "  G = nx.Graph()\n",
        "  G.add_nodes_from(city_map)\n",
        "  nx.draw(G, city_map, with_labels=True)\n",
        "\n",
        "def distance(city1, city2, city_map):\n",
        "  ''' Returns the distance between two cities on a map'''\n",
        "  x1, y1 = city_map[city1]\n",
        "  x2, y2 = city_map[city2]\n",
        "  return round(math.sqrt((x2 - x1)**2 + (y2 - y1)**2),1)\n",
        "\n",
        "def calculate_distances(city_map):\n",
        "  ''' Returns a dictionary with the distances between all pairs of cities in a map '''\n",
        "  distances = {}\n",
        "  for city1 in city_map:\n",
        "      for city2 in city_map:\n",
        "          if city1 != city2:\n",
        "              # this will have duplicate distances (A,B) and (B,A)\n",
        "              # these duplicates make the algorithm implememntation simpler\n",
        "              distances[(city1, city2)] = distance(city1, city2, city_map)\n",
        "  return distances\n"
      ],
      "metadata": {
        "id": "lHqZss26iNtY"
      },
      "execution_count": null,
      "outputs": []
    },
    {
      "cell_type": "code",
      "source": [
        "# test our setup functions\n",
        "city_map = setup_map(10)\n",
        "print(f'City Map: {city_map}')\n",
        "distances = calculate_distances(city_map)\n",
        "print(f'Distances between cities: {distances}')\n",
        "graph_map(city_map)"
      ],
      "metadata": {
        "id": "d0ZFBtOPpU-P",
        "colab": {
          "base_uri": "https://localhost:8080/",
          "height": 571
        },
        "outputId": "7cbd80af-0b44-4cb4-f90e-d2ba06c5b724"
      },
      "execution_count": null,
      "outputs": [
        {
          "output_type": "stream",
          "name": "stdout",
          "text": [
            "City Map: {'A': (17, 72), 'B': (97, 8), 'C': (32, 15), 'D': (63, 97), 'E': (57, 60), 'F': (83, 48), 'G': (100, 26), 'H': (12, 62), 'I': (3, 49), 'J': (55, 77)}\n",
            "Distances between cities: {('A', 'B'): 102.4, ('A', 'C'): 58.9, ('A', 'D'): 52.4, ('A', 'E'): 41.8, ('A', 'F'): 70.2, ('A', 'G'): 94.9, ('A', 'H'): 11.2, ('A', 'I'): 26.9, ('A', 'J'): 38.3, ('B', 'A'): 102.4, ('B', 'C'): 65.4, ('B', 'D'): 95.3, ('B', 'E'): 65.6, ('B', 'F'): 42.4, ('B', 'G'): 18.2, ('B', 'H'): 100.7, ('B', 'I'): 102.6, ('B', 'J'): 80.8, ('C', 'A'): 58.9, ('C', 'B'): 65.4, ('C', 'D'): 87.7, ('C', 'E'): 51.5, ('C', 'F'): 60.7, ('C', 'G'): 68.9, ('C', 'H'): 51.1, ('C', 'I'): 44.7, ('C', 'J'): 66.1, ('D', 'A'): 52.4, ('D', 'B'): 95.3, ('D', 'C'): 87.7, ('D', 'E'): 37.5, ('D', 'F'): 52.9, ('D', 'G'): 80.1, ('D', 'H'): 61.9, ('D', 'I'): 76.8, ('D', 'J'): 21.5, ('E', 'A'): 41.8, ('E', 'B'): 65.6, ('E', 'C'): 51.5, ('E', 'D'): 37.5, ('E', 'F'): 28.6, ('E', 'G'): 54.8, ('E', 'H'): 45.0, ('E', 'I'): 55.1, ('E', 'J'): 17.1, ('F', 'A'): 70.2, ('F', 'B'): 42.4, ('F', 'C'): 60.7, ('F', 'D'): 52.9, ('F', 'E'): 28.6, ('F', 'G'): 27.8, ('F', 'H'): 72.4, ('F', 'I'): 80.0, ('F', 'J'): 40.3, ('G', 'A'): 94.9, ('G', 'B'): 18.2, ('G', 'C'): 68.9, ('G', 'D'): 80.1, ('G', 'E'): 54.8, ('G', 'F'): 27.8, ('G', 'H'): 95.1, ('G', 'I'): 99.7, ('G', 'J'): 68.0, ('H', 'A'): 11.2, ('H', 'B'): 100.7, ('H', 'C'): 51.1, ('H', 'D'): 61.9, ('H', 'E'): 45.0, ('H', 'F'): 72.4, ('H', 'G'): 95.1, ('H', 'I'): 15.8, ('H', 'J'): 45.5, ('I', 'A'): 26.9, ('I', 'B'): 102.6, ('I', 'C'): 44.7, ('I', 'D'): 76.8, ('I', 'E'): 55.1, ('I', 'F'): 80.0, ('I', 'G'): 99.7, ('I', 'H'): 15.8, ('I', 'J'): 59.1, ('J', 'A'): 38.3, ('J', 'B'): 80.8, ('J', 'C'): 66.1, ('J', 'D'): 21.5, ('J', 'E'): 17.1, ('J', 'F'): 40.3, ('J', 'G'): 68.0, ('J', 'H'): 45.5, ('J', 'I'): 59.1}\n"
          ]
        },
        {
          "output_type": "display_data",
          "data": {
            "text/plain": [
              "<Figure size 640x480 with 1 Axes>"
            ],
            "image/png": "[encoded data removed]"
          },
          "metadata": {}
        }
      ]
    },
    {
      "cell_type": "markdown",
      "source": [
        "### Exercise 1: The Brute Force Solution\n",
        "\n",
        "Implement a brute force solution to the traveling salesman problem using the city map and distance dictionary given above.  The algorithm for the brute force solution looks something like this:\n",
        " 1. Loop over every possible route that starts and ends on city A.  For a three city example, this would be ABCA, ACBA.  \n",
        " 2. Calculate the total distance of each possible route.  \n",
        " 3. Find the route with the minimum total distance.\n",
        "\n",
        "Before you start coding, think about what functions and/or class you might want to simplify your implementation of the algorithm.  Write a small test for your algorithm."
      ],
      "metadata": {
        "id": "L_clDiVgOXjT"
      }
    },
    {
      "cell_type": "code",
      "source": [
        "# Ex. 1 your solution here\n",
        "\n",
        "#1 LOOP every POSSIBLE ROUTE that ENDS ON CITY A\n",
        "\n",
        "#2 Calculate the TOTAL DISTANCE of each possible route\n",
        "\n",
        "#3 Find route with the MINIMUM TOTAL DISTANCE\n",
        "\n",
        "\n",
        "def possible_routes(city_map):\n",
        "\n",
        "  #MAKE DICTONARY FROM CITIES AND CORDINATES\n",
        "\n",
        "  locations = {}\n",
        "\n",
        "  cities = list(city_map.keys())\n",
        "\n",
        "  cities.remove('A')\n",
        "\n",
        "  routes = itertools.permutations(cities, 2)\n",
        "\n",
        "\n",
        "  pos_routes = [('A',) + route + ('A',) for route in routes]\n",
        "\n",
        "\n",
        "  total_route_diss = 0\n",
        "  minDistance = 100000\n",
        "\n",
        "\n",
        "  for route in pos_routes:\n",
        "\n",
        "\n",
        "    route_diss = sum(distance(city_map[route[i]], city_map[route[i + 1]]) for i in range(len(route) - 1))\n",
        "\n",
        "    #assert route_diss == 226.70000000000002\n",
        "\n",
        "    if route_diss < minDistance:\n",
        "      minDistance = route_diss\n",
        "\n",
        "\n",
        "\n",
        "    #print(f\" Distance of Route {route}: {route_diss}\")\n",
        "\n",
        "\n",
        "\n",
        "  #print(f\"Minimum Total Distance is {minDistance}\")\n",
        "  assert minDistance == 131.7\n",
        "\n",
        "\n",
        "\n",
        "possible_routes(city_map)\n",
        "\n",
        "\n",
        "\n",
        "\n",
        "\n",
        "\n",
        "\n"
      ],
      "metadata": {
        "id": "nLmzZgjwECtJ"
      },
      "execution_count": null,
      "outputs": []
    },
    {
      "cell_type": "markdown",
      "source": [
        "\n",
        "\n",
        "### Exercise 2: Nearest Neighbour\n",
        "\n",
        "Implement a nearest neighbour solution to the traveling salesman problem using the city map and distance dictionary given above.  The algorithm for the nearest neighbour solution looks something like this:\n",
        " 1. Start from the starting city.  \n",
        " 2. Go to the nearest city that has not been visited.  \n",
        " 3. Repeat steps 1 and 2 until all cities have been visited.\n",
        "\n",
        "Before you start coding, think about what functions and/or class you might want to simplify your implementation of the algorithm.  Write a small test for your algorithm."
      ],
      "metadata": {
        "id": "JhIjwjq-Oa4F"
      }
    },
    {
      "cell_type": "code",
      "source": [
        "# Ex.2 your code heredistances = calculate_distances(city_map)\n",
        "\n",
        "def distance(start_city, next_city):\n",
        "  ''' Returns the distance between two cities on a map'''\n",
        "\n",
        "  x1, y1 = start_city\n",
        "  x2, y2 = next_city\n",
        "  return round(math.sqrt((x2 - x1)**2 + (y2 - y1)**2),1)\n",
        "\n",
        "def Nearest_Neighbour(city_map):\n",
        "\n",
        "  city_map = setup_map(10)\n",
        "\n",
        "  unvisited = list(city_map.keys())\n",
        "\n",
        "\n",
        "  visited = []\n",
        "\n",
        "  start = unvisited[0]\n",
        "  visited.append(start)\n",
        "  unvisited.remove(start)\n",
        "\n",
        "  #DIJKSTRAS ALGORITHM\n",
        "  while unvisited:\n",
        "\n",
        "    nextCity = None #resets next or nearest city for every iteration to None to ensure that loop doesnt repeately iterate over same city\n",
        "    minDistance = 10000000 #resets minDistance after minDistance is found for specific nearest neighbour\n",
        "\n",
        "\n",
        "    for aCity in unvisited:\n",
        "\n",
        "      city_diss = distance(city_map.get(start), city_map[aCity])\n",
        "\n",
        "\n",
        "      #Determine Minimum Distance to Find Closest City\n",
        "      if city_diss < minDistance:\n",
        "        minDistance = city_diss\n",
        "        nextCity = aCity\n",
        "        #print(f\"City distance between {start} and  {nextCity}: {minDistance}\")\n",
        "\n",
        "    if nextCity:\n",
        "      visited.append(nextCity)\n",
        "      unvisited.remove(nextCity)\n",
        "      start = nextCity\n",
        "\n",
        "\n",
        "  #print(visited)\n",
        "\n",
        "\n",
        "print(Nearest_Neighbour(city_map))\n"
      ],
      "metadata": {
        "id": "jrsQQyMLEFZ2",
        "colab": {
          "base_uri": "https://localhost:8080/"
        },
        "outputId": "b5a0bbdc-f9d9-415e-ae12-e6a63a6cc462"
      },
      "execution_count": null,
      "outputs": [
        {
          "output_type": "stream",
          "name": "stdout",
          "text": [
            "None\n"
          ]
        }
      ]
    },
    {
      "cell_type": "markdown",
      "source": [
        "### Exercise 3: Graph the Routes\n",
        "\n",
        "Use the networkx module to create directed graphs of the routes (brute force and nearest neighbour).  Include the distances between the cities on the edges.  Run several different map setups with a different sizes (ie. number of cities).  Do the brute force (ie. direct) and nearest neighbour (ie. heuristic) algorithms always give the same solution?  Do you notice anything about the brute force solutions that suggests an alternative heuristic algorithm?\n"
      ],
      "metadata": {
        "id": "RzeiY9dFpBAC"
      }
    },
    {
      "cell_type": "code",
      "source": [
        "# Ex.3 your code here\n",
        "\n",
        "\n",
        "def graph_possibleRoutes(city_map):\n",
        "\n",
        "    G = nx.DiGraph()\n",
        "    pos = city_map\n",
        "\n",
        "\n",
        "    for aCity in city_map:\n",
        "\n",
        "\n",
        "        G.add_node(aCity, pos=city_map[aCity])\n",
        "\n",
        "\n",
        "    routes = possible_routes(city_map)\n",
        "    labels = {}\n",
        "\n",
        "\n",
        "    for route, distance in routes:\n",
        "\n",
        "        for i in range(len(route) - 1):\n",
        "\n",
        "            start, end = route[i], route[i + 1]\n",
        "            dist = distance(city_map[start], city_map[end])\n",
        "            G.add_edge(start, end, weight=dist)\n",
        "            labels[(start, end)] = dist\n",
        "\n",
        "\n",
        "    plt.figure(figsize=(8, 8))\n",
        "    nx.draw(G, pos, with_labels=True, node_size=500, node_color = \"purple\", font_size=10, edge_color = \"red\", arrows=True)\n",
        "    nx.draw_networkx_edge_labels(G, pos, edge_labels=labels, font_size=8)\n",
        "    plt.title(\"Bruting Of Force\")\n",
        "    plt.show()\n",
        "\n",
        "\n",
        "def graph_nearest(city_map):\n",
        "\n",
        "    G = nx.DiGraph()\n",
        "    pos = city_map\n",
        "\n",
        "\n",
        "    for aCity in city_map:\n",
        "\n",
        "        G.add_node(aCity, pos=city_map[aCity])\n",
        "\n",
        "    route, total_distance = Nearest_Neighbour(city_map)\n",
        "    labels = {}\n",
        "\n",
        "\n",
        "    for i in range(len(route) - 1):\n",
        "\n",
        "        start, end = route[i], route[i + 1]\n",
        "        dist = distance(city_map[start], city_map[end])\n",
        "        G.add_edge(start, end, weight=dist)\n",
        "        labels[(start, end)] = dist\n",
        "\n",
        "\n",
        "    plt.figure(figsize=(8, 8))\n",
        "    nx.draw(G, pos, with_labels=True, node_size=500, node_color = \"green\", font_size=10, edge_color = \"white\", arrows=True)\n",
        "    nx.draw_networkx_edge_labels(G, pos, edge_labels=labels, font_size=8)\n",
        "    plt.title(\"Where Is My Neighbour, Dumbledoore Said Calmly\")\n",
        "    plt.show()\n",
        "\n",
        "\n",
        "\n",
        "graph_possibleRoutes(city_map)\n",
        "graph_nearest(city_map)\n",
        "\n",
        "#graph_nearest(city_map, Nearest_Neighbour, title = \"Where Is My Neighbour, Dumbledoore Said Calmly\")\n"
      ],
      "metadata": {
        "id": "U9NFv5PkEKO4",
        "colab": {
          "base_uri": "https://localhost:8080/",
          "height": 696
        },
        "outputId": "27f02b3f-52c4-4d06-84ca-34b9a4863cda"
      },
      "execution_count": null,
      "outputs": [
        {
          "output_type": "stream",
          "name": "stdout",
          "text": [
            " Distance of Route ('A', 'B', 'C', 'A'): 226.70000000000002\n",
            " Distance of Route ('A', 'B', 'D', 'A'): 250.1\n",
            " Distance of Route ('A', 'B', 'E', 'A'): 209.8\n",
            " Distance of Route ('A', 'B', 'F', 'A'): 215.0\n",
            " Distance of Route ('A', 'C', 'B', 'A'): 226.70000000000002\n",
            " Distance of Route ('A', 'C', 'D', 'A'): 199.0\n",
            " Distance of Route ('A', 'C', 'E', 'A'): 152.2\n",
            " Distance of Route ('A', 'C', 'F', 'A'): 189.8\n",
            " Distance of Route ('A', 'D', 'B', 'A'): 250.1\n",
            " Distance of Route ('A', 'D', 'C', 'A'): 199.0\n",
            " Distance of Route ('A', 'D', 'E', 'A'): 131.7\n",
            " Distance of Route ('A', 'D', 'F', 'A'): 175.5\n",
            " Distance of Route ('A', 'E', 'B', 'A'): 209.8\n",
            " Distance of Route ('A', 'E', 'C', 'A'): 152.2\n",
            " Distance of Route ('A', 'E', 'D', 'A'): 131.7\n",
            " Distance of Route ('A', 'E', 'F', 'A'): 140.60000000000002\n",
            " Distance of Route ('A', 'F', 'B', 'A'): 215.0\n",
            " Distance of Route ('A', 'F', 'C', 'A'): 189.8\n",
            " Distance of Route ('A', 'F', 'D', 'A'): 175.5\n",
            " Distance of Route ('A', 'F', 'E', 'A'): 140.60000000000002\n",
            "Minimum Total Distance is 131.7\n"
          ]
        },
        {
          "output_type": "error",
          "ename": "TypeError",
          "evalue": "'NoneType' object is not iterable",
          "traceback": [
            "\u001b[0;31m---------------------------------------------------------------------------\u001b[0m",
            "\u001b[0;31mTypeError\u001b[0m                                 Traceback (most recent call last)",
            "\u001b[0;32m<ipython-input-138-560dea9e8d0a>\u001b[0m in \u001b[0;36m<cell line: 0>\u001b[0;34m()\u001b[0m\n\u001b[1;32m     65\u001b[0m \u001b[0;34m\u001b[0m\u001b[0m\n\u001b[1;32m     66\u001b[0m \u001b[0;34m\u001b[0m\u001b[0m\n\u001b[0;32m---> 67\u001b[0;31m \u001b[0mgraph_possibleRoutes\u001b[0m\u001b[0;34m(\u001b[0m\u001b[0mcity_map\u001b[0m\u001b[0;34m)\u001b[0m\u001b[0;34m\u001b[0m\u001b[0;34m\u001b[0m\u001b[0m\n\u001b[0m\u001b[1;32m     68\u001b[0m \u001b[0mgraph_nearest\u001b[0m\u001b[0;34m(\u001b[0m\u001b[0mcity_map\u001b[0m\u001b[0;34m)\u001b[0m\u001b[0;34m\u001b[0m\u001b[0;34m\u001b[0m\u001b[0m\n\u001b[1;32m     69\u001b[0m \u001b[0;34m\u001b[0m\u001b[0m\n",
            "\u001b[0;32m<ipython-input-138-560dea9e8d0a>\u001b[0m in \u001b[0;36mgraph_possibleRoutes\u001b[0;34m(city_map)\u001b[0m\n\u001b[1;32m     18\u001b[0m \u001b[0;34m\u001b[0m\u001b[0m\n\u001b[1;32m     19\u001b[0m \u001b[0;34m\u001b[0m\u001b[0m\n\u001b[0;32m---> 20\u001b[0;31m     \u001b[0;32mfor\u001b[0m \u001b[0mroute\u001b[0m\u001b[0;34m,\u001b[0m \u001b[0mdistance\u001b[0m \u001b[0;32min\u001b[0m \u001b[0mroutes\u001b[0m\u001b[0;34m:\u001b[0m\u001b[0;34m\u001b[0m\u001b[0;34m\u001b[0m\u001b[0m\n\u001b[0m\u001b[1;32m     21\u001b[0m \u001b[0;34m\u001b[0m\u001b[0m\n\u001b[1;32m     22\u001b[0m         \u001b[0;32mfor\u001b[0m \u001b[0mi\u001b[0m \u001b[0;32min\u001b[0m \u001b[0mrange\u001b[0m\u001b[0;34m(\u001b[0m\u001b[0mlen\u001b[0m\u001b[0;34m(\u001b[0m\u001b[0mroute\u001b[0m\u001b[0;34m)\u001b[0m \u001b[0;34m-\u001b[0m \u001b[0;36m1\u001b[0m\u001b[0;34m)\u001b[0m\u001b[0;34m:\u001b[0m\u001b[0;34m\u001b[0m\u001b[0;34m\u001b[0m\u001b[0m\n",
            "\u001b[0;31mTypeError\u001b[0m: 'NoneType' object is not iterable"
          ]
        }
      ]
    },
    {
      "cell_type": "markdown",
      "source": [
        "### Exercise 4: Algorithm Scaling\n",
        "\n",
        "Use the `time` module to measure the running time of the two algorithms.  Note that the `time.time()` function returns the current time, so calling it before and after the algorithm has run can give you the time it takes for the algorithm to execute.  Taking the average over several trials will make the measurement more precise.  Demonstrate the scaling nature of the algorithms by plotting their execution time as a function of N, up to about N = 10.  "
      ],
      "metadata": {
        "id": "HD2PiYXQV48y"
      }
    },
    {
      "cell_type": "code",
      "source": [
        "# Ex 4: your code here\n",
        "\n",
        "def time_of_possible_routes(city_map, N):\n",
        "\n",
        "\n",
        "\n",
        "  times_taken = []\n",
        "\n",
        "  for i in range(1, N + 1):\n",
        "\n",
        "    start = time.time()\n",
        "    possible_routes(city_map)\n",
        "    end = time.time()\n",
        "    timee = end - start;\n",
        "    times_taken.append(timee)\n",
        "\n",
        "  return sum(times_taken) / len(times_taken)\n",
        "\n",
        "\n",
        "\n",
        "def time_of_nearest_neighbour(city_map, N):\n",
        "\n",
        "  times_taken = []\n",
        "\n",
        "  for i in range(1, N + 1):\n",
        "\n",
        "    start = time.time()\n",
        "    Nearest_Neighbour(city_map)\n",
        "    end = time.time()\n",
        "    timee = end - start;\n",
        "    times_taken.append(timee)\n",
        "\n",
        "  return sum(times_taken)/ len(times_taken)\n",
        "\n",
        "\n",
        "poss_routes = time_of_possible_routes(city_map, 10)\n",
        "nearest = time_of_nearest_neighbour(city_map, 10)\n",
        "\n",
        "\n",
        "def graph_execution_time(N):\n",
        "\n",
        "    plt.plot(N, poss_routes, label='Bruting Of Force', marker='o')\n",
        "    plt.plot(N, nearest, label='Where is My Nieghbour, Dumbledoore Said Calmly', marker='o')\n",
        "    plt.xlabel('N')\n",
        "    plt.ylabel('Average Execution Time (seconds)')\n",
        "    plt.title('Execution Time of Possible_Routes vs Nearest_Neighbor Algorithms')\n",
        "    plt.legend()\n",
        "    plt.grid(True)\n",
        "    plt.show()\n",
        "\n",
        "\n",
        "graph_execution_time(10)\n",
        "print(f\"Time Taken: {poss_routes}\")\n",
        "print(f\"Time Taken: {nearest}\")"
      ],
      "metadata": {
        "id": "DBpuwJ5SSNJB",
        "colab": {
          "base_uri": "https://localhost:8080/",
          "height": 507
        },
        "outputId": "a08f7103-64b8-4179-a746-c084c5e103a9"
      },
      "execution_count": null,
      "outputs": [
        {
          "output_type": "display_data",
          "data": {
            "text/plain": [
              "<Figure size 640x480 with 1 Axes>"
            ],
            "image/png": "[encoded data removed]"
          },
          "metadata": {}
        },
        {
          "output_type": "stream",
          "name": "stdout",
          "text": [
            "Time Taken: 7.07864761352539e-05\n",
            "Time Taken: 0.00013706684112548828\n"
          ]
        }
      ]
    },
    {
      "cell_type": "markdown",
      "source": [],
      "metadata": {
        "id": "D7fXH_7XqZKQ"
      }
    }
  ]
}
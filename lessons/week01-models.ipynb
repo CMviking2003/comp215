{
  "nbformat": 4,
  "nbformat_minor": 0,
  "metadata": {
    "kernelspec": {
      "display_name": "Python 3",
      "language": "python",
      "name": "python3"
    },
    "language_info": {
      "codemirror_mode": {
        "name": "ipython",
        "version": 2
      },
      "file_extension": ".py",
      "mimetype": "text/x-python",
      "name": "python",
      "nbconvert_exporter": "python",
      "pygments_lexer": "ipython2",
      "version": "2.7.6"
    },
    "colab": {
      "provenance": [],
      "include_colab_link": true
    }
  },
  "cells": [
    {
      "cell_type": "markdown",
      "metadata": {
        "id": "view-in-github",
        "colab_type": "text"
      },
      "source": [
        "<a href=\"https://colab.research.google.com/github/Hamilton-at-CapU/comp215/blob/main/lessons/week01-models.ipynb\" target=\"_parent\"><img src=\"https://colab.research.google.com/assets/colab-badge.svg\" alt=\"Open In Colab\"/></a>"
      ]
    },
    {
      "cell_type": "markdown",
      "source": [
        "# Welcome to Comp 215!\n",
        "Our week 1 lesson workbook, available on Github from the [Hamilton-at-CapU/comp215](https://github.com/Hamilton-at-CapU/comp215) repository.\n",
        "\n",
        "As usual, the first code block just imports the modules we will use."
      ],
      "metadata": {
        "id": "WBMC0GrjNRTM"
      }
    },
    {
      "cell_type": "code",
      "execution_count": 1,
      "metadata": {
        "id": "C1a6aDXAM0WM",
        "ExecuteTime": {
          "end_time": "2023-12-30T22:13:40.129712Z",
          "start_time": "2023-12-30T22:13:40.123220Z"
        }
      },
      "outputs": [],
      "source": [
        "import matplotlib.pyplot as plt\n",
        "%matplotlib inline\n",
        "from pprint import pprint"
      ]
    },
    {
      "cell_type": "markdown",
      "source": [
        "## Using Code to gain insights\n",
        "\n",
        "How can a piece of code help us deepen our understanding of real-world phenomena?  Or explain complex concepts?"
      ],
      "metadata": {
        "id": "Cdg6xKGpLSh2"
      }
    },
    {
      "cell_type": "markdown",
      "source": [
        "\n",
        "### Duckweed Example\n",
        "Duckweed plants double every day in open water. If a pond starts with 2 duckweed plants on day 1 and is completely covered after one month (30 days), on what day is the pond half covered?"
      ],
      "metadata": {
        "id": "k70NJ-JTNwYN"
      }
    },
    {
      "cell_type": "code",
      "source": [
        "# code a model of the duckweed plant growth on the pond to answer the question\n",
        "n_plants = 2\n",
        "days = []\n",
        "n_plants_list = []\n",
        "\n",
        "for day in range(2, 31):\n",
        "  n_plants = 2*n_plants\n",
        "  days.append(day)\n",
        "  n_plants_list.append(n_plants)"
      ],
      "metadata": {
        "id": "HZSz8IftqJ72",
        "ExecuteTime": {
          "end_time": "2023-12-30T22:13:40.133647Z",
          "start_time": "2023-12-30T22:13:40.126167Z"
        }
      },
      "execution_count": 6,
      "outputs": []
    },
    {
      "cell_type": "code",
      "source": [
        "n_plants_list"
      ],
      "metadata": {
        "id": "yC3n-jJ6CuwT"
      },
      "execution_count": null,
      "outputs": []
    },
    {
      "cell_type": "markdown",
      "source": [
        "### Plot the Growth\n",
        "We'll use matplotlib for data visualizations throughout the coure, not because it is awesome, but because it is the standard tool used by computational and data scientists."
      ],
      "metadata": {
        "id": "b6w3F2yErxuB"
      }
    },
    {
      "cell_type": "code",
      "source": [
        "# ask ChatGPT to give you an example of a simple example of a matplotlib graph\n",
        "# use the response to plot your duckweek growth model\n",
        "\n",
        "\n",
        "# Create a simple line plot\n",
        "plt.plot(days, n_plants_list)\n",
        "\n",
        "# Add a title and labels\n",
        "plt.title('duckweek')\n",
        "plt.xlabel('days')\n",
        "plt.ylabel('duckweed!!')\n",
        "\n",
        "# Show the plot\n",
        "plt.show()\n"
      ],
      "metadata": {
        "id": "i_5lOF51r63i",
        "ExecuteTime": {
          "end_time": "2023-12-30T22:39:25.831093Z",
          "start_time": "2023-12-30T22:39:25.730333Z"
        },
        "outputId": "13cd70cc-d6cf-405a-a890-8804943ec9e0",
        "colab": {
          "base_uri": "https://localhost:8080/",
          "height": 472
        }
      },
      "execution_count": 9,
      "outputs": [
        {
          "output_type": "display_data",
          "data": {
            "text/plain": [
              "<Figure size 640x480 with 1 Axes>"
            ],
            "image/png": "[encoded data removed]"
          },
          "metadata": {}
        }
      ]
    },
    {
      "cell_type": "markdown",
      "source": [
        "### Exponential Growth\n",
        "Yes, this is just a simple example of exponential growth.  Although exponential growth occurs in many natural systems, many people find it unintuitive and have a hard time making predictions about it.  Describing duckweed spread on a pond as 'exponential growth' is simply applying an exponential function to the amount of duckweek as a function of time.  This model is (of course) not exactly correct, but is predicts the future amount of duckweek quite well - so it considered useful."
      ],
      "metadata": {
        "id": "4pzxO680MA3J"
      }
    }
  ]
}
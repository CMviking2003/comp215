{
  "nbformat": 4,
  "nbformat_minor": 0,
  "metadata": {
    "kernelspec": {
      "display_name": "Python 3",
      "language": "python",
      "name": "python3"
    },
    "language_info": {
      "codemirror_mode": {
        "name": "ipython",
        "version": 2
      },
      "file_extension": ".py",
      "mimetype": "text/x-python",
      "name": "python",
      "nbconvert_exporter": "python",
      "pygments_lexer": "ipython2",
      "version": "2.7.6"
    },
    "colab": {
      "provenance": [],
      "include_colab_link": true
    }
  },
  "cells": [
    {
      "cell_type": "markdown",
      "metadata": {
        "id": "view-in-github",
        "colab_type": "text"
      },
      "source": [
        "<a href=\"https://colab.research.google.com/github/Hamilton-at-CapU/comp215/blob/main/lessons/week01-models.ipynb\" target=\"_parent\"><img src=\"https://colab.research.google.com/assets/colab-badge.svg\" alt=\"Open In Colab\"/></a>"
      ]
    },
    {
      "cell_type": "markdown",
      "source": [
        "# Welcome to Comp 215!\n",
        "Our week 1 lesson workbook, available on Github from the [Hamilton-at-CapU/comp215](https://github.com/Hamilton-at-CapU/comp215) repository.\n",
        "\n",
        "As usual, the first code block just imports the modules we will use."
      ],
      "metadata": {
        "id": "WBMC0GrjNRTM"
      }
    },
    {
      "cell_type": "code",
      "execution_count": 2,
      "metadata": {
        "id": "C1a6aDXAM0WM",
        "ExecuteTime": {
          "end_time": "2023-12-30T22:13:40.129712Z",
          "start_time": "2023-12-30T22:13:40.123220Z"
        }
      },
      "outputs": [],
      "source": [
        "import matplotlib.pyplot as plt\n",
        "%matplotlib inline\n",
        "from pprint import pprint"
      ]
    },
    {
      "cell_type": "markdown",
      "source": [
        "## Using Code to gain insights\n",
        "\n",
        "How can a piece of code help us deepen our understanding of real-world phenomena?  Or explain complex concepts?"
      ],
      "metadata": {
        "id": "Cdg6xKGpLSh2"
      }
    },
    {
      "cell_type": "markdown",
      "source": [
        "\n",
        "### Duckweed Example\n",
        "Duckweed plants double every day in open water. If a pond starts with 2 duckweed plants on day 1 and is completely covered after one month (30 days), on what day is the pond half covered?"
      ],
      "metadata": {
        "id": "k70NJ-JTNwYN"
      }
    },
    {
      "cell_type": "code",
      "source": [
        "# code a model of the duckweed plant growth on the pond to answer the question"
      ],
      "metadata": {
        "id": "HZSz8IftqJ72",
        "ExecuteTime": {
          "end_time": "2023-12-30T22:13:40.133647Z",
          "start_time": "2023-12-30T22:13:40.126167Z"
        }
      },
      "execution_count": null,
      "outputs": []
    },
    {
      "cell_type": "markdown",
      "source": [
        "### Plot the Growth\n",
        "We'll use matplotlib for data visualizations throughout the coure, not because it is awesome, but because it is the standard tool used by computational and data scientists."
      ],
      "metadata": {
        "id": "b6w3F2yErxuB"
      }
    },
    {
      "cell_type": "code",
      "source": [
        "# ask ChatGPT to give you an example of a simple example of a matplotlib graph\n",
        "# use the response to plot your duckweek growth model\n"
      ],
      "metadata": {
        "id": "i_5lOF51r63i",
        "ExecuteTime": {
          "end_time": "2023-12-30T22:39:25.831093Z",
          "start_time": "2023-12-30T22:39:25.730333Z"
        }
      },
      "execution_count": null,
      "outputs": []
    }
  ]
}
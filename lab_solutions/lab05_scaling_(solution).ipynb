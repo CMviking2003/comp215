{
  "nbformat": 4,
  "nbformat_minor": 0,
  "metadata": {
    "colab": {
      "provenance": [],
      "include_colab_link": true
    },
    "kernelspec": {
      "name": "python3",
      "display_name": "Python 3"
    },
    "language_info": {
      "name": "python"
    }
  },
  "cells": [
    {
      "cell_type": "markdown",
      "metadata": {
        "id": "view-in-github",
        "colab_type": "text"
      },
      "source": [
        "<a href=\"https://colab.research.google.com/github/Hamilton-at-CapU/comp215/blob/main/lab_solutions/lab05_scaling_(solution).ipynb\" target=\"_parent\"><img src=\"https://colab.research.google.com/assets/colab-badge.svg\" alt=\"Open In Colab\"/></a>"
      ]
    },
    {
      "cell_type": "markdown",
      "source": [
        "COMP 215 - LAB 5\n",
        "----------------\n",
        "#### Name(s):\n",
        "#### Date:\n",
        "\n",
        "By the end of this lab you should be able to:\n",
        "  * apply both a direct (ie. brute force) and heuristic algorithm to a problem\n",
        "  * use the networkx module to visualize graphs\n",
        "  * measure algorithm scaling\n",
        "\n",
        "\n",
        "During this lab, you will be introduced to the following:\n",
        "  * seeding the random module\n",
        "\n"
      ],
      "metadata": {
        "id": "maj2ZJihN_mq"
      }
    },
    {
      "cell_type": "markdown",
      "source": [
        "## The Traveling Salesperson Problem\n",
        "\n",
        "This lab is based on the famous Traveling Salesperson Problem (TSP) outlined in Section 3.3.2 of 'On Complexity'.  Imagine you needed to travel to ten different cities.  What is the sortest possible route you could take to visit every city?  For our version of the problem, you start from a specific city and must end on the same city.\n",
        "\n",
        "In this lab, you will implement a direct (ie. brute force) and a heuristic solution to the problem."
      ],
      "metadata": {
        "id": "bXq2viKmFY-h"
      }
    },
    {
      "cell_type": "code",
      "source": [
        "# start with some imports\n",
        "import random, math, time, itertools\n",
        "import networkx as nx\n",
        "import matplotlib.pyplot as plt\n",
        "%matplotlib inline\n",
        "from pprint import pprint"
      ],
      "metadata": {
        "id": "XAr1Vf5HiC6N"
      },
      "execution_count": null,
      "outputs": []
    },
    {
      "cell_type": "markdown",
      "source": [
        "## Set up the map\n",
        "\n",
        "For this implementation of the problem we will randomly place N cities on a 100 by 100 grid.  Cities will be labelled using a single character; 'A', 'B', 'C', etc.  City locations will be denoted by a 2-tuple, `(x,y)`, giving their position on the grid. In order to create reproducable maps, we will use [random.seed()](https://docs.python.org/3/library/random.html#random.seed) to initialize the random module.  "
      ],
      "metadata": {
        "id": "P69qc4NLXcHA"
      }
    },
    {
      "cell_type": "code",
      "source": [
        "def setup_map(N, seed=1):\n",
        "  ''' Returns a map of N cities with random locations on a 100 by 100 grid '''\n",
        "  random.seed(seed)\n",
        "  city_locations = [(random.randint(0, 100), random.randint(0, 100)) for i in range(N)]\n",
        "  city_names = [chr(65 + i) for i in range(N)]\n",
        "  city_map = dict(zip(city_names, city_locations))\n",
        "  return city_map\n",
        "\n",
        "def graph_map(city_map):\n",
        "  ''' graph the map of cities using networkx'''\n",
        "  G = nx.Graph()\n",
        "  G.add_nodes_from(city_map)\n",
        "  nx.draw(G, city_map, with_labels=True)\n",
        "\n",
        "def distance(city1, city2, city_map):\n",
        "  ''' Returns the distance between two cities on a map'''\n",
        "  x1, y1 = city_map[city1]\n",
        "  x2, y2 = city_map[city2]\n",
        "  return round(math.sqrt((x2 - x1)**2 + (y2 - y1)**2),1)\n",
        "\n",
        "def calculate_distances(city_map):\n",
        "  ''' Returns a dictionary with the distances between all pairs of cities in a map '''\n",
        "  distances = {}\n",
        "  for city1 in city_map:\n",
        "      for city2 in city_map:\n",
        "          if city1 != city2:\n",
        "              # this will have duplicate distances (A,B) and (B,A)\n",
        "              # these duplicates make the algorithm implememntation simpler\n",
        "              distances[(city1, city2)] = distance(city1, city2, city_map)\n",
        "  return distances\n"
      ],
      "metadata": {
        "id": "lHqZss26iNtY"
      },
      "execution_count": null,
      "outputs": []
    },
    {
      "cell_type": "code",
      "source": [
        "# test our setup functions\n",
        "city_map = setup_map(10)\n",
        "print(f'City Map: {city_map}')\n",
        "distances = calculate_distances(city_map)\n",
        "print(f'Distances between cities: {distances}')\n",
        "graph_map(city_map)"
      ],
      "metadata": {
        "id": "d0ZFBtOPpU-P"
      },
      "execution_count": null,
      "outputs": []
    },
    {
      "cell_type": "markdown",
      "source": [
        "### Exercise 1: The Brute Force Solution\n",
        "\n",
        "Implement a brute force solution to the traveling salesman problem using the city map and distance dictionary given above.  The algorithm for the brute force solution looks something like this:\n",
        " 1. Loop over every possible route that starts and ends on city A.  For a three city example, this would be ABCA, ACBA.  \n",
        " 2. Calculate the total distance of each possible route.  \n",
        " 3. Find the route with the minimum total distance.\n",
        "\n",
        "Before you start coding, think about what functions and/or class you might want to simplify your implementation of the algorithm.  Write a small test for your algorithm."
      ],
      "metadata": {
        "id": "L_clDiVgOXjT"
      }
    },
    {
      "cell_type": "code",
      "source": [
        "# Ex. 1 your solution here"
      ],
      "metadata": {
        "id": "nLmzZgjwECtJ"
      },
      "execution_count": null,
      "outputs": []
    },
    {
      "cell_type": "code",
      "execution_count": null,
      "metadata": {
        "id": "l4c6_oaCN-fX"
      },
      "outputs": [],
      "source": [
        "# this solution is based on: https://medium.com/@davidlfliang/intro-python-algorithms-traveling-salesman-problem-ffa61f0bd47b\n",
        "\n",
        "def total_distance(route, distances):\n",
        "    ''' calculate the total distance of a route\n",
        "        paramters:  route (list) sequence of cities\n",
        "                    distances (dict) dictionary of distances between cities\n",
        "        returns: total distance (float)\n",
        "    '''\n",
        "    total_distance = 0\n",
        "    n = len(route)\n",
        "    for i in range(n):\n",
        "        current_city = route[i]\n",
        "        next_city = route[(i + 1) % n]  # Wrap around to the start of the route\n",
        "        total_distance += distances[(current_city, next_city)]\n",
        "    return round(total_distance,1)\n",
        "\n",
        "def brute_force_algorithm(city_map, distances):\n",
        "  ''' Brute force solution to the traveling salesman problem\n",
        "      parameters: city_map (dict) dictionary of cities and their locations\n",
        "                  distances (dict) dictionary of distances between cities\n",
        "      returns: optimal_route (tuple), min_distance (float)'''\n",
        "\n",
        "  # create the list of cities from the city map\n",
        "  cities = city_map.keys()\n",
        "\n",
        "  # Generate all permutations of the cities\n",
        "  all_permutations = itertools.permutations(cities)\n",
        "  valid_permutations = [perm for perm in all_permutations if perm[0] == 'A']\n",
        "\n",
        "  # Initialize variables to track the minimum distance and corresponding route\n",
        "  min_dist = float('inf')\n",
        "  optimal_route = None\n",
        "\n",
        "  # Iterate over valid permutations and calculate distance\n",
        "  for perm in valid_permutations:\n",
        "    dist = total_distance(perm, distances)\n",
        "    if dist < min_dist:\n",
        "        min_dist = dist\n",
        "        optimal_route = perm + (perm[0],)  # Add the starting city to the end of the route\n",
        "  return optimal_route, min_dist\n",
        "\n",
        "# Apply the brute force algorithm\n",
        "bf_route, bf_distance = brute_force_algorithm(city_map, distances)\n",
        "\n",
        "# Print the optimal route and its distance\n",
        "print(f\"Brute Force Optimal Route: {bf_route}\")\n",
        "print(f\"Total Distance: {bf_distance}\")\n"
      ]
    },
    {
      "cell_type": "markdown",
      "source": [
        "### Exercise 2: Nearest Neighbour\n",
        "\n",
        "Implement a nearest neighbour solution to the traveling salesman problem using the city map and distance dictionary given above.  The algorithm for the nearest neighbour solution looks something like this:\n",
        " 1. Start from the starting city.  \n",
        " 2. Go to the nearest city that has not been visited.  \n",
        " 3. Repeat steps 1 and 2 until all cities have been visited.\n",
        "\n",
        "Before you start coding, think about what functions and/or class you might want to simplify your implementation of the algorithm.  Write a small test for your algorithm."
      ],
      "metadata": {
        "id": "JhIjwjq-Oa4F"
      }
    },
    {
      "cell_type": "code",
      "source": [
        "# Ex.2 your code here"
      ],
      "metadata": {
        "id": "jrsQQyMLEFZ2"
      },
      "execution_count": null,
      "outputs": []
    },
    {
      "cell_type": "code",
      "source": [
        "# this solution is based on: https://medium.com/@davidlfliang/intro-python-algorithms-traveling-salesman-problem-ffa61f0bd47b\n",
        "# note that the online solution requires the distances dictionary to have distances in both directions, ie keys (A,B) and (B,A)\n",
        "\n",
        "# Nearest Neighbor Algorithm function\n",
        "def nearest_neighbor_algorithm(city_map, distances):\n",
        "    ''' Nearest neighbor solution to the traveling salesman problem\n",
        "        parameters: city_map (dict) dictionary of cities and their locations\n",
        "                    distances (dict) dictionary of distances between cities\n",
        "        returns: optimal_route (tuple), min_distance (float)'''\n",
        "\n",
        "    # initialize\n",
        "    cities = list(city_map.keys())\n",
        "    n = len(cities)\n",
        "    visited = [False] * n\n",
        "    path = []\n",
        "    total_distance = 0.0\n",
        "\n",
        "    # start from the first city\n",
        "    current_city = cities[0]\n",
        "    path.append(current_city)\n",
        "    visited[cities.index(current_city)] = True\n",
        "\n",
        "    # repeat until all cities are visited\n",
        "    while len(path) < n:\n",
        "        nearest_city = None\n",
        "        nearest_distance = float('inf')\n",
        "\n",
        "        # Find the nearest unvisited city\n",
        "        for city in cities:\n",
        "            if not visited[cities.index(city)] and (current_city, city) in distances:\n",
        "                distance = distances[(current_city, city)]\n",
        "                if distance < nearest_distance:\n",
        "                    nearest_distance = distance\n",
        "                    nearest_city = city\n",
        "\n",
        "        # Move to the nearest city\n",
        "        total_distance += nearest_distance\n",
        "        current_city = nearest_city\n",
        "        path.append(current_city)\n",
        "        visited[cities.index(current_city)] = True\n",
        "\n",
        "    # Return to the starting city\n",
        "    total_distance += distances.get((current_city, path[0]), distances.get((path[0], current_city)))\n",
        "    path.append(path[0])\n",
        "\n",
        "    return tuple(path), round(total_distance,1)\n",
        "\n",
        "# Apply nearest neighbor algorithm\n",
        "nn_route, nn_distance = nearest_neighbor_algorithm(city_map, distances)\n",
        "\n",
        "# Print the result\n",
        "print(\"Nearest Neighbor Optimal Route:\", nn_route)\n",
        "print(\"Total Distance:\", nn_distance)"
      ],
      "metadata": {
        "id": "jTqsedXYOh9m"
      },
      "execution_count": null,
      "outputs": []
    },
    {
      "cell_type": "markdown",
      "source": [
        "### Exercise 3: Graph the Routes\n",
        "\n",
        "Use the networkx module to create directed graphs of the routes (brute force and nearest neighbour).  Include the distances between the cities on the edges.  Run several different map setups with a different sizes (ie. number of cities).  Do the brute force (ie. direct) and nearest neighbour (ie. heuristic) algorithms always give the same solution?  Do you notice anything about the brute force solutions that suggests an alternative heuristic algorithm?\n"
      ],
      "metadata": {
        "id": "RzeiY9dFpBAC"
      }
    },
    {
      "cell_type": "code",
      "source": [
        "# Ex.3 your code here"
      ],
      "metadata": {
        "id": "U9NFv5PkEKO4"
      },
      "execution_count": null,
      "outputs": []
    },
    {
      "cell_type": "code",
      "source": [
        "def graph_route(route, title, subplot):\n",
        "  ''' graph the route of cities using networkx\n",
        "      parameters: route (tuple) of the route\n",
        "                  subplot (ax object) to graph the route on'''\n",
        "  G = nx.DiGraph()\n",
        "  G.add_nodes_from(city_map)\n",
        "  edges = []\n",
        "  for i in range(len(route)-1):\n",
        "    edges.append((route[i], route[i+1]))\n",
        "  G.add_edges_from(edges)\n",
        "  nx.draw(G, city_map, ax=subplot, with_labels=True)\n",
        "  subplot.set_title(title)\n",
        "\n",
        "  # draw edge labels\n",
        "  for edge in edges:\n",
        "    nx.draw_networkx_edge_labels(G, city_map, ax=subplot, edge_labels={edge: round(distances[edge])})\n",
        "\n",
        "# Create a figure with two subplots\n",
        "fig, axes = plt.subplots(1, 2, figsize=(20, 8))\n",
        "\n",
        "# graph the routes on the subplots\n",
        "graph_route(bf_route, 'Brute Force', axes[0])\n",
        "graph_route(nn_route, 'Nearest Neighbour', axes[1])\n"
      ],
      "metadata": {
        "id": "wUEXG0IK4aAg"
      },
      "execution_count": null,
      "outputs": []
    },
    {
      "cell_type": "markdown",
      "source": [
        "### Exercise 4: Algorithm Scaling\n",
        "\n",
        "Use the `time` module to measure the running time of the two algorithms.  Note that the `time.time()` function returns the current time, so calling it before and after the algorithm has run can give you the time it takes for the algorithm to execute.  Taking the average over several trials will make the measurement more precise.  Demonstrate the scaling nature of the algorithms by plotting their execution time as a function of N, up to about N = 10.  "
      ],
      "metadata": {
        "id": "HD2PiYXQV48y"
      }
    },
    {
      "cell_type": "code",
      "source": [
        "# Ex 4: your code here"
      ],
      "metadata": {
        "id": "DBpuwJ5SSNJB"
      },
      "execution_count": null,
      "outputs": []
    },
    {
      "cell_type": "code",
      "source": [
        "\n",
        "def timeit(algorithm, n_trials=10):\n",
        "  ''' time an algorithm by running it n_trials times and returning the average time\n",
        "      parameters: algorithm (function) to be timed\n",
        "                  n_trials (int) the number of times to run the algorithm\n",
        "      returns: (float) average exectution time of the algorithm\n",
        "  '''\n",
        "  total=0\n",
        "  for i in range(n_trials):\n",
        "    start= time.time()\n",
        "    algorithm(city_map, distances)\n",
        "    end= time.time()\n",
        "    total += end-start\n",
        "  return total/n_trials\n",
        "\n",
        "print(f'brute force: {timeit(brute_force_algorithm)} seconds')\n",
        "print(f'nearest neighbour {timeit(nearest_neighbor_algorithm)} seconds')\n",
        "\n"
      ],
      "metadata": {
        "id": "UdnBIXR4V4rE"
      },
      "execution_count": null,
      "outputs": []
    },
    {
      "cell_type": "code",
      "source": [
        "# determine the time for N cities for each algorithm\n",
        "bf_times = {}\n",
        "nn_times = {}\n",
        "for i in range(4,11):\n",
        "  print(f'N = {i}')\n",
        "  city_map = setup_map(i)\n",
        "  distances = calculate_distances(city_map)\n",
        "  bf_times[i] = timeit(brute_force_algorithm)\n",
        "  nn_times[i] = timeit(nearest_neighbor_algorithm)\n",
        "\n",
        "print(bf_times)\n",
        "print(nn_times)\n",
        "\n"
      ],
      "metadata": {
        "id": "7z9PUKWCHRZe"
      },
      "execution_count": null,
      "outputs": []
    },
    {
      "cell_type": "code",
      "source": [
        "# plot the time for each algorithm as a function of N\n",
        "plt.plot(list(bf_times.keys()), list(bf_times.values()), label='brute force')\n",
        "plt.plot(list(nn_times.keys()), list(nn_times.values()), label='nearest neighbour')\n",
        "plt.xlabel('N')\n",
        "plt.ylabel('Time (s)')\n",
        "plt.legend()\n",
        "plt.show()"
      ],
      "metadata": {
        "id": "ct2M6yQSRsVh"
      },
      "execution_count": null,
      "outputs": []
    }
  ]
}
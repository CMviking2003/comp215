{
  "nbformat": 4,
  "nbformat_minor": 0,
  "metadata": {
    "kernelspec": {
      "display_name": "Python 3",
      "language": "python",
      "name": "python3"
    },
    "language_info": {
      "codemirror_mode": {
        "name": "ipython",
        "version": 2
      },
      "file_extension": ".py",
      "mimetype": "text/x-python",
      "name": "python",
      "nbconvert_exporter": "python",
      "pygments_lexer": "ipython2",
      "version": "2.7.6"
    },
    "colab": {
      "provenance": [],
      "include_colab_link": true
    }
  },
  "cells": [
    {
      "cell_type": "markdown",
      "metadata": {
        "id": "view-in-github",
        "colab_type": "text"
      },
      "source": [
        "<a href=\"https://colab.research.google.com/github/CMviking2003/comp215/blob/main/labs/lab02-review.ipynb\" target=\"_parent\"><img src=\"https://colab.research.google.com/assets/colab-badge.svg\" alt=\"Open In Colab\"/></a>"
      ]
    },
    {
      "cell_type": "markdown",
      "source": [
        "COMP 215 - LAB 2\n",
        "----------------\n",
        "#### Name(s):\n",
        "#### Date:\n",
        "\n",
        "By the end of this lab you should be able to:\n",
        "  * use strings, tuples, lists, and dictionaries (review)\n",
        "  * use *f-string* to simplify string formatting operations\n",
        "  * write functions and simple unit tests (review)\n",
        "  * use *list comprehension* to implement map and filter algorithms\n",
        "\n",
        "\n",
        "During this lab, you will be introduced to the following:\n",
        "  * API Keys\n",
        "  * JSON data formats\n",
        "  * the `datetime` module to represent dates and times\n",
        "  * the `pprint` module to format data structures"
      ],
      "metadata": {
        "id": "nbRPZPKZU5Pk"
      }
    },
    {
      "cell_type": "markdown",
      "source": [
        "## Near Earth Objects\n",
        "\n",
        "In this lab, we'll answer some questions about [Near Earth Objects](https://cneos.jpl.nasa.gov/) using NASA's API:  [https://api.nasa.gov/](https://api.nasa.gov/#NeoWS).  But, as usual, let's do the imports first.\n"
      ],
      "metadata": {
        "id": "UtWS08rgocwz"
      }
    },
    {
      "cell_type": "code",
      "execution_count": 3,
      "outputs": [],
      "source": [
        "import datetime, json, requests\n",
        "from pprint import pprint    # Pretty Print - built-in python function to nicely format data structures"
      ],
      "metadata": {
        "pycharm": {
          "name": "#%%\n"
        },
        "ExecuteTime": {
          "end_time": "2024-01-04T04:05:38.688434Z",
          "start_time": "2024-01-04T04:05:38.640552Z"
        },
        "id": "uckgiW6LmxA_"
      }
    },
    {
      "cell_type": "markdown",
      "source": [
        "### dates & f-strings\n",
        "\n",
        "First we need a short tutorial on python dates and [f-strings](https://realpython.com/python-f-strings/)..."
      ],
      "metadata": {
        "collapsed": false,
        "pycharm": {
          "name": "#%% md\n"
        },
        "id": "z7R9AVbYmxBA"
      }
    },
    {
      "cell_type": "code",
      "execution_count": 4,
      "outputs": [
        {
          "output_type": "stream",
          "name": "stdout",
          "text": [
            "2025-01-16 <class 'datetime.date'>\n",
            "Today is: 2025-01-16\n"
          ]
        }
      ],
      "source": [
        "today = datetime.date.today()   # get a date object representing today's date\n",
        "print(today, type(today))\n",
        "formatted_date = f'Today is: {today}'   # A format string - notice how the variable `today` is formatted into the string\n",
        "print(formatted_date)"
      ],
      "metadata": {
        "pycharm": {
          "name": "#%%\n"
        },
        "ExecuteTime": {
          "end_time": "2024-01-04T04:05:38.691283Z",
          "start_time": "2024-01-04T04:05:38.688366Z"
        },
        "colab": {
          "base_uri": "https://localhost:8080/"
        },
        "id": "FIqwOe5SmxBA",
        "outputId": "80421e3d-227d-43a4-b3c4-8bb64ee6c08f"
      }
    },
    {
      "cell_type": "markdown",
      "source": [
        "### Make an API Query\n",
        "\n",
        "Let's get some data from the NEO database; here's a query that gets the observation \"feed\" for today.  Notice the first line of the block is an 'API key'.  An API key is a unique identifier that authenticates a user when making a request to an API.  Run the block below using the API key 'DEMO_KEY' (just to be sure it works), then go to https://api.nasa.gov and get your own API key.  Use your own API key for the remainder of the lab."
      ],
      "metadata": {
        "collapsed": false,
        "pycharm": {
          "name": "#%% md\n"
        },
        "id": "NyY93KiOmxBB"
      }
    },
    {
      "cell_type": "code",
      "execution_count": 15,
      "outputs": [
        {
          "output_type": "stream",
          "name": "stdout",
          "text": [
            "14 Near Earth Objects found for 2023-01-09\n",
            "[{'absolute_magnitude_h': 19.62,\n",
            "  'close_approach_data': [{'close_approach_date': '2023-01-09',\n",
            "                           'close_approach_date_full': '2023-Jan-09 13:59',\n",
            "                           'epoch_date_close_approach': 1673272740000,\n",
            "                           'miss_distance': {'astronomical': '0.0725378623',\n",
            "                                             'kilometers': '10851509.694433301',\n",
            "                                             'lunar': '28.2172284347',\n",
            "                                             'miles': '6742815.4556135138'},\n",
            "                           'orbiting_body': 'Earth',\n",
            "                           'relative_velocity': {'kilometers_per_hour': '32387.3479203461',\n",
            "                                                 'kilometers_per_second': '8.9964855334',\n",
            "                                                 'miles_per_hour': '20124.2384897284'}}],\n",
            "  'estimated_diameter': {'feet': {'estimated_diameter_max': 2322.8706681664,\n",
            "                                  'estimated_diameter_min': 1038.8193433921},\n",
            "                         'kilometers': {'estimated_diameter_max': 0.708010957,\n",
            "                                        'estimated_diameter_min': 0.3166321257},\n",
            "                         'meters': {'estimated_diameter_max': 708.0109570008,\n",
            "                                    'estimated_diameter_min': 316.6321257337},\n",
            "                         'miles': {'estimated_diameter_max': 0.4399374764,\n",
            "                                   'estimated_diameter_min': 0.1967460206}},\n",
            "  'id': '2226554',\n",
            "  'is_potentially_hazardous_asteroid': True,\n",
            "  'is_sentry_object': False,\n",
            "  'links': {'self': 'http://api.nasa.gov/neo/rest/v1/neo/2226554?api_key=Z6bnpeBjUGlGfBgMy68HVuEhJoMX0bjDf1qc9RgD'},\n",
            "  'name': '226554 (2003 WR21)',\n",
            "  'nasa_jpl_url': 'https://ssd.jpl.nasa.gov/tools/sbdb_lookup.html#/?sstr=2226554',\n",
            "  'neo_reference_id': '2226554'}]\n"
          ]
        }
      ],
      "source": [
        "API_KEY = 'Z6bnpeBjUGlGfBgMy68HVuEhJoMX0bjDf1qc9RgD'  # substitute your API key here\n",
        "\n",
        "# get today's date (as a string)\n",
        "#today = str(datetime.date.today())\n",
        "today = '2023-01-09'\n",
        "\n",
        "# use an f-string to \"format\" the date and API key varaibles.\n",
        "url = f'https://api.nasa.gov/neo/rest/v1/feed?start_date={today}&end_date={today}&api_key={API_KEY}'\n",
        "\n",
        "# make the API request (recall from lab 1)\n",
        "response = requests.request(\"GET\", url, headers={}, data={})\n",
        "\n",
        "# convert the response to json format (recall from lab 1)\n",
        "data = json.loads(response.text)\n",
        "\n",
        "# TIP: print(data) to see the whole data structure returned, here we grab just the list of NEO's:\n",
        "n_results = data['element_count']\n",
        "neos = data['near_earth_objects'][today]\n",
        "print(f'{n_results} Near Earth Objects found for {today}')\n",
        "pprint(neos[:1])"
      ],
      "metadata": {
        "collapsed": true,
        "pycharm": {
          "name": "#%%\n"
        },
        "ExecuteTime": {
          "end_time": "2024-01-04T04:05:43.064157Z",
          "start_time": "2024-01-04T04:05:38.691252Z"
        },
        "id": "vZYx2VfXmxBB",
        "outputId": "b597cbc3-5d3b-40c7-9705-02ad3272bf6c",
        "colab": {
          "base_uri": "https://localhost:8080/"
        }
      }
    },
    {
      "cell_type": "markdown",
      "source": [
        "Next we extract just the potentially hazerdous asteroids, using a Comp115-style list accumulator *loop*:"
      ],
      "metadata": {
        "collapsed": false,
        "pycharm": {
          "name": "#%% md\n"
        },
        "id": "g7VOkS2PmxBB"
      }
    },
    {
      "cell_type": "code",
      "execution_count": 16,
      "metadata": {
        "id": "JDGbYTySU3BP",
        "ExecuteTime": {
          "end_time": "2024-01-04T04:05:43.065108Z",
          "start_time": "2024-01-04T04:05:43.062239Z"
        },
        "colab": {
          "base_uri": "https://localhost:8080/"
        },
        "outputId": "6bb3880c-fd60-4afe-eb3a-58a2b970f848"
      },
      "outputs": [
        {
          "output_type": "stream",
          "name": "stdout",
          "text": [
            "3 potentially hazardous asteroids identified.\n"
          ]
        }
      ],
      "source": [
        "hazards =  []\n",
        "for item in neos:\n",
        "  if item['is_potentially_hazardous_asteroid'] is True:\n",
        "    hazards.append(item)\n",
        "print(f'{len(hazards)} potentially hazardous asteroids identified.')"
      ]
    },
    {
      "cell_type": "markdown",
      "source": [
        "### Fetch Complete Data for One Asteroid\n",
        "\n",
        "Notice that the record for each `neo` is a dictionary with `id` field that uniquely identifies this record in the database.  We can use this `id` to fetch complete orbital and close approach data for the NEO.  For example, this query fetches the complete data set for the first hazardous asteroid...  Notice that the `miss_distance` field contains the distance (in various units) by which the NEO missed an \"orbiting body\".\n"
      ],
      "metadata": {
        "collapsed": false,
        "pycharm": {
          "name": "#%% md\n"
        },
        "id": "Um5gAiVTmxBC"
      }
    },
    {
      "cell_type": "code",
      "execution_count": 17,
      "outputs": [
        {
          "output_type": "stream",
          "name": "stdout",
          "text": [
            "{'links': {'self': 'http://api.nasa.gov/neo/rest/v1/neo/2226554?api_key=Z6bnpeBjUGlGfBgMy68HVuEhJoMX0bjDf1qc9RgD'}, 'id': '2226554', 'neo_reference_id': '2226554', 'name': '226554 (2003 WR21)', 'designation': '226554', 'nasa_jpl_url': 'https://ssd.jpl.nasa.gov/tools/sbdb_lookup.html#/?sstr=2226554', 'absolute_magnitude_h': 19.62, 'estimated_diameter': {'kilometers': {'estimated_diameter_min': 0.3166321257, 'estimated_diameter_max': 0.708010957}, 'meters': {'estimated_diameter_min': 316.6321257337, 'estimated_diameter_max': 708.0109570008}, 'miles': {'estimated_diameter_min': 0.1967460206, 'estimated_diameter_max': 0.4399374764}, 'feet': {'estimated_diameter_min': 1038.8193433921, 'estimated_diameter_max': 2322.8706681664}}, 'is_potentially_hazardous_asteroid': True, 'close_approach_data': [{'close_approach_date': '1900-10-30', 'close_approach_date_full': '1900-Oct-30 21:15', 'epoch_date_close_approach': -2182819500000, 'relative_velocity': {'kilometers_per_second': '8.3411019969', 'kilometers_per_hour': '30027.9671888418', 'miles_per_hour': '18658.2110568667'}, 'miss_distance': {'astronomical': '0.4183488933', 'lunar': '162.7377194937', 'kilometers': '62584103.354537271', 'miles': '38887958.5659094998'}, 'orbiting_body': 'Earth'}, {'close_approach_date': '1901-06-26', 'close_approach_date_full': '1901-Jun-26 20:27', 'epoch_date_close_approach': -2162172780000, 'relative_velocity': {'kilometers_per_second': '9.2858274948', 'kilometers_per_hour': '33428.9789814113', 'miles_per_hour': '20771.4675231997'}, 'miss_distance': {'astronomical': '0.0308794402', 'lunar': '12.0121022378', 'kilometers': '4619498.480712374', 'miles': '2870423.2526198012'}, 'orbiting_body': 'Earth'}, {'close_approach_date': '1907-01-08', 'close_approach_date_full': '1907-Jan-08 04:37', 'epoch_date_close_approach': -1987528980000, 'relative_velocity': {'kilometers_per_second': '6.6782869033', 'kilometers_per_hour': '24041.8328517503', 'miles_per_hour': '14938.6599739112'}, 'miss_distance': {'astronomical': '0.124028823', 'lunar': '48.247212147', 'kilometers': '18554447.73940701', 'miles': '11529199.209196338'}, 'orbiting_body': 'Earth'}, {'close_approach_date': '1907-09-06', 'close_approach_date_full': '1907-Sep-06 10:51', 'epoch_date_close_approach': -1966684140000, 'relative_velocity': {'kilometers_per_second': '7.3667184989', 'kilometers_per_hour': '26520.1865961954', 'miles_per_hour': '16478.612610286'}, 'miss_distance': {'astronomical': '0.4147265915', 'lunar': '161.3286440935', 'kilometers': '62042214.720760105', 'miles': '38551244.582515249'}, 'orbiting_body': 'Earth'}, {'close_approach_date': '1909-08-06', 'close_approach_date_full': '1909-Aug-06 06:41', 'epoch_date_close_approach': -1906219140000, 'relative_velocity': {'kilometers_per_second': '2.1700962842', 'kilometers_per_hour': '7812.3466230468', 'miles_per_hour': '4854.2883780815'}, 'miss_distance': {'astronomical': '0.1317216016', 'lunar': '51.2397030224', 'kilometers': '19705271.032348592', 'miles': '12244287.6443388896'}, 'orbiting_body': 'Venus'}, {'close_approach_date': '1912-12-22', 'close_approach_date_full': '1912-Dec-22 20:02', 'epoch_date_close_approach': -1799553480000, 'relative_velocity': {'kilometers_per_second': '21.9138163472', 'kilometers_per_hour': '78889.7388498786', 'miles_per_hour': '49019.015787026'}, 'miss_distance': {'astronomical': '0.4621482336', 'lunar': '179.7756628704', 'kilometers': '69136391.370822432', 'miles': '42959361.5457642816'}, 'orbiting_body': 'Earth'}, {'close_approach_date': '1913-10-29', 'close_approach_date_full': '1913-Oct-29 19:08', 'epoch_date_close_approach': -1772686320000, 'relative_velocity': {'kilometers_per_second': '8.3933930312', 'kilometers_per_hour': '30216.2149123593', 'miles_per_hour': '18775.1808715157'}, 'miss_distance': {'astronomical': '0.4230481677', 'lunar': '164.5657372353', 'kilometers': '63287104.795322799', 'miles': '39324783.4053766662'}, 'orbiting_body': 'Earth'}, {'close_approach_date': '1914-06-28', 'close_approach_date_full': '1914-Jun-28 14:48', 'epoch_date_close_approach': -1751793120000, 'relative_velocity': {'kilometers_per_second': '9.7786883392', 'kilometers_per_hour': '35203.2780209607', 'miles_per_hour': '21873.9479458575'}, 'miss_distance': {'astronomical': '0.0438448039', 'lunar': '17.0556287171', 'kilometers': '6559089.274007693', 'miles': '4075629.0854364434'}, 'orbiting_body': 'Earth'}, {'close_approach_date': '1919-12-30', 'close_approach_date_full': '1919-Dec-30 11:26', 'epoch_date_close_approach': -1578054840000, 'relative_velocity': {'kilometers_per_second': '6.1998655811', 'kilometers_per_hour': '22319.5160919295', 'miles_per_hour': '13868.4793183436'}, 'miss_distance': {'astronomical': '0.1880360196', 'lunar': '73.1460116244', 'kilometers': '28129788.015438252', 'miles': '17479039.7589497976'}, 'orbiting_body': 'Earth'}, {'close_approach_date': '1920-02-20', 'close_approach_date_full': '1920-Feb-20 02:19', 'epoch_date_close_approach': -1573594860000, 'relative_velocity': {'kilometers_per_second': '5.265839432', 'kilometers_per_hour': '18957.0219550665', 'miles_per_hour': '11779.1562253579'}, 'miss_distance': {'astronomical': '0.2017013202', 'lunar': '78.4618135578', 'kilometers': '30174087.878107974', 'miles': '18749308.7904550812'}, 'orbiting_body': 'Earth'}, {'close_approach_date': '1920-08-27', 'close_approach_date_full': '1920-Aug-27 00:15', 'epoch_date_close_approach': -1557272700000, 'relative_velocity': {'kilometers_per_second': '6.8832024682', 'kilometers_per_hour': '24779.5288853952', 'miles_per_hour': '15397.035601039'}, 'miss_distance': {'astronomical': '0.3922373044', 'lunar': '152.5803114116', 'kilometers': '58677865.272781628', 'miles': '36460734.7737693464'}, 'orbiting_body': 'Earth'}, {'close_approach_date': '1924-12-19', 'close_approach_date_full': '1924-Dec-19 14:32', 'epoch_date_close_approach': -1421141280000, 'relative_velocity': {'kilometers_per_second': '2.0894582746', 'kilometers_per_hour': '7522.0497886766', 'miles_per_hour': '4673.9092145252'}, 'miss_distance': {'astronomical': '0.1361653344', 'lunar': '52.9683150816', 'kilometers': '20370043.994077728', 'miles': '12657358.4084115264'}, 'orbiting_body': 'Venus'}, {'close_approach_date': '1925-12-28', 'close_approach_date_full': '1925-Dec-28 17:32', 'epoch_date_close_approach': -1388816880000, 'relative_velocity': {'kilometers_per_second': '18.1152921489', 'kilometers_per_hour': '65215.0517359122', 'miles_per_hour': '40522.097007795'}, 'miss_distance': {'astronomical': '0.3364529381', 'lunar': '130.8801929209', 'kilometers': '50332642.895001847', 'miles': '31275254.0421536086'}, 'orbiting_body': 'Earth'}, {'close_approach_date': '1926-10-17', 'close_approach_date_full': '1926-Oct-17 17:33', 'epoch_date_close_approach': -1363501620000, 'relative_velocity': {'kilometers_per_second': '8.4522826541', 'kilometers_per_hour': '30428.2175547942', 'miles_per_hour': '18906.9110689775'}, 'miss_distance': {'astronomical': '0.4449030569', 'lunar': '173.0672891341', 'kilometers': '66556549.668728803', 'miles': '41356322.2460033614'}, 'orbiting_body': 'Earth'}, {'close_approach_date': '1927-07-07', 'close_approach_date_full': '1927-Jul-07 13:11', 'epoch_date_close_approach': -1340794140000, 'relative_velocity': {'kilometers_per_second': '13.4355104489', 'kilometers_per_hour': '48367.8376159104', 'miles_per_hour': '30053.8933230639'}, 'miss_distance': {'astronomical': '0.1747005339', 'lunar': '67.9585076871', 'kilometers': '26134827.759302793', 'miles': '16239428.9373048234'}, 'orbiting_body': 'Earth'}, {'close_approach_date': '1932-12-06', 'close_approach_date_full': '1932-Dec-06 07:37', 'epoch_date_close_approach': -1169828580000, 'relative_velocity': {'kilometers_per_second': '7.1672326836', 'kilometers_per_hour': '25802.0376608777', 'miles_per_hour': '16032.3827898937'}, 'miss_distance': {'astronomical': '0.2949642119', 'lunar': '114.7410784291', 'kilometers': '44126017.826468653', 'miles': '27418636.0583192914'}, 'orbiting_body': 'Earth'}, {'close_approach_date': '1933-04-15', 'close_approach_date_full': '1933-Apr-15 01:33', 'epoch_date_close_approach': -1158618420000, 'relative_velocity': {'kilometers_per_second': '7.3756516774', 'kilometers_per_hour': '26552.346038622', 'miles_per_hour': '16498.5952371649'}, 'miss_distance': {'astronomical': '0.2180156964', 'lunar': '84.8081058996', 'kilometers': '32614683.808006668', 'miles': '20265824.7795132984'}, 'orbiting_body': 'Earth'}, {'close_approach_date': '1933-07-30', 'close_approach_date_full': '1933-Jul-30 19:05', 'epoch_date_close_approach': -1149396900000, 'relative_velocity': {'kilometers_per_second': '5.4404853559', 'kilometers_per_hour': '19585.7472813666', 'miles_per_hour': '12169.8216926914'}, 'miss_distance': {'astronomical': '0.317837267', 'lunar': '123.638696863', 'kilometers': '47547778.14982129', 'miles': '29544819.330822202'}, 'orbiting_body': 'Earth'}, {'close_approach_date': '1939-01-04', 'close_approach_date_full': '1939-Jan-04 13:15', 'epoch_date_close_approach': -978000300000, 'relative_velocity': {'kilometers_per_second': '13.2784406687', 'kilometers_per_hour': '47802.3864073193', 'miles_per_hour': '29702.5439318146'}, 'miss_distance': {'astronomical': '0.1772516635', 'lunar': '68.9508971015', 'kilometers': '26516471.313556745', 'miles': '16476571.245483281'}, 'orbiting_body': 'Earth'}, {'close_approach_date': '1939-10-02', 'close_approach_date_full': '1939-Oct-02 23:40', 'epoch_date_close_approach': -954548400000, 'relative_velocity': {'kilometers_per_second': '8.2688773631', 'kilometers_per_hour': '29767.95850699', 'miles_per_hour': '18496.6517734127'}, 'miss_distance': {'astronomical': '0.4508022741', 'lunar': '175.3620846249', 'kilometers': '67439059.996516167', 'miles': '41904688.7355984246'}, 'orbiting_body': 'Earth'}, {'close_approach_date': '1940-07-15', 'close_approach_date_full': '1940-Jul-15 08:32', 'epoch_date_close_approach': -929806080000, 'relative_velocity': {'kilometers_per_second': '17.9365891289', 'kilometers_per_hour': '64571.7208638784', 'miles_per_hour': '40122.356222336'}, 'miss_distance': {'astronomical': '0.3345358033', 'lunar': '130.1344274837', 'kilometers': '50045843.612418971', 'miles': '31097045.2316089598'}, 'orbiting_body': 'Earth'}, {'close_approach_date': '1945-11-18', 'close_approach_date_full': '1945-Nov-18 06:11', 'epoch_date_close_approach': -761161740000, 'relative_velocity': {'kilometers_per_second': '7.9385392957', 'kilometers_per_hour': '28578.7414644838', 'miles_per_hour': '17757.7185505288'}, 'miss_distance': {'astronomical': '0.3687537201', 'lunar': '143.4451971189', 'kilometers': '55164771.081536187', 'miles': '34277799.2673939006'}, 'orbiting_body': 'Earth'}, {'close_approach_date': '1946-05-31', 'close_approach_date_full': '1946-May-31 01:46', 'epoch_date_close_approach': -744416040000, 'relative_velocity': {'kilometers_per_second': '6.7030949373', 'kilometers_per_hour': '24131.1417743834', 'miles_per_hour': '14994.1530653106'}, 'miss_distance': {'astronomical': '0.1446798965', 'lunar': '56.2804797385', 'kilometers': '21643804.348220455', 'miles': '13448836.391154079'}, 'orbiting_body': 'Earth'}, {'close_approach_date': '1952-01-09', 'close_approach_date_full': '1952-Jan-09 10:55', 'epoch_date_close_approach': -567349500000, 'relative_velocity': {'kilometers_per_second': '9.2301451539', 'kilometers_per_hour': '33228.5225541053', 'miles_per_hour': '20646.9116947995'}, 'miss_distance': {'astronomical': '0.073295818', 'lunar': '28.512073202', 'kilometers': '10964898.25270766', 'miles': '6813271.838619308'}, 'orbiting_body': 'Earth'}, {'close_approach_date': '1952-09-18', 'close_approach_date_full': '1952-Sep-18 12:09', 'epoch_date_close_approach': -545485860000, 'relative_velocity': {'kilometers_per_second': '7.8875746537', 'kilometers_per_hour': '28395.26875344', 'miles_per_hour': '17643.7157429361'}, 'miss_distance': {'astronomical': '0.4381149253', 'lunar': '170.4267059417', 'kilometers': '65541059.640089111', 'miles': '40725326.0018912918'}, 'orbiting_body': 'Earth'}, {'close_approach_date': '1953-07-22', 'close_approach_date_full': '1953-Jul-22 08:42', 'epoch_date_close_approach': -518973480000, 'relative_velocity': {'kilometers_per_second': '21.775897402', 'kilometers_per_hour': '78393.2306473634', 'miles_per_hour': '48710.5048986354'}, 'miss_distance': {'astronomical': '0.4679450136', 'lunar': '182.0306102904', 'kilometers': '70003577.311681032', 'miles': '43498205.9028689616'}, 'orbiting_body': 'Earth'}, {'close_approach_date': '1958-11-06', 'close_approach_date_full': '1958-Nov-06 23:00', 'epoch_date_close_approach': -351910800000, 'relative_velocity': {'kilometers_per_second': '8.2838600154', 'kilometers_per_hour': '29821.896055332', 'miles_per_hour': '18530.1664683811'}, 'miss_distance': {'astronomical': '0.405216778', 'lunar': '157.629326642', 'kilometers': '60619566.87706286', 'miles': '37667252.203713068'}, 'orbiting_body': 'Earth'}, {'close_approach_date': '1959-06-22', 'close_approach_date_full': '1959-Jun-22 11:57', 'epoch_date_close_approach': -332251380000, 'relative_velocity': {'kilometers_per_second': '8.0196819248', 'kilometers_per_hour': '28870.8549292333', 'miles_per_hour': '17939.2264975561'}, 'miss_distance': {'astronomical': '0.0488501054', 'lunar': '19.0026910006', 'kilometers': '7307871.717115498', 'miles': '4540900.9206419524'}, 'orbiting_body': 'Earth'}, {'close_approach_date': '1965-01-09', 'close_approach_date_full': '1965-Jan-09 06:20', 'epoch_date_close_approach': -157052400000, 'relative_velocity': {'kilometers_per_second': '7.5028922675', 'kilometers_per_hour': '27010.412163149', 'miles_per_hour': '16783.2197132634'}, 'miss_distance': {'astronomical': '0.09189492', 'lunar': '35.74712388', 'kilometers': '13747284.2958204', 'miles': '8542166.35590552'}, 'orbiting_body': 'Earth'}, {'close_approach_date': '1965-09-11', 'close_approach_date_full': '1965-Sep-11 11:07', 'epoch_date_close_approach': -135867180000, 'relative_velocity': {'kilometers_per_second': '7.5785862035', 'kilometers_per_hour': '27282.9103324999', 'miles_per_hour': '16952.5394785469'}, 'miss_distance': {'astronomical': '0.4256120505', 'lunar': '165.5630876445', 'kilometers': '63670656.201132435', 'miles': '39563111.197540203'}, 'orbiting_body': 'Earth'}, {'close_approach_date': '1970-12-22', 'close_approach_date_full': '1970-Dec-22 03:21', 'epoch_date_close_approach': 30684060000, 'relative_velocity': {'kilometers_per_second': '22.9961259865', 'kilometers_per_hour': '82786.0535514853', 'miles_per_hour': '51440.0342192549'}, 'miss_distance': {'astronomical': '0.4970937369', 'lunar': '193.3694636541', 'kilometers': '74364164.230580403', 'miles': '46207748.9710914414'}, 'orbiting_body': 'Earth'}, {'close_approach_date': '1971-11-02', 'close_approach_date_full': '1971-Nov-02 20:26', 'epoch_date_close_approach': 57961560000, 'relative_velocity': {'kilometers_per_second': '8.3421298385', 'kilometers_per_hour': '30031.6674187783', 'miles_per_hour': '18660.5102358515'}, 'miss_distance': {'astronomical': '0.4161215604', 'lunar': '161.8712869956', 'kilometers': '62250899.096916348', 'miles': '38680915.0409596824'}, 'orbiting_body': 'Earth'}, {'close_approach_date': '1972-06-25', 'close_approach_date_full': '1972-Jun-25 18:40', 'epoch_date_close_approach': 78345600000, 'relative_velocity': {'kilometers_per_second': '8.9679724854', 'kilometers_per_hour': '32284.7009474174', 'miles_per_hour': '20060.4576525772'}, 'miss_distance': {'astronomical': '0.0287693216', 'lunar': '11.1912661024', 'kilometers': '4303829.232704992', 'miles': '2674275.4774012096'}, 'orbiting_body': 'Earth'}, {'close_approach_date': '1978-01-06', 'close_approach_date_full': '1978-Jan-06 06:31', 'epoch_date_close_approach': 252916260000, 'relative_velocity': {'kilometers_per_second': '6.3493030714', 'kilometers_per_hour': '22857.4910570846', 'miles_per_hour': '14202.7560404424'}, 'miss_distance': {'astronomical': '0.1452315766', 'lunar': '56.4950832974', 'kilometers': '21726334.516101842', 'miles': '13500118.2595037396'}, 'orbiting_body': 'Earth'}, {'close_approach_date': '1978-09-03', 'close_approach_date_full': '1978-Sep-03 16:17', 'epoch_date_close_approach': 273687420000, 'relative_velocity': {'kilometers_per_second': '7.2527051895', 'kilometers_per_hour': '26109.7386823731', 'miles_per_hour': '16223.5762385001'}, 'miss_distance': {'astronomical': '0.4089770823', 'lunar': '159.0920850147', 'kilometers': '61182100.390894701', 'miles': '38016794.3207248338'}, 'orbiting_body': 'Earth'}, {'close_approach_date': '1983-12-26', 'close_approach_date_full': '1983-Dec-26 09:46', 'epoch_date_close_approach': 441279960000, 'relative_velocity': {'kilometers_per_second': '20.204909549', 'kilometers_per_hour': '72737.6743763478', 'miles_per_hour': '45196.3621701257'}, 'miss_distance': {'astronomical': '0.4048337976', 'lunar': '157.4803472664', 'kilometers': '60562273.824971112', 'miles': '37631651.9519488656'}, 'orbiting_body': 'Earth'}, {'close_approach_date': '1984-10-24', 'close_approach_date_full': '1984-Oct-24 02:43', 'epoch_date_close_approach': 467433780000, 'relative_velocity': {'kilometers_per_second': '8.4733058363', 'kilometers_per_hour': '30503.901010855', 'miles_per_hour': '18953.9378253282'}, 'miss_distance': {'astronomical': '0.4350101183', 'lunar': '169.2189360187', 'kilometers': '65076587.126128021', 'miles': '40436716.1647318498'}, 'orbiting_body': 'Earth'}, {'close_approach_date': '1985-07-02', 'close_approach_date_full': '1985-Jul-02 21:01', 'epoch_date_close_approach': 489186060000, 'relative_velocity': {'kilometers_per_second': '11.3879590833', 'kilometers_per_hour': '40996.6526999574', 'miles_per_hour': '25473.7256734819'}, 'miss_distance': {'astronomical': '0.1010078571', 'lunar': '39.2920564119', 'kilometers': '15110560.275424377', 'miles': '9389266.7690633226'}, 'orbiting_body': 'Earth'}, {'close_approach_date': '1990-12-18', 'close_approach_date_full': '1990-Dec-18 07:58', 'epoch_date_close_approach': 661507080000, 'relative_velocity': {'kilometers_per_second': '6.6298431778', 'kilometers_per_hour': '23867.4354399315', 'miles_per_hour': '14830.2962043285'}, 'miss_distance': {'astronomical': '0.24398018', 'lunar': '94.90829002', 'kilometers': '36498915.2502166', 'miles': '22679374.27992508'}, 'orbiting_body': 'Earth'}, {'close_approach_date': '1991-03-23', 'close_approach_date_full': '1991-Mar-23 17:01', 'epoch_date_close_approach': 669747660000, 'relative_velocity': {'kilometers_per_second': '6.9266444815', 'kilometers_per_hour': '24935.9201332206', 'miles_per_hour': '15494.2110405559'}, 'miss_distance': {'astronomical': '0.2222875797', 'lunar': '86.4698685033', 'kilometers': '33253748.450575239', 'miles': '20662921.1348027382'}, 'orbiting_body': 'Earth'}, {'close_approach_date': '1991-08-17', 'close_approach_date_full': '1991-Aug-17 15:32', 'epoch_date_close_approach': 682443120000, 'relative_velocity': {'kilometers_per_second': '6.3410750069', 'kilometers_per_hour': '22827.8700246788', 'miles_per_hour': '14184.3506828345'}, 'miss_distance': {'astronomical': '0.3635085424', 'lunar': '141.4048229936', 'kilometers': '54380103.669844688', 'miles': '33790229.5466771744'}, 'orbiting_body': 'Earth'}, {'close_approach_date': '1996-12-31', 'close_approach_date_full': '1996-Dec-31 18:58', 'epoch_date_close_approach': 852058680000, 'relative_velocity': {'kilometers_per_second': '15.8754690687', 'kilometers_per_hour': '57151.6886471803', 'miles_per_hour': '35511.8367596882'}, 'miss_distance': {'astronomical': '0.2617179976', 'lunar': '101.8083010664', 'kilometers': '39152454.981625112', 'miles': '24328207.4116140656'}, 'orbiting_body': 'Earth'}, {'close_approach_date': '1997-10-10', 'close_approach_date_full': '1997-Oct-10 21:51', 'epoch_date_close_approach': 876520260000, 'relative_velocity': {'kilometers_per_second': '8.4224699514', 'kilometers_per_hour': '30320.8918251272', 'miles_per_hour': '18840.2230343409'}, 'miss_distance': {'astronomical': '0.4499914413', 'lunar': '175.0466706657', 'kilometers': '67317761.136710031', 'miles': '41829317.1191431878'}, 'orbiting_body': 'Earth'}, {'close_approach_date': '1998-07-11', 'close_approach_date_full': '1998-Jul-11 12:30', 'epoch_date_close_approach': 900160200000, 'relative_velocity': {'kilometers_per_second': '15.417599841', 'kilometers_per_hour': '55503.3594274254', 'miles_per_hour': '34487.6290842244'}, 'miss_distance': {'astronomical': '0.2461746981', 'lunar': '95.7619575609', 'kilometers': '36827210.483653047', 'miles': '22883367.4786921686'}, 'orbiting_body': 'Earth'}, {'close_approach_date': '2003-02-15', 'close_approach_date_full': '2003-Feb-15 17:49', 'epoch_date_close_approach': 1045331340000, 'relative_velocity': {'kilometers_per_second': '2.3323860304', 'kilometers_per_hour': '8396.5897094797', 'miles_per_hour': '5217.3143114264'}, 'miss_distance': {'astronomical': '0.1392390213', 'lunar': '54.1639792857', 'kilometers': '20829861.007364631', 'miles': '12943075.4515926678'}, 'orbiting_body': 'Venus'}, {'close_approach_date': '2003-11-28', 'close_approach_date_full': '2003-Nov-28 15:41', 'epoch_date_close_approach': 1070034060000, 'relative_velocity': {'kilometers_per_second': '7.5740805239', 'kilometers_per_hour': '27266.6898860364', 'miles_per_hour': '16942.4607239097'}, 'miss_distance': {'astronomical': '0.3309481795', 'lunar': '128.7388418255', 'kilometers': '49509142.733577665', 'miles': '30763554.769655177'}, 'orbiting_body': 'Earth'}, {'close_approach_date': '2004-05-03', 'close_approach_date_full': '2004-May-03 17:57', 'epoch_date_close_approach': 1083607020000, 'relative_velocity': {'kilometers_per_second': '7.2618449516', 'kilometers_per_hour': '26142.6418256606', 'miles_per_hour': '16244.0209721723'}, 'miss_distance': {'astronomical': '0.1969885259', 'lunar': '76.6285365751', 'kilometers': '29469063.889079833', 'miles': '18311227.1977863754'}, 'orbiting_body': 'Earth'}, {'close_approach_date': '2010-01-06', 'close_approach_date_full': '2010-Jan-06 13:52', 'epoch_date_close_approach': 1262785920000, 'relative_velocity': {'kilometers_per_second': '11.6363840872', 'kilometers_per_hour': '41890.9827139049', 'miles_per_hour': '26029.4275646483'}, 'miss_distance': {'astronomical': '0.1258549454', 'lunar': '48.9575737606', 'kilometers': '18827631.760806298', 'miles': '11698947.8887429924'}, 'orbiting_body': 'Earth'}, {'close_approach_date': '2010-09-27', 'close_approach_date_full': '2010-Sep-27 21:53', 'epoch_date_close_approach': 1285624380000, 'relative_velocity': {'kilometers_per_second': '8.1543269078', 'kilometers_per_hour': '29355.5768682083', 'miles_per_hour': '18240.4138601376'}, 'miss_distance': {'astronomical': '0.4475362935', 'lunar': '174.0916181715', 'kilometers': '66950476.255294845', 'miles': '41601096.876545061'}, 'orbiting_body': 'Earth'}, {'close_approach_date': '2011-07-18', 'close_approach_date_full': '2011-Jul-18 23:20', 'epoch_date_close_approach': 1311031200000, 'relative_velocity': {'kilometers_per_second': '19.3364964866', 'kilometers_per_hour': '69611.387351647', 'miles_per_hour': '43253.8089908053'}, 'miss_distance': {'astronomical': '0.3838981073', 'lunar': '149.3363637397', 'kilometers': '57430339.149111451', 'miles': '35685557.9859459838'}, 'orbiting_body': 'Earth'}, {'close_approach_date': '2016-11-14', 'close_approach_date_full': '2016-Nov-14 21:24', 'epoch_date_close_approach': 1479158640000, 'relative_velocity': {'kilometers_per_second': '8.0536821106', 'kilometers_per_hour': '28993.2555979845', 'miles_per_hour': '18015.2815130921'}, 'miss_distance': {'astronomical': '0.3797959436', 'lunar': '147.7406220604', 'kilometers': '56816664.197200132', 'miles': '35304238.0528685416'}, 'orbiting_body': 'Earth'}, {'close_approach_date': '2017-06-07', 'close_approach_date_full': '2017-Jun-07 19:17', 'epoch_date_close_approach': 1496863020000, 'relative_velocity': {'kilometers_per_second': '6.7776491191', 'kilometers_per_hour': '24399.5368288651', 'miles_per_hour': '15160.9233145801'}, 'miss_distance': {'astronomical': '0.1216010655', 'lunar': '47.3028144795', 'kilometers': '18191260.388530485', 'miles': '11303525.054011293'}, 'orbiting_body': 'Earth'}, {'close_approach_date': '2018-06-28', 'close_approach_date_full': '2018-Jun-28 17:53', 'epoch_date_close_approach': 1530208380000, 'relative_velocity': {'kilometers_per_second': '2.2588003046', 'kilometers_per_hour': '8131.6810966328', 'miles_per_hour': '5052.710401405'}, 'miss_distance': {'astronomical': '0.1299706277', 'lunar': '50.5585741753', 'kilometers': '19443329.066482999', 'miles': '12081524.4541794262'}, 'orbiting_body': 'Venus'}, {'close_approach_date': '2023-01-09', 'close_approach_date_full': '2023-Jan-09 13:59', 'epoch_date_close_approach': 1673272740000, 'relative_velocity': {'kilometers_per_second': '8.9964855334', 'kilometers_per_hour': '32387.3479203461', 'miles_per_hour': '20124.2384897284'}, 'miss_distance': {'astronomical': '0.0725378623', 'lunar': '28.2172284347', 'kilometers': '10851509.694433301', 'miles': '6742815.4556135138'}, 'orbiting_body': 'Earth'}, {'close_approach_date': '2023-09-19', 'close_approach_date_full': '2023-Sep-19 00:06', 'epoch_date_close_approach': 1695081960000, 'relative_velocity': {'kilometers_per_second': '7.8721317813', 'kilometers_per_hour': '28339.6744126064', 'miles_per_hour': '17609.1715815442'}, 'miss_distance': {'astronomical': '0.4367404362', 'lunar': '169.8920296818', 'kilometers': '65335438.998390894', 'miles': '40597559.2597625772'}, 'orbiting_body': 'Earth'}, {'close_approach_date': '2024-07-22', 'close_approach_date_full': '2024-Jul-22 14:57', 'epoch_date_close_approach': 1721660220000, 'relative_velocity': {'kilometers_per_second': '21.825815716', 'kilometers_per_hour': '78572.9365774927', 'miles_per_hour': '48822.1671750537'}, 'miss_distance': {'astronomical': '0.4698904161', 'lunar': '182.7873718629', 'kilometers': '70294605.381973707', 'miles': '43679042.3602508766'}, 'orbiting_body': 'Earth'}, {'close_approach_date': '2029-11-08', 'close_approach_date_full': '2029-Nov-08 09:25', 'epoch_date_close_approach': 1888824300000, 'relative_velocity': {'kilometers_per_second': '8.262837148', 'kilometers_per_hour': '29746.2137327819', 'miles_per_hour': '18483.1404163499'}, 'miss_distance': {'astronomical': '0.4003634556', 'lunar': '155.7413842284', 'kilometers': '59893520.183599572', 'miles': '37216107.7082432136'}, 'orbiting_body': 'Earth'}, {'close_approach_date': '2030-06-20', 'close_approach_date_full': '2030-Jun-20 05:07', 'epoch_date_close_approach': 1908162420000, 'relative_velocity': {'kilometers_per_second': '7.6307787217', 'kilometers_per_hour': '27470.8033980832', 'miles_per_hour': '17069.2889225479'}, 'miss_distance': {'astronomical': '0.0651514024', 'lunar': '25.3438955336', 'kilometers': '9746511.026552888', 'miles': '6056201.1221223344'}, 'orbiting_body': 'Earth'}, {'close_approach_date': '2033-11-19', 'close_approach_date_full': '2033-Nov-19 09:25', 'epoch_date_close_approach': 2016005100000, 'relative_velocity': {'kilometers_per_second': '2.3454736464', 'kilometers_per_hour': '8443.7051271387', 'miles_per_hour': '5246.5899996935'}, 'miss_distance': {'astronomical': '0.1373353807', 'lunar': '53.4234630923', 'kilometers': '20545080.428359109', 'miles': '12766121.0052853442'}, 'orbiting_body': 'Venus'}, {'close_approach_date': '2036-01-10', 'close_approach_date_full': '2036-Jan-10 05:38', 'epoch_date_close_approach': 2083556280000, 'relative_velocity': {'kilometers_per_second': '8.1813443795', 'kilometers_per_hour': '29452.839766194', 'miles_per_hour': '18300.8492424998'}, 'miss_distance': {'astronomical': '0.0773225219', 'lunar': '30.0784610191', 'kilometers': '11567284.579268353', 'miles': '7187577.3451671514'}, 'orbiting_body': 'Earth'}, {'close_approach_date': '2036-09-15', 'close_approach_date_full': '2036-Sep-15 07:14', 'epoch_date_close_approach': 2105075640000, 'relative_velocity': {'kilometers_per_second': '7.7493737261', 'kilometers_per_hour': '27897.7454138496', 'miles_per_hour': '17334.5740878445'}, 'miss_distance': {'astronomical': '0.4313051658', 'lunar': '167.7777094962', 'kilometers': '64522334.123676846', 'miles': '40092319.3189026348'}, 'orbiting_body': 'Earth'}, {'close_approach_date': '2037-07-24', 'close_approach_date_full': '2037-Jul-24 01:38', 'epoch_date_close_approach': 2132012280000, 'relative_velocity': {'kilometers_per_second': '22.5326434595', 'kilometers_per_hour': '81117.5164543616', 'miles_per_hour': '50403.270154656'}, 'miss_distance': {'astronomical': '0.4937970599', 'lunar': '192.0870563011', 'kilometers': '73870988.373302413', 'miles': '45901303.7034347794'}, 'orbiting_body': 'Earth'}, {'close_approach_date': '2042-11-08', 'close_approach_date_full': '2042-Nov-08 08:42', 'epoch_date_close_approach': 2299048920000, 'relative_velocity': {'kilometers_per_second': '8.2581570705', 'kilometers_per_hour': '29729.3654536638', 'miles_per_hour': '18472.6715509168'}, 'miss_distance': {'astronomical': '0.4005069804', 'lunar': '155.7972153756', 'kilometers': '59914991.187971748', 'miles': '37229449.1717082024'}, 'orbiting_body': 'Earth'}, {'close_approach_date': '2043-06-20', 'close_approach_date_full': '2043-Jun-20 13:49', 'epoch_date_close_approach': 2318420940000, 'relative_velocity': {'kilometers_per_second': '7.6522187531', 'kilometers_per_hour': '27547.9875112539', 'miles_per_hour': '17117.2481288677'}, 'miss_distance': {'astronomical': '0.064681677', 'lunar': '25.161172353', 'kilometers': '9676241.10722799', 'miles': '6012537.418966662'}, 'orbiting_body': 'Earth'}, {'close_approach_date': '2049-01-09', 'close_approach_date_full': '2049-Jan-09 02:20', 'epoch_date_close_approach': 2493771600000, 'relative_velocity': {'kilometers_per_second': '8.7205393826', 'kilometers_per_hour': '31393.9417772664', 'miles_per_hour': '19506.9745448798'}, 'miss_distance': {'astronomical': '0.0721916811', 'lunar': '28.0825639479', 'kilometers': '10799721.724279257', 'miles': '6710635.9031454666'}, 'orbiting_body': 'Earth'}, {'close_approach_date': '2049-09-18', 'close_approach_date_full': '2049-Sep-18 02:10', 'epoch_date_close_approach': 2515543800000, 'relative_velocity': {'kilometers_per_second': '7.8334541199', 'kilometers_per_hour': '28200.4348317623', 'miles_per_hour': '17522.6535208803'}, 'miss_distance': {'astronomical': '0.4345888422', 'lunar': '169.0550596158', 'kilometers': '65013565.118886114', 'miles': '40397556.1053078132'}, 'orbiting_body': 'Earth'}, {'close_approach_date': '2050-07-23', 'close_approach_date_full': '2050-Jul-23 00:11', 'epoch_date_close_approach': 2542147860000, 'relative_velocity': {'kilometers_per_second': '21.7438165302', 'kilometers_per_hour': '78277.7395085861', 'miles_per_hour': '48638.7431963212'}, 'miss_distance': {'astronomical': '0.4663985583', 'lunar': '181.4290391787', 'kilometers': '69772230.892750821', 'miles': '43354453.9040144898'}, 'orbiting_body': 'Earth'}, {'close_approach_date': '2055-11-14', 'close_approach_date_full': '2055-Nov-14 00:24', 'epoch_date_close_approach': 2709764640000, 'relative_velocity': {'kilometers_per_second': '8.1067581476', 'kilometers_per_hour': '29184.3293312388', 'miles_per_hour': '18134.0073002911'}, 'miss_distance': {'astronomical': '0.3831330835', 'lunar': '149.0387694815', 'kilometers': '57315893.218132145', 'miles': '35614444.582007801'}, 'orbiting_body': 'Earth'}, {'close_approach_date': '2056-06-09', 'close_approach_date_full': '2056-Jun-09 18:14', 'epoch_date_close_approach': 2727800040000, 'relative_velocity': {'kilometers_per_second': '6.8174837642', 'kilometers_per_hour': '24542.9415512461', 'miles_per_hour': '15250.0294322174'}, 'miss_distance': {'astronomical': '0.1147948652', 'lunar': '44.6552025628', 'kilometers': '17173067.320857124', 'miles': '10670849.2193273512'}, 'orbiting_body': 'Earth'}, {'close_approach_date': '2062-01-07', 'close_approach_date_full': '2062-Jan-07 07:57', 'epoch_date_close_approach': 2903846220000, 'relative_velocity': {'kilometers_per_second': '10.8091032431', 'kilometers_per_hour': '38912.7716750916', 'miles_per_hour': '24178.8830444479'}, 'miss_distance': {'astronomical': '0.102471323', 'lunar': '39.861344647', 'kilometers': '15329491.65688201', 'miles': '9525304.421351338'}, 'orbiting_body': 'Earth'}, {'close_approach_date': '2062-09-26', 'close_approach_date_full': '2062-Sep-26 10:44', 'epoch_date_close_approach': 2926493040000, 'relative_velocity': {'kilometers_per_second': '8.0981703972', 'kilometers_per_hour': '29153.4134298083', 'miles_per_hour': '18114.7973614273'}, 'miss_distance': {'astronomical': '0.4432870465', 'lunar': '172.4386610885', 'kilometers': '66314797.954990955', 'miles': '41206104.696766979'}, 'orbiting_body': 'Earth'}, {'close_approach_date': '2063-06-02', 'close_approach_date_full': '2063-Jun-02 07:07', 'epoch_date_close_approach': 2947993620000, 'relative_velocity': {'kilometers_per_second': '2.3880932522', 'kilometers_per_hour': '8597.1357080697', 'miles_per_hour': '5341.9257959392'}, 'miss_distance': {'astronomical': '0.1402962997', 'lunar': '54.5752605833', 'kilometers': '20988027.604001639', 'miles': '13041355.6174310582'}, 'orbiting_body': 'Venus'}, {'close_approach_date': '2063-07-19', 'close_approach_date_full': '2063-Jul-19 11:08', 'epoch_date_close_approach': 2952068880000, 'relative_velocity': {'kilometers_per_second': '19.3877180933', 'kilometers_per_hour': '69795.7851357677', 'miles_per_hour': '43368.386602833'}, 'miss_distance': {'astronomical': '0.3857129838', 'lunar': '150.0423506982', 'kilometers': '57701840.807824506', 'miles': '35854261.2937939428'}, 'orbiting_body': 'Earth'}, {'close_approach_date': '2068-11-25', 'close_approach_date_full': '2068-Nov-25 16:19', 'epoch_date_close_approach': 3121085940000, 'relative_velocity': {'kilometers_per_second': '7.6590073768', 'kilometers_per_hour': '27572.4265564407', 'miles_per_hour': '17132.4336011395'}, 'miss_distance': {'astronomical': '0.3371785898', 'lunar': '131.1624714322', 'kilometers': '50441198.843683726', 'miles': '31342707.5808023788'}, 'orbiting_body': 'Earth'}, {'close_approach_date': '2069-05-07', 'close_approach_date_full': '2069-May-07 04:39', 'epoch_date_close_approach': 3135127140000, 'relative_velocity': {'kilometers_per_second': '7.2421263495', 'kilometers_per_hour': '26071.6548580315', 'miles_per_hour': '16199.9124310918'}, 'miss_distance': {'astronomical': '0.192957248', 'lunar': '75.060369472', 'kilometers': '28865993.30186176', 'miles': '17936496.511381888'}, 'orbiting_body': 'Earth'}, {'close_approach_date': '2075-01-02', 'close_approach_date_full': '2075-Jan-02 08:21', 'epoch_date_close_approach': 3313642860000, 'relative_velocity': {'kilometers_per_second': '14.9686228324', 'kilometers_per_hour': '53887.0421965864', 'miles_per_hour': '33483.3124137622'}, 'miss_distance': {'astronomical': '0.2320751883', 'lunar': '90.2772482487', 'kilometers': '34717953.849528921', 'miles': '21572736.1810282698'}, 'orbiting_body': 'Earth'}, {'close_approach_date': '2075-10-10', 'close_approach_date_full': '2075-Oct-10 15:32', 'epoch_date_close_approach': 3337947120000, 'relative_velocity': {'kilometers_per_second': '8.3991590473', 'kilometers_per_hour': '30236.9725701629', 'miles_per_hour': '18788.0788728326'}, 'miss_distance': {'astronomical': '0.4463092526', 'lunar': '173.6142992614', 'kilometers': '66766913.550251962', 'miles': '41487036.3006905956'}, 'orbiting_body': 'Earth'}, {'close_approach_date': '2076-07-11', 'close_approach_date_full': '2076-Jul-11 10:49', 'epoch_date_close_approach': 3361690140000, 'relative_velocity': {'kilometers_per_second': '15.2997071229', 'kilometers_per_hour': '55078.9456425304', 'miles_per_hour': '34223.9148632712'}, 'miss_distance': {'astronomical': '0.2417201806', 'lunar': '94.0291502534', 'kilometers': '36160824.153775322', 'miles': '22469294.2141385636'}, 'orbiting_body': 'Earth'}, {'close_approach_date': '2077-07-21', 'close_approach_date_full': '2077-Jul-21 06:01', 'epoch_date_close_approach': 3394072860000, 'relative_velocity': {'kilometers_per_second': '2.3229568612', 'kilometers_per_hour': '8362.6447003435', 'miles_per_hour': '5196.2222028329'}, 'miss_distance': {'astronomical': '0.128762101', 'lunar': '50.088457289', 'kilometers': '19262536.04632487', 'miles': '11969184.880708406'}, 'orbiting_body': 'Venus'}, {'close_approach_date': '2081-12-15', 'close_approach_date_full': '2081-Dec-15 21:59', 'epoch_date_close_approach': 3533061540000, 'relative_velocity': {'kilometers_per_second': '6.7117174988', 'kilometers_per_hour': '24162.1829955187', 'miles_per_hour': '15013.4408729655'}, 'miss_distance': {'astronomical': '0.252402832', 'lunar': '98.184701648', 'kilometers': '37758926.04916784', 'miles': '23462308.685242592'}, 'orbiting_body': 'Earth'}, {'close_approach_date': '2082-03-26', 'close_approach_date_full': '2082-Mar-26 21:41', 'epoch_date_close_approach': 3541786860000, 'relative_velocity': {'kilometers_per_second': '7.0736703079', 'kilometers_per_hour': '25465.2131082946', 'miles_per_hour': '15823.0931116511'}, 'miss_distance': {'astronomical': '0.2238453434', 'lunar': '87.0758385826', 'kilometers': '33486786.582058558', 'miles': '20807724.3150937804'}, 'orbiting_body': 'Earth'}, {'close_approach_date': '2082-08-17', 'close_approach_date_full': '2082-Aug-17 21:18', 'epoch_date_close_approach': 3554227080000, 'relative_velocity': {'kilometers_per_second': '6.3014013368', 'kilometers_per_hour': '22685.0448126249', 'miles_per_hour': '14095.604650378'}, 'miss_distance': {'astronomical': '0.3604506086', 'lunar': '140.2152867454', 'kilometers': '53922643.286763682', 'miles': '33505976.8456035316'}, 'orbiting_body': 'Earth'}, {'close_approach_date': '2087-12-27', 'close_approach_date_full': '2087-Dec-27 11:12', 'epoch_date_close_approach': 3723361920000, 'relative_velocity': {'kilometers_per_second': '19.5550951772', 'kilometers_per_hour': '70398.3426380158', 'miles_per_hour': '43742.7924019382'}, 'miss_distance': {'astronomical': '0.3837345186', 'lunar': '149.2727277354', 'kilometers': '57405866.628035382', 'miles': '35670351.4664849916'}, 'orbiting_body': 'Earth'}, {'close_approach_date': '2088-10-24', 'close_approach_date_full': '2088-Oct-24 04:29', 'epoch_date_close_approach': 3749430540000, 'relative_velocity': {'kilometers_per_second': '8.4457722867', 'kilometers_per_hour': '30404.7802320456', 'miles_per_hour': '18892.348028073'}, 'miss_distance': {'astronomical': '0.4321722981', 'lunar': '168.1150239609', 'kilometers': '64652055.268765047', 'miles': '40172924.3007577686'}, 'orbiting_body': 'Earth'}, {'close_approach_date': '2089-07-03', 'close_approach_date_full': '2089-Jul-03 02:26', 'epoch_date_close_approach': 3771195960000, 'relative_velocity': {'kilometers_per_second': '11.1549833446', 'kilometers_per_hour': '40157.940040497', 'miles_per_hour': '24952.5822434966'}, 'miss_distance': {'astronomical': '0.0940990942', 'lunar': '36.6045476438', 'kilometers': '14077024.061249354', 'miles': '8747057.1452309252'}, 'orbiting_body': 'Earth'}, {'close_approach_date': '2091-09-09', 'close_approach_date_full': '2091-Sep-09 00:25', 'epoch_date_close_approach': 3840135900000, 'relative_velocity': {'kilometers_per_second': '2.2676548589', 'kilometers_per_hour': '8163.5574922101', 'miles_per_hour': '5072.5171539791'}, 'miss_distance': {'astronomical': '0.1327079272', 'lunar': '51.6233836808', 'kilometers': '19852823.241235064', 'miles': '12335972.3354653232'}, 'orbiting_body': 'Venus'}, {'close_approach_date': '2095-01-05', 'close_approach_date_full': '2095-Jan-05 11:08', 'epoch_date_close_approach': 3945064080000, 'relative_velocity': {'kilometers_per_second': '6.2751044158', 'kilometers_per_hour': '22590.3758967176', 'miles_per_hour': '14036.7810676021'}, 'miss_distance': {'astronomical': '0.1535841965', 'lunar': '59.7442524385', 'kilometers': '22975868.662061455', 'miles': '14276542.774519879'}, 'orbiting_body': 'Earth'}, {'close_approach_date': '2095-09-04', 'close_approach_date_full': '2095-Sep-04 17:30', 'epoch_date_close_approach': 3965995800000, 'relative_velocity': {'kilometers_per_second': '7.229203312', 'kilometers_per_hour': '26025.1319231315', 'miles_per_hour': '16171.0048885702'}, 'miss_distance': {'astronomical': '0.4070570188', 'lunar': '158.3451803132', 'kilometers': '60894862.981029956', 'miles': '37838313.2705111528'}, 'orbiting_body': 'Earth'}, {'close_approach_date': '2100-12-23', 'close_approach_date_full': '2100-Dec-23 20:30', 'epoch_date_close_approach': 4133277000000, 'relative_velocity': {'kilometers_per_second': '22.4283341873', 'kilometers_per_hour': '80742.0030741446', 'miles_per_hour': '50169.9407434873'}, 'miss_distance': {'astronomical': '0.4782033674', 'lunar': '186.0211099186', 'kilometers': '71538205.189867438', 'miles': '44451779.4485811244'}, 'orbiting_body': 'Earth'}, {'close_approach_date': '2101-11-03', 'close_approach_date_full': '2101-Nov-03 02:55', 'epoch_date_close_approach': 4160429700000, 'relative_velocity': {'kilometers_per_second': '8.3649242916', 'kilometers_per_hour': '30113.7274496352', 'miles_per_hour': '18711.4991478025'}, 'miss_distance': {'astronomical': '0.415814711', 'lunar': '161.751922579', 'kilometers': '62204995.08026557', 'miles': '38652391.607662066'}, 'orbiting_body': 'Earth'}, {'close_approach_date': '2102-06-28', 'close_approach_date_full': '2102-Jun-28 00:00', 'epoch_date_close_approach': 4180896000000, 'relative_velocity': {'kilometers_per_second': '8.983231409', 'kilometers_per_hour': '32339.6330723056', 'miles_per_hour': '20094.5903387334'}, 'miss_distance': {'astronomical': '0.0319217499', 'lunar': '12.4175607111', 'kilometers': '4775425.791712713', 'miles': '2967311.9908849194'}, 'orbiting_body': 'Earth'}, {'close_approach_date': '2108-01-11', 'close_approach_date_full': '2108-Jan-11 04:44', 'epoch_date_close_approach': 4355700240000, 'relative_velocity': {'kilometers_per_second': '7.1188283516', 'kilometers_per_hour': '25627.7820658581', 'miles_per_hour': '15924.107139755'}, 'miss_distance': {'astronomical': '0.1048997534', 'lunar': '40.8060040726', 'kilometers': '15692779.672165258', 'miles': '9751041.1264982404'}, 'orbiting_body': 'Earth'}, {'close_approach_date': '2108-09-11', 'close_approach_date_full': '2108-Sep-11 19:29', 'epoch_date_close_approach': 4376834940000, 'relative_velocity': {'kilometers_per_second': '7.5545204941', 'kilometers_per_hour': '27196.2737788724', 'miles_per_hour': '16898.7068933221'}, 'miss_distance': {'astronomical': '0.4223030862', 'lunar': '164.2759005318', 'kilometers': '63175642.189946394', 'miles': '39255523.7540084772'}, 'orbiting_body': 'Earth'}, {'close_approach_date': '2114-11-06', 'close_approach_date_full': '2114-Nov-06 03:55', 'epoch_date_close_approach': 4570919700000, 'relative_velocity': {'kilometers_per_second': '8.3340291166', 'kilometers_per_hour': '30002.5048196486', 'miles_per_hour': '18642.3897308533'}, 'miss_distance': {'astronomical': '0.4095341618', 'lunar': '159.3087889402', 'kilometers': '61265438.297515366', 'miles': '38068578.0946534108'}, 'orbiting_body': 'Earth'}, {'close_approach_date': '2115-06-25', 'close_approach_date_full': '2115-Jun-25 15:28', 'epoch_date_close_approach': 4590919680000, 'relative_velocity': {'kilometers_per_second': '8.3391371211', 'kilometers_per_hour': '30020.89363599', 'miles_per_hour': '18653.8158262072'}, 'miss_distance': {'astronomical': '0.0405255671', 'lunar': '15.7644456019', 'kilometers': '6062538.518702077', 'miles': '3767086.7533875826'}, 'orbiting_body': 'Earth'}, {'close_approach_date': '2121-01-10', 'close_approach_date_full': '2121-Jan-10 15:34', 'epoch_date_close_approach': 4765966440000, 'relative_velocity': {'kilometers_per_second': '8.1207483224', 'kilometers_per_hour': '29234.6939606974', 'miles_per_hour': '18165.3019224122'}, 'miss_distance': {'astronomical': '0.0785521002', 'lunar': '30.5567669778', 'kilometers': '11751226.873946574', 'miles': '7301873.7870837612'}, 'orbiting_body': 'Earth'}, {'close_approach_date': '2121-03-25', 'close_approach_date_full': '2121-Mar-25 08:41', 'epoch_date_close_approach': 4772335260000, 'relative_velocity': {'kilometers_per_second': '2.3264367827', 'kilometers_per_hour': '8375.1724176153', 'miles_per_hour': '5204.0064391566'}, 'miss_distance': {'astronomical': '0.1272606803', 'lunar': '49.5044046367', 'kilometers': '19037926.707630961', 'miles': '11829619.1093948218'}, 'orbiting_body': 'Venus'}, {'close_approach_date': '2121-09-17', 'close_approach_date_full': '2121-Sep-17 02:17', 'epoch_date_close_approach': 4787518620000, 'relative_velocity': {'kilometers_per_second': '7.7709957485', 'kilometers_per_hour': '27975.5846945733', 'miles_per_hour': '17382.9403898031'}, 'miss_distance': {'astronomical': '0.431002491', 'lunar': '167.659968999', 'kilometers': '64477054.61829417', 'miles': '40064183.938912746'}, 'orbiting_body': 'Earth'}, {'close_approach_date': '2122-07-25', 'close_approach_date_full': '2122-Jul-25 09:43', 'epoch_date_close_approach': 4814415780000, 'relative_velocity': {'kilometers_per_second': '22.3197357658', 'kilometers_per_hour': '80351.048757042', 'miles_per_hour': '49927.0169346187'}, 'miss_distance': {'astronomical': '0.4865629693', 'lunar': '189.2729950577', 'kilometers': '72788783.828155391', 'miles': '45228852.9810347558'}, 'orbiting_body': 'Earth'}, {'close_approach_date': '2127-11-13', 'close_approach_date_full': '2127-Nov-13 05:16', 'epoch_date_close_approach': 4981756560000, 'relative_velocity': {'kilometers_per_second': '8.1650779351', 'kilometers_per_hour': '29394.2805662111', 'miles_per_hour': '18264.4628329326'}, 'miss_distance': {'astronomical': '0.3892758989', 'lunar': '151.4283246721', 'kilometers': '58234845.317775343', 'miles': '36185454.9386240134'}, 'orbiting_body': 'Earth'}, {'close_approach_date': '2128-06-14', 'close_approach_date_full': '2128-Jun-14 11:08', 'epoch_date_close_approach': 5000267280000, 'relative_velocity': {'kilometers_per_second': '7.0059350138', 'kilometers_per_hour': '25221.3660495546', 'miles_per_hour': '15671.5760322913'}, 'miss_distance': {'astronomical': '0.1003473085', 'lunar': '39.0351030065', 'kilometers': '15011743.611832895', 'miles': '9327864.941548151'}, 'orbiting_body': 'Earth'}, {'close_approach_date': '2134-01-08', 'close_approach_date_full': '2134-Jan-08 22:47', 'epoch_date_close_approach': 5176046820000, 'relative_velocity': {'kilometers_per_second': '10.404501453', 'kilometers_per_hour': '37456.2052307395', 'miles_per_hour': '23273.8293001781'}, 'miss_distance': {'astronomical': '0.0931646173', 'lunar': '36.2410361297', 'kilometers': '13937228.307445151', 'miles': '8660192.0918030438'}, 'orbiting_body': 'Earth'}, {'close_approach_date': '2134-09-26', 'close_approach_date_full': '2134-Sep-26 14:54', 'epoch_date_close_approach': 5198568840000, 'relative_velocity': {'kilometers_per_second': '8.0766051035', 'kilometers_per_hour': '29075.7783725023', 'miles_per_hour': '18066.5579559584'}, 'miss_distance': {'astronomical': '0.4420180773', 'lunar': '171.9450320697', 'kilometers': '66124962.865575351', 'miles': '41088146.6419918038'}, 'orbiting_body': 'Earth'}, {'close_approach_date': '2135-07-21', 'close_approach_date_full': '2135-Jul-21 07:24', 'epoch_date_close_approach': 5224289040000, 'relative_velocity': {'kilometers_per_second': '19.6690165207', 'kilometers_per_hour': '70808.4594745358', 'miles_per_hour': '43997.6230551637'}, 'miss_distance': {'astronomical': '0.3944983187', 'lunar': '153.4598459743', 'kilometers': '59016108.196101169', 'miles': '36670909.1804033722'}, 'orbiting_body': 'Earth'}, {'close_approach_date': '2140-11-25', 'close_approach_date_full': '2140-Nov-25 08:46', 'epoch_date_close_approach': 5393119560000, 'relative_velocity': {'kilometers_per_second': '7.7098286114', 'kilometers_per_hour': '27755.3830011135', 'miles_per_hour': '17246.1156208863'}, 'miss_distance': {'astronomical': '0.3434236118', 'lunar': '133.5917849902', 'kilometers': '51375440.832986866', 'miles': '31923218.6343001108'}, 'orbiting_body': 'Earth'}, {'close_approach_date': '2141-05-11', 'close_approach_date_full': '2141-May-11 18:33', 'epoch_date_close_approach': 5407583580000, 'relative_velocity': {'kilometers_per_second': '7.1917402532', 'kilometers_per_hour': '25890.2649114412', 'miles_per_hour': '16087.2037723341'}, 'miss_distance': {'astronomical': '0.1872236827', 'lunar': '72.8300125703', 'kilometers': '28008264.145475849', 'miles': '17403528.3276667562'}, 'orbiting_body': 'Earth'}, {'close_approach_date': '2147-01-04', 'close_approach_date_full': '2147-Jan-04 05:55', 'epoch_date_close_approach': 5585867700000, 'relative_velocity': {'kilometers_per_second': '14.4949424533', 'kilometers_per_hour': '52181.7928318249', 'miles_per_hour': '32423.7367737525'}, 'miss_distance': {'astronomical': '0.2165670917', 'lunar': '84.2445986713', 'kilometers': '32397975.630414679', 'miles': '20131168.5620494102'}, 'orbiting_body': 'Earth'}, {'close_approach_date': '2147-10-10', 'close_approach_date_full': '2147-Oct-10 14:39', 'epoch_date_close_approach': 5610004740000, 'relative_velocity': {'kilometers_per_second': '8.3758308585', 'kilometers_per_hour': '30152.9910904645', 'miles_per_hour': '18735.8960472945'}, 'miss_distance': {'astronomical': '0.446786923', 'lunar': '173.800113047', 'kilometers': '66838372.02465401', 'miles': '41531438.537724938'}, 'orbiting_body': 'Earth'}, {'close_approach_date': '2148-07-13', 'close_approach_date_full': '2148-Jul-13 11:29', 'epoch_date_close_approach': 5633926140000, 'relative_velocity': {'kilometers_per_second': '15.6687576539', 'kilometers_per_hour': '56407.5275539673', 'miles_per_hour': '35049.4439959637'}, 'miss_distance': {'astronomical': '0.255189647', 'lunar': '99.268772683', 'kilometers': '38175827.63725189', 'miles': '23721359.319740482'}, 'orbiting_body': 'Earth'}, {'close_approach_date': '2153-12-14', 'close_approach_date_full': '2153-Dec-14 00:53', 'epoch_date_close_approach': 5804959980000, 'relative_velocity': {'kilometers_per_second': '6.8792226685', 'kilometers_per_hour': '24765.2016067571', 'miles_per_hour': '15388.1331872652'}, 'miss_distance': {'astronomical': '0.2657429516', 'lunar': '103.3740081724', 'kilometers': '39754579.526873092', 'miles': '24702350.2547969896'}, 'orbiting_body': 'Earth'}, {'close_approach_date': '2154-04-02', 'close_approach_date_full': '2154-Apr-02 17:01', 'epoch_date_close_approach': 5814435660000, 'relative_velocity': {'kilometers_per_second': '7.287320943', 'kilometers_per_hour': '26234.3553946331', 'miles_per_hour': '16301.008217293'}, 'miss_distance': {'astronomical': '0.2237254129', 'lunar': '87.0291856181', 'kilometers': '33468845.234710523', 'miles': '20796576.0788022974'}, 'orbiting_body': 'Earth'}, {'close_approach_date': '2154-08-16', 'close_approach_date_full': '2154-Aug-16 02:09', 'epoch_date_close_approach': 5826132540000, 'relative_velocity': {'kilometers_per_second': '6.1285439483', 'kilometers_per_hour': '22062.7582138666', 'miles_per_hour': '13708.9399579439'}, 'miss_distance': {'astronomical': '0.3520087635', 'lunar': '136.9314090015', 'kilometers': '52659761.240933745', 'miles': '32721258.330205881'}, 'orbiting_body': 'Earth'}, {'close_approach_date': '2159-12-29', 'close_approach_date_full': '2159-Dec-29 14:57', 'epoch_date_close_approach': 5995609020000, 'relative_velocity': {'kilometers_per_second': '18.8649734764', 'kilometers_per_hour': '67913.904515121', 'miles_per_hour': '42199.0591694095'}, 'miss_distance': {'astronomical': '0.3602475014', 'lunar': '140.1362780446', 'kilometers': '53892258.882262018', 'miles': '33487096.8521231284'}, 'orbiting_body': 'Earth'}, {'close_approach_date': '2160-10-23', 'close_approach_date_full': '2160-Oct-23 09:17', 'epoch_date_close_approach': 6021422220000, 'relative_velocity': {'kilometers_per_second': '8.4782111899', 'kilometers_per_hour': '30521.5602837742', 'miles_per_hour': '18964.9106107707'}, 'miss_distance': {'astronomical': '0.4355132048', 'lunar': '169.4146366672', 'kilometers': '65151847.794953776', 'miles': '40483480.9758270688'}, 'orbiting_body': 'Earth'}, {'close_approach_date': '2161-07-05', 'close_approach_date_full': '2161-Jul-05 18:51', 'epoch_date_close_approach': 6043488660000, 'relative_velocity': {'kilometers_per_second': '11.7409873667', 'kilometers_per_hour': '42267.5545201776', 'miles_per_hour': '26263.414640607'}, 'miss_distance': {'astronomical': '0.1150040459', 'lunar': '44.7365738551', 'kilometers': '17204360.308022233', 'miles': '10690293.7798954954'}, 'orbiting_body': 'Earth'}, {'close_approach_date': '2167-01-03', 'close_approach_date_full': '2167-Jan-03 22:53', 'epoch_date_close_approach': 6216994380000, 'relative_velocity': {'kilometers_per_second': '6.1623576967', 'kilometers_per_hour': '22184.4877081659', 'miles_per_hour': '13784.5779317767'}, 'miss_distance': {'astronomical': '0.1705787384', 'lunar': '66.3551292376', 'kilometers': '25518215.931927208', 'miles': '15856284.1144351504'}, 'orbiting_body': 'Earth'}, {'close_approach_date': '2167-09-04', 'close_approach_date_full': '2167-Sep-04 01:03', 'epoch_date_close_approach': 6237997380000, 'relative_velocity': {'kilometers_per_second': '7.1239031079', 'kilometers_per_hour': '25646.0511885948', 'miles_per_hour': '15935.4588621577'}, 'miss_distance': {'astronomical': '0.4019430638', 'lunar': '156.3558518182', 'kilometers': '60129826.205754106', 'miles': '37362941.4616384228'}, 'orbiting_body': 'Earth'}, {'close_approach_date': '2172-12-24', 'close_approach_date_full': '2172-Dec-24 10:53', 'epoch_date_close_approach': 6405475980000, 'relative_velocity': {'kilometers_per_second': '22.1003693795', 'kilometers_per_hour': '79561.3297661021', 'miles_per_hour': '49436.3162649427'}, 'miss_distance': {'astronomical': '0.4677827683', 'lunar': '181.9674968687', 'kilometers': '69979305.760383521', 'miles': '43483124.2602377498'}, 'orbiting_body': 'Earth'}, {'close_approach_date': '2173-11-02', 'close_approach_date_full': '2173-Nov-02 13:07', 'epoch_date_close_approach': 6432527220000, 'relative_velocity': {'kilometers_per_second': '8.406994971', 'kilometers_per_hour': '30265.1818954356', 'miles_per_hour': '18805.6070505278'}, 'miss_distance': {'astronomical': '0.4173356106', 'lunar': '162.3435525234', 'kilometers': '62432518.420909422', 'miles': '38793768.0558251436'}, 'orbiting_body': 'Earth'}, {'close_approach_date': '2174-06-28', 'close_approach_date_full': '2174-Jun-28 18:01', 'epoch_date_close_approach': 6453108060000, 'relative_velocity': {'kilometers_per_second': '9.1075483807', 'kilometers_per_hour': '32787.1741704414', 'miles_per_hour': '20372.674972739'}, 'miss_distance': {'astronomical': '0.0341016961', 'lunar': '13.2655597829', 'kilometers': '5101541.099947307', 'miles': '3169950.6469425566'}, 'orbiting_body': 'Earth'}, {'close_approach_date': '2179-01-22', 'close_approach_date_full': '2179-Jan-22 18:07', 'epoch_date_close_approach': 6597310020000, 'relative_velocity': {'kilometers_per_second': '2.362456537', 'kilometers_per_hour': '8504.843533183', 'miles_per_hour': '5284.5790276047'}, 'miss_distance': {'astronomical': '0.1265836655', 'lunar': '49.2410458795', 'kilometers': '18936646.735592485', 'miles': '11766686.652986893'}, 'orbiting_body': 'Venus'}, {'close_approach_date': '2180-01-11', 'close_approach_date_full': '2180-Jan-11 07:19', 'epoch_date_close_approach': 6627856740000, 'relative_velocity': {'kilometers_per_second': '6.9523783264', 'kilometers_per_hour': '25028.561975173', 'miles_per_hour': '15551.7750784068'}, 'miss_distance': {'astronomical': '0.1105472035', 'lunar': '43.0028621615', 'kilometers': '16537626.178056545', 'miles': '10276004.402388521'}, 'orbiting_body': 'Earth'}, {'close_approach_date': '2180-09-11', 'close_approach_date_full': '2180-Sep-11 17:17', 'epoch_date_close_approach': 6648974220000, 'relative_velocity': {'kilometers_per_second': '7.5420566254', 'kilometers_per_hour': '27151.403851527', 'miles_per_hour': '16870.8264654113'}, 'miss_distance': {'astronomical': '0.4212765226', 'lunar': '163.8765672914', 'kilometers': '63022070.461966862', 'miles': '39160098.7071602156'}, 'orbiting_body': 'Earth'}, {'close_approach_date': '2186-11-06', 'close_approach_date_full': '2186-Nov-06 01:19', 'epoch_date_close_approach': 6843057540000, 'relative_velocity': {'kilometers_per_second': '8.3637512056', 'kilometers_per_hour': '30109.50434028', 'miles_per_hour': '18708.8750718812'}, 'miss_distance': {'astronomical': '0.410515109', 'lunar': '159.690377401', 'kilometers': '61412185.90921783', 'miles': '38159762.832272854'}, 'orbiting_body': 'Earth'}, {'close_approach_date': '2187-06-26', 'close_approach_date_full': '2187-Jun-26 02:36', 'epoch_date_close_approach': 6863106960000, 'relative_velocity': {'kilometers_per_second': '8.3792643215', 'kilometers_per_hour': '30165.3515572662', 'miles_per_hour': '18743.5763606802'}, 'miss_distance': {'astronomical': '0.0402655777', 'lunar': '15.6633097253', 'kilometers': '6023644.658239499', 'miles': '3742919.2291591262'}, 'orbiting_body': 'Earth'}, {'close_approach_date': '2193-01-10', 'close_approach_date_full': '2193-Jan-10 21:55', 'epoch_date_close_approach': 7038136500000, 'relative_velocity': {'kilometers_per_second': '7.9423256346', 'kilometers_per_hour': '28592.3722845231', 'miles_per_hour': '17766.1882120138'}, 'miss_distance': {'astronomical': '0.0817953985', 'lunar': '31.8184100165', 'kilometers': '12236417.391401195', 'miles': '7603357.194658691'}, 'orbiting_body': 'Earth'}, {'close_approach_date': '2193-09-16', 'close_approach_date_full': '2193-Sep-16 23:43', 'epoch_date_close_approach': 7059656580000, 'relative_velocity': {'kilometers_per_second': '7.7610765214', 'kilometers_per_hour': '27939.8754769636', 'miles_per_hour': '17360.7520706722'}, 'miss_distance': {'astronomical': '0.4305068092', 'lunar': '167.4671487788', 'kilometers': '64402901.676816404', 'miles': '40018107.4376742152'}, 'orbiting_body': 'Earth'}, {'close_approach_date': '2194-07-26', 'close_approach_date_full': '2194-Jul-26 01:00', 'epoch_date_close_approach': 7086618000000, 'relative_velocity': {'kilometers_per_second': '22.503851907', 'kilometers_per_hour': '81013.8668652799', 'miles_per_hour': '50338.866330818'}, 'miss_distance': {'astronomical': '0.4918054485', 'lunar': '191.3123194665', 'kilometers': '73573047.549994695', 'miles': '45716171.860508991'}, 'orbiting_body': 'Earth'}, {'close_approach_date': '2199-11-12', 'close_approach_date_full': '2199-Nov-12 07:50', 'epoch_date_close_approach': 7253826600000, 'relative_velocity': {'kilometers_per_second': '8.2202030273', 'kilometers_per_hour': '29592.7308984083', 'miles_per_hour': '18387.7721518471'}, 'miss_distance': {'astronomical': '0.3929919143', 'lunar': '152.8738546627', 'kilometers': '58790753.306502541', 'miles': '36530880.1452394258'}, 'orbiting_body': 'Earth'}, {'close_approach_date': '2200-06-17', 'close_approach_date_full': '2200-Jun-17 14:15', 'epoch_date_close_approach': 7272598500000, 'relative_velocity': {'kilometers_per_second': '7.1406652432', 'kilometers_per_hour': '25706.39487551', 'miles_per_hour': '15972.9540825079'}, 'miss_distance': {'astronomical': '0.0918865064', 'lunar': '35.7438509896', 'kilometers': '13746025.639181368', 'miles': '8541384.2629361584'}, 'orbiting_body': 'Earth'}], 'orbital_data': {'orbit_id': '121', 'orbit_determination_date': '2024-01-18 05:26:44', 'first_observation_date': '1990-10-24', 'last_observation_date': '2023-11-11', 'data_arc_in_days': 12071, 'observations_used': 545, 'orbit_uncertainty': '0', 'minimum_orbit_intersection': '.0294529', 'jupiter_tisserand_invariant': '5.536', 'epoch_osculation': '2460600.5', 'eccentricity': '.2615051933852866', 'semi_major_axis': '1.118321087323229', 'inclination': '9.265537591243049', 'ascending_node_longitude': '85.76346778294662', 'orbital_period': '431.9646405163704', 'perihelion_distance': '.8258743151159244', 'perihelion_argument': '108.1106483639542', 'aphelion_distance': '1.410767859530534', 'perihelion_time': '2460452.809705503363', 'mean_anomaly': '123.0853200281197', 'mean_motion': '.8334015477971903', 'equinox': 'J2000', 'orbit_class': {'orbit_class_type': 'APO', 'orbit_class_description': 'Near-Earth asteroid orbits which cross the Earth’s orbit similar to that of 1862 Apollo', 'orbit_class_range': 'a (semi-major axis) > 1.0 AU; q (perihelion) < 1.017 AU'}}, 'is_sentry_object': False}\n"
          ]
        }
      ],
      "source": [
        "id = hazards[0]['id']\n",
        "url = f'https://api.nasa.gov/neo/rest/v1/neo/{id}?api_key={API_KEY}'\n",
        "response = requests.request(\"GET\", url, headers={}, data={})\n",
        "data = json.loads(response.text)\n",
        "\n",
        "print(data)"
      ],
      "metadata": {
        "collapsed": true,
        "pycharm": {
          "name": "#%%\n"
        },
        "ExecuteTime": {
          "end_time": "2024-01-04T04:05:43.787125Z",
          "start_time": "2024-01-04T04:05:43.067936Z"
        },
        "id": "NVRl3l7EmxBC",
        "outputId": "ba286db3-db5e-40a6-9328-aeac63610cee",
        "colab": {
          "base_uri": "https://localhost:8080/"
        }
      }
    },
    {
      "cell_type": "markdown",
      "source": [
        "## Exercise 1\n",
        "\n",
        "In the code cell below, **re-write the accumulator loop** that creates the list of hazards as a [list comprehension](https://realpython.com/lessons/list-comprehensions-overview/) that implements a [\"filter\"](https://youtu.be/hUes6y2b--0)\n",
        "Notice how this provides a concise way to \"filter\" items of interest from a larger data set."
      ],
      "metadata": {
        "collapsed": false,
        "pycharm": {
          "name": "#%% md\n"
        },
        "id": "93ns5r8gmxBB"
      }
    },
    {
      "cell_type": "code",
      "execution_count": 12,
      "outputs": [
        {
          "output_type": "error",
          "ename": "NameError",
          "evalue": "name 'neos' is not defined",
          "traceback": [
            "\u001b[0;31m---------------------------------------------------------------------------\u001b[0m",
            "\u001b[0;31mNameError\u001b[0m                                 Traceback (most recent call last)",
            "\u001b[0;32m<ipython-input-12-cb2414d5c675>\u001b[0m in \u001b[0;36m<cell line: 2>\u001b[0;34m()\u001b[0m\n\u001b[1;32m      1\u001b[0m \u001b[0;31m# Ex. 1 your code here\u001b[0m\u001b[0;34m\u001b[0m\u001b[0;34m\u001b[0m\u001b[0m\n\u001b[0;32m----> 2\u001b[0;31m \u001b[0mhazards\u001b[0m \u001b[0;34m=\u001b[0m \u001b[0;34m[\u001b[0m\u001b[0mhazards\u001b[0m\u001b[0;34m.\u001b[0m\u001b[0mappend\u001b[0m\u001b[0;34m(\u001b[0m\u001b[0mitem\u001b[0m\u001b[0;34m)\u001b[0m \u001b[0;32mfor\u001b[0m \u001b[0mitem\u001b[0m \u001b[0;32min\u001b[0m \u001b[0mneos\u001b[0m \u001b[0;32mif\u001b[0m \u001b[0mitem\u001b[0m\u001b[0;34m[\u001b[0m\u001b[0;34m'is_potentially_hazardous_asteroid'\u001b[0m\u001b[0;34m]\u001b[0m \u001b[0;32mis\u001b[0m \u001b[0;32mTrue\u001b[0m\u001b[0;34m]\u001b[0m\u001b[0;34m\u001b[0m\u001b[0;34m\u001b[0m\u001b[0m\n\u001b[0m\u001b[1;32m      3\u001b[0m \u001b[0mprint\u001b[0m\u001b[0;34m(\u001b[0m\u001b[0;34mf'{len(hazards)} potentially hazardous asteroids identified.'\u001b[0m\u001b[0;34m)\u001b[0m\u001b[0;34m\u001b[0m\u001b[0;34m\u001b[0m\u001b[0m\n\u001b[1;32m      4\u001b[0m \u001b[0;34m\u001b[0m\u001b[0m\n\u001b[1;32m      5\u001b[0m \u001b[0;34m\u001b[0m\u001b[0m\n",
            "\u001b[0;31mNameError\u001b[0m: name 'neos' is not defined"
          ]
        }
      ],
      "source": [
        "# Ex. 1 your code here\n",
        "hazards = [hazards.append(item) for item in neos if item['is_potentially_hazardous_asteroid'] is True]\n",
        "print(f'{len(hazards)} potentially hazardous asteroids identified.')\n",
        "\n",
        "\n"
      ],
      "metadata": {
        "pycharm": {
          "name": "#%%\n"
        },
        "ExecuteTime": {
          "end_time": "2024-01-04T04:05:43.069849Z",
          "start_time": "2024-01-04T04:05:43.065922Z"
        },
        "id": "ewkwkc8wmxBB",
        "colab": {
          "base_uri": "https://localhost:8080/",
          "height": 211
        },
        "outputId": "d5762b68-ff1d-49e1-c3ea-09201140edfa"
      }
    },
    {
      "cell_type": "markdown",
      "source": [
        "\n",
        "\n",
        "## Exercise 2\n",
        "\n",
        "In the code cell below, write a python function that takes a list of \"close approach data\" as a parameter,\n",
        "and returns a 2-tuple with the (date, miss km) of the closest approach to Earth in the list (where \"miss km\" is the miss distance in km).\n",
        "\n",
        "Hints:\n",
        "* notice the input is a list of dictionaries.  Each dictionary has a 'close_approach_date\", \"orbiting_body\", and 'miss_distance' field.\n",
        "* we are only interested in the closest approach to \"Earth\"\n",
        "\n",
        "\n",
        "Add at least one unit test to check your work - note the test data only needs dictionaries with the fields your function actually uses.\n"
      ],
      "metadata": {
        "id": "DNRs7ynOYwYk"
      }
    },
    {
      "cell_type": "code",
      "source": [
        "# Ex. 2 your code here\n",
        "\n",
        "def close_earth(astro_earths):\n",
        "\n",
        "  #closest_date = '2024-01-01'\n",
        "  closest_km = 100000000000000000000.000000000 #or float(\"inf\")\n",
        "  closest_date = ''\n",
        "\n",
        "\n",
        "  for astros in astro_earths:\n",
        "\n",
        "    if astros['orbiting_body'] == 'Earth':\n",
        "\n",
        "      miss_km = float(astros['miss_distance']['kilometers'])\n",
        "      if miss_km < closest_km:\n",
        "        closest_km = miss_km\n",
        "        closest_date = astros['close_approach_date']\n",
        "\n",
        "\n",
        "  return (closest_date, closest_km)\n",
        "\n",
        "\n",
        "\n",
        "\n",
        "\n",
        "astro_earths = [dicts for earth in neos if 'close_approach_data' in earth for dicts in earth['close_approach_data']]\n",
        "\n",
        "result = close_earth(astro_earths)\n",
        "print(result)\n",
        "\n",
        "assert result == ('2023-01-09', 5447210.704804489)\n",
        "assert result == ('2021-09-21', 7210.704804489)\n",
        "\n",
        "\n",
        "\n",
        "\n"
      ],
      "metadata": {
        "id": "tiyXTDfnZAd0",
        "ExecuteTime": {
          "end_time": "2024-01-04T04:05:43.790535Z",
          "start_time": "2024-01-04T04:05:43.787064Z"
        },
        "colab": {
          "base_uri": "https://localhost:8080/",
          "height": 228
        },
        "outputId": "05e20229-a0db-41e2-cb2b-c11a472e8b7c"
      },
      "execution_count": 42,
      "outputs": [
        {
          "output_type": "stream",
          "name": "stdout",
          "text": [
            "('2023-01-09', 5447210.704804489)\n"
          ]
        },
        {
          "output_type": "error",
          "ename": "AssertionError",
          "evalue": "",
          "traceback": [
            "\u001b[0;31m---------------------------------------------------------------------------\u001b[0m",
            "\u001b[0;31mAssertionError\u001b[0m                            Traceback (most recent call last)",
            "\u001b[0;32m<ipython-input-42-258d8e15e042>\u001b[0m in \u001b[0;36m<cell line: 32>\u001b[0;34m()\u001b[0m\n\u001b[1;32m     30\u001b[0m \u001b[0;34m\u001b[0m\u001b[0m\n\u001b[1;32m     31\u001b[0m \u001b[0;32massert\u001b[0m \u001b[0mresult\u001b[0m \u001b[0;34m==\u001b[0m \u001b[0;34m(\u001b[0m\u001b[0;34m'2023-01-09'\u001b[0m\u001b[0;34m,\u001b[0m \u001b[0;36m5447210.704804489\u001b[0m\u001b[0;34m)\u001b[0m\u001b[0;34m\u001b[0m\u001b[0;34m\u001b[0m\u001b[0m\n\u001b[0;32m---> 32\u001b[0;31m \u001b[0;32massert\u001b[0m \u001b[0mresult\u001b[0m \u001b[0;34m==\u001b[0m \u001b[0;34m(\u001b[0m\u001b[0;34m'2021-09-21'\u001b[0m\u001b[0;34m,\u001b[0m \u001b[0;36m7210.704804489\u001b[0m\u001b[0;34m)\u001b[0m\u001b[0;34m\u001b[0m\u001b[0;34m\u001b[0m\u001b[0m\n\u001b[0m\u001b[1;32m     33\u001b[0m \u001b[0;34m\u001b[0m\u001b[0m\n\u001b[1;32m     34\u001b[0m \u001b[0;34m\u001b[0m\u001b[0m\n",
            "\u001b[0;31mAssertionError\u001b[0m: "
          ]
        }
      ]
    },
    {
      "cell_type": "markdown",
      "source": [
        "## Challenge Exercise\n",
        "\n",
        "In the code cell below, write a complete program that:\n",
        " 1. fetches the list of NEO's for this week.\n",
        " 2. for each NEO, fetch it's complete orbital data and determine its closest approach to Earth\n",
        " 3. identify which NEO from this week's data makes the closet approach to earth\n",
        " 4. print a nice message with information about the NEO, which it will approach the Earth, and how close it will come.\n",
        "\n",
        "Hints:\n",
        "* you'll need the start and end date - end date is today, see if you can use a [`timedelta`](https://docs.python.org/3/library/datetime.html#timedelta-objects) object to ge the start date (you can do basic \"date math\" with `timedelta` and `date` objects!)\n",
        "* you may need to modify the function we wrote in Ex. 2 to return a triple with the NEO's id included;\n",
        "* lots of opportunity here for more practice with list comprehensions\n"
      ],
      "metadata": {
        "collapsed": false,
        "id": "BrVVSFCnmxBC"
      }
    },
    {
      "cell_type": "code",
      "source": [
        "# Ex. 3 (challenge) your code here\n",
        "\n",
        "astro_earths = [dicts for earth in neos if 'close_approach_data' in earth for dicts in earth['close_approach_data']]\n",
        "\n",
        "\n",
        "for astros in astro_earths:\n",
        "  print(astros[\"close_approach_date\"])\n",
        "  print(astros[\"miss_distance\"][\"kilometers\"])\n",
        "\n",
        "\n",
        "#Astro Earth Is in List Of Lists\n",
        "\n",
        "\n",
        "\n",
        "\n",
        "\n",
        "#for astros in astro_earths:\n",
        "  #if 'miss_distance' in astros and 'kilometers' in astros['miss_distance']:\n",
        "    #print(astros['miss_distance']['kilometers'])"
      ],
      "metadata": {
        "id": "Ds1YevErlzCe",
        "pycharm": {
          "name": "#%%\n"
        },
        "ExecuteTime": {
          "end_time": "2024-01-04T04:05:43.790766Z",
          "start_time": "2024-01-04T04:05:43.789211Z"
        },
        "colab": {
          "base_uri": "https://localhost:8080/"
        },
        "outputId": "6ba491fc-0b38-4efa-a1af-6ed47a060035"
      },
      "execution_count": 23,
      "outputs": [
        {
          "output_type": "stream",
          "name": "stdout",
          "text": [
            "2023-01-09\n",
            "10851509.694433301\n",
            "2023-01-09\n",
            "43155698.171565472\n",
            "2023-01-09\n",
            "54288569.400645232\n",
            "2023-01-09\n",
            "18118791.350597013\n",
            "2023-01-09\n",
            "73732781.722872285\n",
            "2023-01-09\n",
            "12729559.409640991\n",
            "2023-01-09\n",
            "63921577.067518323\n",
            "2023-01-09\n",
            "70925351.859377733\n",
            "2023-01-09\n",
            "49886738.812740258\n",
            "2023-01-09\n",
            "22486818.235324881\n",
            "2023-01-09\n",
            "29778536.883070537\n",
            "2023-01-09\n",
            "5447210.704804489\n",
            "2023-01-09\n",
            "64496416.876131039\n",
            "2023-01-09\n",
            "16534926.46009559\n"
          ]
        }
      ]
    }
  ]
}
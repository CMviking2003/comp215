{
  "nbformat": 4,
  "nbformat_minor": 0,
  "metadata": {
    "colab": {
      "provenance": [],
      "authorship_tag": "ABX9TyNLgFLhLV7PhrvVYxpoKBhA",
      "include_colab_link": true
    },
    "kernelspec": {
      "name": "python3",
      "display_name": "Python 3"
    },
    "language_info": {
      "name": "python"
    }
  },
  "cells": [
    {
      "cell_type": "markdown",
      "metadata": {
        "id": "view-in-github",
        "colab_type": "text"
      },
      "source": [
        "<a href=\"https://colab.research.google.com/github/Hamilton-at-CapU/comp215/blob/main/labs/lab00_introduction.ipynb\" target=\"_parent\"><img src=\"https://colab.research.google.com/assets/colab-badge.svg\" alt=\"Open In Colab\"/></a>"
      ]
    },
    {
      "cell_type": "markdown",
      "source": [
        "COMP 215 - LAB 0  \n",
        "----------------\n",
        "#### Name:\n",
        "#### Date:\n",
        "\n",
        "By the end of this lab you should be familiar with how to write Python code using Google Colaboratory then save and share the code in GitHub on eLearn.\n"
      ],
      "metadata": {
        "id": "pOyyAVje7cBQ"
      }
    },
    {
      "cell_type": "markdown",
      "source": [
        "### Jupyter Notebooks\n",
        "\n",
        "A computational notebook is a programming environment that allows you to interlace code, formatted text, data, and graphical output all in a single document. These notebooks are easy to distribute on the web and can be viewed and executed without any additional software installation or configuration, making them an ideal platform for sharing research and analysis. They are widely used in scientific computing and in data science applications where the emphasis is on using code to clearly communicate rather than building an end-user app.  You can find more information about Jupyter Notebooks at https://jupyter.org/.  Note that you do not need to install Jupyter on your computer (see Google Colaboratory section).\n",
        "\n",
        "This document is a Jupyter Notebook.  You are currently reading a 'markdown' (also called a 'text') block that allows you to add formatted text to your code.  Below is an example of a code block that allows you to write and run code."
      ],
      "metadata": {
        "id": "y_3nDW_n7m3D"
      }
    },
    {
      "cell_type": "code",
      "source": [
        "# This is a code block.\n",
        "# Add a 'hello world' print statement here and run it"
      ],
      "metadata": {
        "id": "FplkLRHd7l87"
      },
      "execution_count": null,
      "outputs": []
    },
    {
      "cell_type": "markdown",
      "source": [
        "### Google Colaboratory\n",
        "\n",
        "Accroding to the Google AI Overview;\n",
        "  *  Google Colaboratory (or Colab), is a free, cloud-based environment for writing and running Python code in a browser. It's a popular tool in the data science and machine learning communities for tasks that require a lot of computing power, such as: Analyzing large amounts of data, Training machine learning models, and Testing deep learning algorithms.  \n",
        "\n",
        "Colab is an online interactive Python notebook environment.  An interactive notebook is a programming environment that allows you to interlace code, formatted text, data, and graphical output all in a single document. These notebooks are easy to distribute on the web and can be viewed and executed without any additional software installation or configuration, making them an ideal platform for sharing research and analysis. They are widely used in scientific computing and in data science applications where the emphasis is on using code to clearly communicate rather than building an end-user app.  Interactive Python notebooks use the file extension `.ipynb` instead of `.py`.  \n",
        "\n",
        "You can find more information about Jupyter Notebooks at [jupyter.org](https://jupyter.org/).  Note that you do not need to install Jupyter on your computer because we are using Colab.  You can find more information about how to write formatted text in the 'Markdown' language at [Markdown Syntax Guide](https://www.markdownguide.org/basic-syntax/).\n",
        "\n",
        "We will be using Colab in this course as the default (but not required) Integrated Development Environment (IDE) for you to write and run Python code.  "
      ],
      "metadata": {
        "id": "4QIdt5aV7sF9"
      }
    }
  ]
}
{
  "nbformat": 4,
  "nbformat_minor": 0,
  "metadata": {
    "kernelspec": {
      "display_name": "Python 3",
      "language": "python",
      "name": "python3"
    },
    "language_info": {
      "codemirror_mode": {
        "name": "ipython",
        "version": 2
      },
      "file_extension": ".py",
      "mimetype": "text/x-python",
      "name": "python",
      "nbconvert_exporter": "python",
      "pygments_lexer": "ipython2",
      "version": "2.7.6"
    },
    "colab": {
      "provenance": [],
      "include_colab_link": true
    }
  },
  "cells": [
    {
      "cell_type": "markdown",
      "metadata": {
        "id": "view-in-github",
        "colab_type": "text"
      },
      "source": [
        "<a href=\"https://colab.research.google.com/github/CMviking2003/comp215/blob/main/labs/lab03-classes.ipynb\" target=\"_parent\"><img src=\"https://colab.research.google.com/assets/colab-badge.svg\" alt=\"Open In Colab\"/></a>"
      ]
    },
    {
      "cell_type": "markdown",
      "source": [
        "COMP 215 - LAB 3\n",
        "----------------\n",
        "#### Name(s):\n",
        "#### Date:\n",
        "\n",
        "By the end of this lab you should be able to:\n",
        "  * use a `class` to organize related data and functions\n",
        "  * identify a `record` as a related collection of data, with fields for each data value\n",
        "\n",
        "During this lab, you will be introduced to the following:\n",
        "  * the `@dataclass` decorator to simplify class definition for classes that primarily encapsulate a data structure.\n",
        "  * the `@classmethod` decorator to create 'object factories'.\n",
        "  * plotting frequency distributions in `matplotlib`\n",
        "\n"
      ],
      "metadata": {
        "id": "nbRPZPKZU5Pk"
      }
    },
    {
      "cell_type": "markdown",
      "source": [
        "## Near Earth Objects (with classes)\n",
        "\n",
        "We'll continue working with Near Earth Object data using NASA's API: https://api.nasa.gov/.  In this lab we will define an Asteroid class to help us structure the data for easier data analysis.  Here's a brief review from Lab 2 on how to use the API.  "
      ],
      "metadata": {
        "id": "j0F0hjKzgQ1W"
      }
    },
    {
      "cell_type": "code",
      "execution_count": 68,
      "outputs": [],
      "source": [
        "# import necessary modules\n",
        "import datetime, json, requests\n",
        "from dataclasses import dataclass\n",
        "from pprint import pprint\n",
        "import matplotlib.pyplot as plt\n",
        "%matplotlib inline"
      ],
      "metadata": {
        "pycharm": {
          "name": "#%%\n"
        },
        "ExecuteTime": {
          "end_time": "2024-01-04T04:10:54.380220Z",
          "start_time": "2024-01-04T04:10:54.335677Z"
        },
        "id": "TLWTJDuVfSzO"
      }
    },
    {
      "cell_type": "markdown",
      "source": [
        "### Review: make an API query\n",
        "\n",
        "Here's a query that gets the record for a single NEO that recently passed by.  Read these functions carefully to be sure you know what they are returning.  Note the nested for loop structure in the return statement of the `get_neos` function - be sure to understand what it is doing.  You might want to add some more `pprint` statements to be sure you understand the data structures."
      ],
      "metadata": {
        "collapsed": false,
        "pycharm": {
          "name": "#%% md\n"
        },
        "id": "ug6L49x3fSzP"
      }
    },
    {
      "cell_type": "code",
      "execution_count": 178,
      "outputs": [
        {
          "output_type": "stream",
          "name": "stdout",
          "text": [
            "97 Near Earth Objects found for week of 2025-01-20\n",
            "{'absolute_magnitude_h': 26.077,\n",
            " 'close_approach_data': [{'close_approach_date': '2025-01-20',\n",
            "                          'close_approach_date_full': '2025-Jan-20 09:48',\n",
            "                          'epoch_date_close_approach': 1737366480000,\n",
            "                          'miss_distance': {'astronomical': '0.027451721',\n",
            "                                            'kilometers': '4106718.98943427',\n",
            "                                            'lunar': '10.678719469',\n",
            "                                            'miles': '2551796.851642126'},\n",
            "                          'orbiting_body': 'Earth',\n",
            "                          'relative_velocity': {'kilometers_per_hour': '25905.531264047',\n",
            "                                                'kilometers_per_second': '7.1959809067',\n",
            "                                                'miles_per_hour': '16096.6896901519'}}],\n",
            " 'designation': '2025 BJ',\n",
            " 'estimated_diameter': {'feet': {'estimated_diameter_max': 118.7476517094,\n",
            "                                 'estimated_diameter_min': 53.1055642782},\n",
            "                        'kilometers': {'estimated_diameter_max': 0.0361942831,\n",
            "                                       'estimated_diameter_min': 0.0161865755},\n",
            "                        'meters': {'estimated_diameter_max': 36.1942830828,\n",
            "                                   'estimated_diameter_min': 16.186575474},\n",
            "                        'miles': {'estimated_diameter_max': 0.0224900779,\n",
            "                                  'estimated_diameter_min': 0.0100578686}},\n",
            " 'id': '54516183',\n",
            " 'is_potentially_hazardous_asteroid': False,\n",
            " 'is_sentry_object': False,\n",
            " 'links': {'self': 'http://api.nasa.gov/neo/rest/v1/neo/54516183?api_key=Z6bnpeBjUGlGfBgMy68HVuEhJoMX0bjDf1qc9RgD'},\n",
            " 'name': '(2025 BJ)',\n",
            " 'nasa_jpl_url': 'https://ssd.jpl.nasa.gov/tools/sbdb_lookup.html#/?sstr=54516183',\n",
            " 'neo_reference_id': '54516183',\n",
            " 'orbital_data': {'aphelion_distance': '3.963807045409304',\n",
            "                  'ascending_node_longitude': '308.5056546502421',\n",
            "                  'data_arc_in_days': 1,\n",
            "                  'eccentricity': '.5938727683911982',\n",
            "                  'epoch_osculation': '2460694.5',\n",
            "                  'equinox': 'J2000',\n",
            "                  'first_observation_date': '2025-01-19',\n",
            "                  'inclination': '.4669504605646222',\n",
            "                  'jupiter_tisserand_invariant': '3.205',\n",
            "                  'last_observation_date': '2025-01-20',\n",
            "                  'mean_anomaly': '.5689770837405422',\n",
            "                  'mean_motion': '.2513134846625457',\n",
            "                  'minimum_orbit_intersection': '.0263769',\n",
            "                  'observations_used': 45,\n",
            "                  'orbit_class': {'orbit_class_description': 'Near-Earth '\n",
            "                                                             'asteroid orbits '\n",
            "                                                             'which cross the '\n",
            "                                                             'Earth’s orbit '\n",
            "                                                             'similar to that '\n",
            "                                                             'of 1862 Apollo',\n",
            "                                  'orbit_class_range': 'a (semi-major axis) > '\n",
            "                                                       '1.0 AU; q (perihelion) '\n",
            "                                                       '< 1.017 AU',\n",
            "                                  'orbit_class_type': 'APO'},\n",
            "                  'orbit_determination_date': '2025-01-20 05:57:42',\n",
            "                  'orbit_id': '2',\n",
            "                  'orbit_uncertainty': '8',\n",
            "                  'orbital_period': '1432.473870168147',\n",
            "                  'perihelion_argument': '167.004237191219',\n",
            "                  'perihelion_distance': '1.009999050054938',\n",
            "                  'perihelion_time': '2460692.235986652270',\n",
            "                  'semi_major_axis': '2.486903047732121'}}\n"
          ]
        }
      ],
      "source": [
        "API_KEY = 'Z6bnpeBjUGlGfBgMy68HVuEhJoMX0bjDf1qc9RgD'  # substitute your API key here\n",
        "\n",
        "def get_neos(start_date):\n",
        "    \"\"\" Return a list of NEO for the week starting at start_date \"\"\"\n",
        "    url = f'https://api.nasa.gov/neo/rest/v1/feed?start_date={start_date}&api_key={API_KEY}'\n",
        "    # Fetch last week's NEO feed\n",
        "    response = requests.request(\"GET\", url, headers={}, data={})\n",
        "    data = json.loads(response.text)\n",
        "    print(f'{data[\"element_count\"]} Near Earth Objects found for week of {start_date}')\n",
        "    return [neo for dated_records in data['near_earth_objects'].values() for neo in dated_records ]\n",
        "\n",
        "def get_neo(id):\n",
        "    \"\"\" Return a NEO record for the given id \"\"\"\n",
        "    url = f'https://api.nasa.gov/neo/rest/v1/neo/{id}?api_key={API_KEY}'\n",
        "    response = requests.request(\"GET\", url, headers={}, data={})\n",
        "    return json.loads(response.text)\n",
        "\n",
        "week_start = '2025-01-20'\n",
        "neos = get_neos(week_start)\n",
        "assert len(neos) > 0, f'Oh oh!  No NEOs found for {week_start}'\n",
        "neo = get_neo(neos[-1]['id'])  # get the very latest NEO\n",
        "pprint(neo)"
      ],
      "metadata": {
        "collapsed": true,
        "pycharm": {
          "name": "#%%\n"
        },
        "ExecuteTime": {
          "end_time": "2024-01-04T04:11:12.889668Z",
          "start_time": "2024-01-04T04:10:54.383166Z"
        },
        "id": "7Ex-7gB4fSzP",
        "colab": {
          "base_uri": "https://localhost:8080/"
        },
        "outputId": "7f8005d8-c924-41c7-9863-54b94e75ab5c"
      }
    },
    {
      "cell_type": "markdown",
      "source": [
        "## Exercise 1:  Define an Asteroid class\n",
        "\n",
        "Define a simple Asteroid class with some basic state variables for a single NEO.  Your Asteroid class should define at least 4 \"state variables:”\n",
        "\n",
        "    id\n",
        "    name\n",
        "    estimated_diameter (m)\n",
        "    is_potentially_hazardous (bool)\n",
        "\n",
        "Operations must include:\n",
        "* `__init__(self, ...)` method to initialize a new Asteroid object with specific data values\n",
        "* `__str__(self)`, and `__repr__(self)` methods that return nicely formatted string representations of the object.\n",
        "\n",
        "Write a little code to test your new class."
      ],
      "metadata": {
        "collapsed": false,
        "pycharm": {
          "name": "#%% md\n"
        },
        "id": "DcpH1nvJfSzP"
      }
    },
    {
      "cell_type": "code",
      "execution_count": 22,
      "outputs": [
        {
          "output_type": "stream",
          "name": "stdout",
          "text": [
            "ID: 54516130\n",
            "Name:(2025 BC)\n",
            "Diameter: {'estimated_diameter_min': 0.0113541591, 'estimated_diameter_max': 0.0253886716}\n",
            "Harzardous: False\n",
            "\n",
            "54516130\n",
            "(2025 BC)\n",
            "{'estimated_diameter_min': 0.0113541591, 'estimated_diameter_max': 0.0253886716}\n",
            "False\n"
          ]
        }
      ],
      "source": [
        "# Ex.1 your code here\n",
        "class Asteroid:\n",
        "\n",
        "  def __init__(self, id, name, diameter, hazardous):\n",
        "\n",
        "    self.id = id\n",
        "    self.name = name\n",
        "    self.diameter = diameter\n",
        "    self.hazardous = hazardous\n",
        "\n",
        "\n",
        "\n",
        "  def getID(self):\n",
        "    return self.id\n",
        "\n",
        "\n",
        "\n",
        "\n",
        "  def getName(self):\n",
        "    return self.name\n",
        "\n",
        "\n",
        "\n",
        "  def getDiameter(self):\n",
        "    return self.diameter\n",
        "\n",
        "\n",
        "\n",
        "  def getPH(self):\n",
        "    return self.hazardous\n",
        "\n",
        "\n",
        "\n",
        "  def __str__(self):\n",
        "    return \"ID: \" + str(self.id) + '\\n' + \"Name:\" + self.name + '\\n' + \"Diameter: \" + str(self.diameter) + '\\n' + \"Harzardous: \" + str(self.hazardous) + '\\n'\n",
        "\n",
        "\n",
        "\n",
        "  def __repr__(self):\n",
        "\n",
        "    return f\"ID: {self.id} Name: {self.name} Diameter: {self.diameter} Hazardous: {self.hazardous}\"\n",
        "\n",
        "\n",
        "\n",
        "\n",
        "\n",
        "id = neo['id']\n",
        "name = neo['name']\n",
        "diameter = neo['estimated_diameter']['kilometers']\n",
        "hazardous = neo['is_potentially_hazardous_asteroid']\n",
        "\n",
        "#pprint(neo)\n",
        "NEO = Asteroid(id, name, diameter, hazardous)\n",
        "\n",
        "print(NEO)\n",
        "print(NEO.getID())\n",
        "print(NEO.getName())\n",
        "print(NEO.getDiameter())\n",
        "print(NEO.getPH())\n",
        "\n",
        "\n",
        "\n"
      ],
      "metadata": {
        "pycharm": {
          "name": "#%%\n"
        },
        "ExecuteTime": {
          "end_time": "2024-01-04T04:11:12.891665Z",
          "start_time": "2024-01-04T04:11:12.889274Z"
        },
        "id": "FklvnAw4fSzQ",
        "colab": {
          "base_uri": "https://localhost:8080/"
        },
        "outputId": "73fd4676-e314-428f-eede-5e599a44f933"
      }
    },
    {
      "cell_type": "code",
      "source": [],
      "metadata": {
        "id": "wZFyHl9udCz9"
      },
      "execution_count": null,
      "outputs": []
    },
    {
      "cell_type": "markdown",
      "source": [
        "## Exercise 2: Make a histogram\n",
        "\n",
        "Create a list of all the Asteroid objects from this week's NEO feed and use the list to create a histogram to visualize the distribution of Asteroid diameters.  To create the historgram use the `hist()` method in the `matplotlib.pyplot` module."
      ],
      "metadata": {
        "id": "1BIePZEEVbhK"
      }
    },
    {
      "cell_type": "code",
      "source": [
        "#CREATE DIAMETER LIST THAT CALCULATES AVERAGE\n",
        "neo_avg_diam = [((neo['estimated_diameter']['feet']['estimated_diameter_min'] + neo['estimated_diameter']['feet']['estimated_diameter_max']) / 2) for neo in neos]\n",
        "\n",
        "#GET YEAR OF DISTRIBUTION\n",
        "week_string = week_start.split('-')\n",
        "year = week_string[0]\n",
        "\n",
        "\n",
        "#PLOTTING DATA ONTO A HISTOGRAM\n",
        "plt.figure(figsize=(5, 5))\n",
        "plt.hist(neo_avg_diam, color = 'purple')\n",
        "plt.title(f'Measuring Common Diameter Sizes of Asteroids in {year} ')\n",
        "plt.xlabel('Diameters of Asteroids (feet)')\n",
        "plt.ylabel('Number of Asteroids with Diameter')\n",
        "\n",
        "\n",
        "\n"
      ],
      "metadata": {
        "id": "orJxuk8nVd_B",
        "colab": {
          "base_uri": "https://localhost:8080/",
          "height": 504
        },
        "outputId": "92c4454b-36cc-4ddf-c659-77ff150e641c"
      },
      "execution_count": 196,
      "outputs": [
        {
          "output_type": "execute_result",
          "data": {
            "text/plain": [
              "Text(0, 0.5, 'Number of Asteroids with Diameter')"
            ]
          },
          "metadata": {},
          "execution_count": 196
        },
        {
          "output_type": "display_data",
          "data": {
            "text/plain": [
              "<Figure size 500x500 with 1 Axes>"
            ],
            "image/png": "[encoded data removed]"
          },
          "metadata": {}
        }
      ]
    },
    {
      "cell_type": "markdown",
      "source": [
        "## Exercise 3: Use `@dataclass` and `@classmethod` to do the same thing\n",
        "\n",
        "Now that you know how to define a simple class, we are going to use a use decorators to simplify (ie. shorten) our class definitions.  You will redefine the Asteroid class in this exercise.  Note that having two different definitions of a class in a single piece of code is very bad practice. I am asking you to do it here just so that you can see the differt ways to define classes.\n",
        "\n",
        " 1. Use the `@dataclass` decorator from the `dataclasses` module to define the Asteroid class.  The `@dataclass` decorator will automatically generate some of the commonly used methods, like `__init()__`, `__repr()__`, and `__eq()__`.  The definition should start like this:\n",
        "    ```\n",
        "    @dataclass\n",
        "    class Asteroid:\n",
        "      ...\n",
        "    ```\n",
        "Write a little code to test your new class.\n",
        "  \n",
        "\n",
        " 2. Use the `@classmethod` decorator to construct a `from_NEO()` 'factory method' inside your Asteroid class that creates Asteroid objects from the NEO API.  The method should take the id for a single NEO, fetche the NEO record from API, constructs a single Asteroid object, and return the Asteroid object representing that NEO.  This kind of method is called a “Factory” because it constructs an object from raw materials.  The object factory method should start like this:\n",
        "    ```\n",
        "    @classmethod\n",
        "    from_NEO(cls, neo_id):\n",
        "        ...\n",
        "    ```\n",
        "Write a little code to test your new method.\n",
        "\n",
        " 3. Use your new Asteroid class to create a list of Asteroid objects.  Use this list to create the same historgram as in Exercise 2.  \n",
        "\n",
        "\n"
      ],
      "metadata": {
        "id": "oae6EWIhQW76"
      }
    },
    {
      "cell_type": "code",
      "source": [
        "@dataclass\n",
        "\n"
      ],
      "metadata": {
        "id": "ygUi21mXX25Y"
      },
      "execution_count": null,
      "outputs": []
    },
    {
      "cell_type": "markdown",
      "source": [
        "## Challenge Exercise:\n",
        "\n",
        "One of your esteemed astromoner collegues has a theory that there is a correlation between the diameter and the orbital period of an asteroid.  Add the `orbital_period` data from the NEO API to your Asteroid class definition and use it to plot the orbital period (in years) versus the estimated diameter (in m) of all the asteroids from this week's NEO record.  Do you see a correlation?"
      ],
      "metadata": {
        "id": "4TznF_wiZJqu"
      }
    },
    {
      "cell_type": "code",
      "source": [
        "# Ex. Challenge your code here"
      ],
      "metadata": {
        "id": "bXJbBGDHZWjP"
      },
      "execution_count": null,
      "outputs": []
    }
  ]
}
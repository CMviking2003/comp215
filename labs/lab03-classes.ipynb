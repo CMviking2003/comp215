{
  "nbformat": 4,
  "nbformat_minor": 0,
  "metadata": {
    "kernelspec": {
      "display_name": "Python 3",
      "language": "python",
      "name": "python3"
    },
    "language_info": {
      "codemirror_mode": {
        "name": "ipython",
        "version": 2
      },
      "file_extension": ".py",
      "mimetype": "text/x-python",
      "name": "python",
      "nbconvert_exporter": "python",
      "pygments_lexer": "ipython2",
      "version": "2.7.6"
    },
    "colab": {
      "provenance": [],
      "include_colab_link": true
    }
  },
  "cells": [
    {
      "cell_type": "markdown",
      "metadata": {
        "id": "view-in-github",
        "colab_type": "text"
      },
      "source": [
        "<a href=\"https://colab.research.google.com/github/Hamilton-at-CapU/comp215/blob/main/labs/lab03-classes.ipynb\" target=\"_parent\"><img src=\"https://colab.research.google.com/assets/colab-badge.svg\" alt=\"Open In Colab\"/></a>"
      ]
    },
    {
      "cell_type": "markdown",
      "source": [
        "COMP 215 - LAB 3\n",
        "----------------\n",
        "#### Name(s):\n",
        "#### Date:\n",
        "\n",
        "By the end of this lab you should be able to:\n",
        "  * use a `class` to organize related data and functions\n",
        "  * identify a `record` as a related collection of data, with fields for each data value\n",
        "\n",
        "During this lab, you will be introduced to the following:\n",
        "  * the `class` keyword allows you define a new data `type`, with a set of operations on that data.\n",
        "  * a `dataclass` simplifies class definition for classes that primarily encapsulate a data structure.\n",
        "\n"
      ],
      "metadata": {
        "id": "nbRPZPKZU5Pk"
      }
    },
    {
      "cell_type": "markdown",
      "source": [
        "## Near Earth Objects (with classes)\n",
        "\n",
        "We'll continue working with Near Earth Object data using NASA's API: https://api.nasa.gov/ Here's a brief review from Lab 2 on how to use it."
      ],
      "metadata": {
        "id": "j0F0hjKzgQ1W"
      }
    },
    {
      "cell_type": "code",
      "execution_count": 1,
      "outputs": [],
      "source": [
        "# import necessary modules\n",
        "import datetime, json, requests\n",
        "from pprint import pprint"
      ],
      "metadata": {
        "pycharm": {
          "name": "#%%\n"
        },
        "ExecuteTime": {
          "end_time": "2024-01-04T04:10:54.380220Z",
          "start_time": "2024-01-04T04:10:54.335677Z"
        },
        "id": "TLWTJDuVfSzO"
      }
    },
    {
      "cell_type": "markdown",
      "source": [
        "### Review: make an API query\n",
        "\n",
        "Here's a query that gets the record for a single NEO that recently passed by."
      ],
      "metadata": {
        "collapsed": false,
        "pycharm": {
          "name": "#%% md\n"
        },
        "id": "ug6L49x3fSzP"
      }
    },
    {
      "cell_type": "code",
      "execution_count": null,
      "outputs": [],
      "source": [
        "API_KEY = 'DEMO_KEY'  # substitute your API key here\n",
        "\n",
        "def get_neos(start_date):\n",
        "    \"\"\" Return a list of NEO for the week starting at start_date \"\"\"\n",
        "    url = f'https://api.nasa.gov/neo/rest/v1/feed?start_date={start_date}&api_key={API_KEY}'\n",
        "    # Fetch last week's NEO feed\n",
        "    response = requests.request(\"GET\", url, headers={}, data={})\n",
        "    data = json.loads(response.text)\n",
        "    print(f'{data[\"element_count\"]} Near Earth Objects found for week of {start_date}')\n",
        "    return [neo for dated_records in data['near_earth_objects'].values() for neo in dated_records ]\n",
        "\n",
        "def get_neo(id):\n",
        "    \"\"\" Return a NEO record for the given id \"\"\"\n",
        "    url = f'https://api.nasa.gov/neo/rest/v1/neo/{id}?api_key={API_KEY}'\n",
        "    response = requests.request(\"GET\", url, headers={}, data={})\n",
        "    return json.loads(response.text)\n",
        "\n",
        "week_start = '2023-01-15'\n",
        "neos = get_neos(week_start)\n",
        "assert len(neos) > 0, f'Oh oh!  No NEOs found for {week_start}'\n",
        "neo = get_neo(neos[-1]['id'])  # get the very latest NEO\n",
        "pprint(neo)"
      ],
      "metadata": {
        "collapsed": true,
        "pycharm": {
          "name": "#%%\n"
        },
        "ExecuteTime": {
          "end_time": "2024-01-04T04:11:12.889668Z",
          "start_time": "2024-01-04T04:10:54.383166Z"
        },
        "id": "7Ex-7gB4fSzP"
      }
    },
    {
      "cell_type": "markdown",
      "source": [
        "## Exercise 1:  Define an Asteroid class\n",
        "\n",
        "Define a simple Asteroid class with some basic state variables for a single NEO.  Your Asteroid class should define at least 4 \"state variables:”\n",
        "\n",
        "    id\n",
        "    name\n",
        "    estimated_diameter (m)\n",
        "    is_potentially_hazardous (bool)\n",
        "\n",
        "Operations must include:\n",
        "* `__init__(self, ...)` method to initialize a new Asteroid object with specific data values\n",
        "* `__str__(self)`, and `__repr__(self)` methods that return nicely formatted string representations of the object.\n",
        "  \n",
        "OR...\n",
        "use a `@dataclass` and it will supply most of that boilerplate code for you!\n",
        "\n",
        "Write a little code to test your new class."
      ],
      "metadata": {
        "collapsed": false,
        "pycharm": {
          "name": "#%% md\n"
        },
        "id": "DcpH1nvJfSzP"
      }
    },
    {
      "cell_type": "code",
      "execution_count": null,
      "outputs": [],
      "source": [
        "# Ex.1 your code here"
      ],
      "metadata": {
        "pycharm": {
          "name": "#%%\n"
        },
        "ExecuteTime": {
          "end_time": "2024-01-04T04:11:12.891665Z",
          "start_time": "2024-01-04T04:11:12.889274Z"
        },
        "id": "FklvnAw4fSzQ"
      }
    },
    {
      "cell_type": "markdown",
      "source": [
        "## Exercise 2: Factory method: Asteriod.from_NEO\n",
        "\n",
        "We want to be able to construct Asteroid objects easily from the record returned from the NEO API.  \n",
        "\n",
        "Add an \"object factory\" method to your class...   \n",
        "\n",
        "    @classmethod\n",
        "    from_NEO(cls, neo_id):\n",
        "        ...\n",
        "\n",
        "that takes the id for a single NEO, fetches the NEO record from API, constructs and returns an Asteroid object representing that NEO.\n",
        "This kind of method is called a “Factory” because it constructs an object from raw materials.\n",
        "\n",
        "Write a little code to test your new class."
      ],
      "metadata": {
        "collapsed": false,
        "pycharm": {
          "name": "#%% md\n"
        },
        "id": "A9QCzx5OfSzQ"
      }
    },
    {
      "cell_type": "code",
      "execution_count": null,
      "outputs": [],
      "source": [
        "# Ex. 2 your code here"
      ],
      "metadata": {
        "pycharm": {
          "name": "#%%\n"
        },
        "ExecuteTime": {
          "end_time": "2024-01-04T04:11:12.894705Z",
          "start_time": "2024-01-04T04:11:12.892046Z"
        },
        "id": "qM0be3ZifSzQ"
      }
    },
    {
      "cell_type": "markdown",
      "source": [
        "## Exercise 3: Define a CloseApproach class\n",
        "\n",
        "Each NEO record comes with a list of `close_approach_data`, where each record in this list represents a single “close approach” to another orbiting body.\n",
        "* Develop a class named `CloseApproach` to represent a single close approach record.\n",
        "* State variables are\n",
        "\n",
        "        neo (refrence to related NEO object)\n",
        "        orbiting body (str)\n",
        "        approach date (datetime object!)\n",
        "        miss distance (float - choose units, document it, and be consistent!)\n",
        "        relative velocity (ditto)\n",
        "  \n",
        "Define a \"Factory\" class method to construct a `CloseApproach` object from one close approach data record (a dictionary object).   \n",
        "This method takes a `neo` object as input for the NEO to which the close approach data belongs.\n",
        "Remember to parse the date/time string into a datetime object."
      ],
      "metadata": {
        "id": "DNRs7ynOYwYk"
      }
    },
    {
      "cell_type": "code",
      "source": [
        "# Ex. 3 your code here"
      ],
      "metadata": {
        "id": "tiyXTDfnZAd0",
        "ExecuteTime": {
          "end_time": "2024-01-04T04:11:12.898030Z",
          "start_time": "2024-01-04T04:11:12.895465Z"
        }
      },
      "execution_count": null,
      "outputs": []
    },
    {
      "cell_type": "markdown",
      "source": [
        "## Exercise 4: Add list of CloseApproach objects to the Asteroid\n",
        "\n",
        "Every `Asteroid` should have a list of “close approaches”.\n",
        "But there is a catch-22 here because we need the `Asteroid` to construct the `CloseApproach` objects.\n",
        "Add an instance variable to your Asteroid class with a default value of an empty list:\n",
        "\n",
        "    ...\n",
        "    close_approaches:list = []\n",
        "    ...\n",
        "      \n",
        "In `from_NEO` factory, use a list comprehension to build the list of `CloseApproach` objects for the Asteroid instance, and then set the instance's `close_approaches` variable before returning it.  \n",
        "Setting the value of an object's instance variables from outside the class is generally frowned upon - this is why we make the factory a method of the class itself!\n",
        "\n",
        "Now add a method to `Asteroid` to return the `nearest_miss` `CloseApproach` object for the asteroic:\n",
        "\n",
        "    def nearest_miss(self):\n",
        "        ...\n",
        "\n",
        "Extend your test code to demonstrate these new features."
      ],
      "metadata": {
        "collapsed": false,
        "id": "0q5w7OkHfSzQ"
      }
    },
    {
      "cell_type": "code",
      "execution_count": null,
      "outputs": [],
      "source": [
        "# Ex. 4 your code here"
      ],
      "metadata": {
        "ExecuteTime": {
          "end_time": "2024-01-04T04:11:12.899780Z",
          "start_time": "2024-01-04T04:11:12.897929Z"
        },
        "id": "0P971NWDfSzQ"
      }
    },
    {
      "cell_type": "markdown",
      "source": [
        "## Challenge - Take your skills to the next level...\n",
        "### Exercise 5: add one additional analysis\n",
        "\n",
        " With these data structures in place, we can now start answering all kinds of interesting questions about a single Asteroid or a set of Asteroids.  \n",
        "Here’s a couple ideas to try:\n",
        "\n",
        "* add a method to the Asteroid class, `closest_earth_approach`, that returns the CloseApproach object that represents the closest approach the Asteroid makes to Earth.\n",
        "\n",
        "* write a **function** named `most_dangerous_approach`, that takes a date range and returns a single “potentially hazardous” Asteroid object that makes the closest approach to Earth in within that range.  Your algorithm will ultimately need to:\n",
        "    * grab the list of NEO’s for the given date range;\n",
        "    * use a list comprehension to build the list of Asteroid objects for the NEO’s returned\n",
        "    * use a list comprehension to filter  potentially hazardous Asteroids only;\n",
        "    * use a list comprehension to map each Asteroid to its  closest_earth_approach\n",
        "    * apply Python’s min function to identify the Asteroid with the closest_earth_approach\n",
        "\n",
        "You may want to decompose some of these steps into smaller functions.\n",
        "* add a method to the Asteroid class, estimated_mass, that computes an estimate of the Asteroid’s mass based on its diameter.  This is a model – state your assumptions.\n",
        "* add a method to the CloseApproach class, impact_force,  that estimates the force of impact if the Asteroid hit the orbiting object.  Again, this is a model, state your assumptions."
      ],
      "metadata": {
        "collapsed": false,
        "id": "p8VP8kr-fSzQ"
      }
    },
    {
      "cell_type": "code",
      "source": [
        "# Ex. 5 (challenge) your code here"
      ],
      "metadata": {
        "id": "Ds1YevErlzCe",
        "pycharm": {
          "name": "#%%\n"
        },
        "ExecuteTime": {
          "end_time": "2024-01-04T04:11:12.902837Z",
          "start_time": "2024-01-04T04:11:12.900180Z"
        }
      },
      "execution_count": null,
      "outputs": []
    }
  ]
}
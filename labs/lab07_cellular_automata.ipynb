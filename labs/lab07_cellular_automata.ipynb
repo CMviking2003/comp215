{
  "cells": [
    {
      "cell_type": "markdown",
      "metadata": {
        "id": "view-in-github",
        "colab_type": "text"
      },
      "source": [
        "<a href=\"https://colab.research.google.com/github/CMviking2003/comp215/blob/main/labs/lab07_cellular_automata.ipynb\" target=\"_parent\"><img src=\"https://colab.research.google.com/assets/colab-badge.svg\" alt=\"Open In Colab\"/></a>"
      ]
    },
    {
      "cell_type": "markdown",
      "metadata": {
        "collapsed": true,
        "pycharm": {
          "name": "#%% md\n"
        },
        "id": "4mSvymQ_YEa9"
      },
      "source": [
        "COMP 215 - LAB 7\n",
        "-----------------------------------------------\n",
        "#### Name: Christian Mancuso\n",
        "#### Date: March 5th, 2025\n",
        "\n",
        "This lab exercise is an introduction to the elementary [Cellular Automata](https://en.wikipedia.org/wiki/Elementary_cellular_automaton) studied by [Stephen Wolfram](https://en.wikipedia.org/wiki/Stephen_Wolfram#Complex_systems_and_cellular_automata).\n",
        "\n",
        "**New Python concepts**:\n",
        "  * **[NumPy](https://numpy.org)** is an open-source scientific computing package.  We will be using numpy for the remainder of the term.\n",
        "  * 1D and 2D [array](https://numpy.org/doc/stable/reference/generated/numpy.array.html) -  a rectangular grid with efficient matrix operations.\n",
        "\n",
        "**New Computation concepts**:\n",
        "  * **bit sequence** (a.k.a. binary number) - using a sequence of 0's and 1's to efficiently represent a data structure and processes.\n",
        "\n",
        "**Credits**:\n",
        "    Code examples based on [Think Complexity, 2nd edition](https://thinkcomplex.com).\n",
        "    Copyright 2016 Allen Downey, [MIT License](http://opensource.org/licenses/MIT)\n",
        "\n",
        "As usual, the first code cell simply imports all the modules we'll be using..."
      ]
    },
    {
      "cell_type": "code",
      "execution_count": 2,
      "outputs": [],
      "source": [
        "%matplotlib inline\n",
        "\n",
        "import matplotlib.pyplot as plt\n",
        "import numpy as np"
      ],
      "metadata": {
        "pycharm": {
          "name": "#%%\n"
        },
        "ExecuteTime": {
          "end_time": "2024-01-03T01:08:15.688738Z",
          "start_time": "2024-01-03T01:08:15.351290Z"
        },
        "id": "u0h4YFQ-YEa-"
      }
    },
    {
      "cell_type": "markdown",
      "source": [
        "## Elementary Cellular Automata\n",
        "Both the textbook and our week 7 notebooks develop some fundamental operations for simulating Elementary CA.  The sliding dot product algorithm in `rule_indexes` is implemented with [numpy.correlate](https://numpy.org/doc/stable/reference/generated/numpy.correlate.html).  It's behaviour is identical to the derivation from class.\n",
        "\n",
        "#### Notes\n",
        "* we use `np.pad(array, 1, mode='wrap')` to pad state vector with 1 extra value at both ends, equal to the last value at the opposing end of the vector.  This strategy avoids [edge effects](https://en.wikipedia.org/wiki/Boundary_problem_(spatial_analysis)#Types_and_examples).\n",
        "* since the rule is an `np.array`, we use \"vector indexing\" here to index a whole row at once:  `next_row=rule[indexes]`  See `foundations/numpy_1D_arrays` for details.\n"
      ],
      "metadata": {
        "collapsed": false,
        "pycharm": {
          "name": "#%% md\n"
        },
        "id": "ejN0eZAHYEa_"
      }
    },
    {
      "cell_type": "code",
      "execution_count": 3,
      "outputs": [
        {
          "output_type": "display_data",
          "data": {
            "text/plain": [
              "<Figure size 640x480 with 1 Axes>"
            ],
            "image/png": "[encoded data removed]"
          },
          "metadata": {}
        }
      ],
      "source": [
        "POWERS_OF_2 = np.array((4, 2, 1))\n",
        "\n",
        "def rule_indexes(state):\n",
        "    \"\"\" Return vector of rule indexes - one index for each 3-cell neighbourhood in the CA state vector. \"\"\"\n",
        "    # numpy's version of the \"sliding dot product\" algorithm;  \"pad\" ends of state array with extra 0 cell to mitigate edge effects\n",
        "    return np.correlate(np.pad(state, 1, mode='constant'), POWERS_OF_2, mode='valid')\n",
        "\n",
        "assert all( rule_indexes(np.array([1,1,0,0,1,0,0,0])) == [3, 6, 4, 1, 2, 4, 0, 0] )\n",
        "\n",
        "def transition(state, rule):\n",
        "    \"\"\" Return the vector resulting from a transition of given CA state under the given 8-bit rule \"\"\"\n",
        "    indexes = rule_indexes(state)\n",
        "    return np.array(rule[indexes])  # \"vector indexing\" replaces: [rule[i] for i in indexes]\n",
        "\n",
        "rule_110 = (0,1,1,0,1,1,1,0)[::-1]\n",
        "assert all( transition(np.array((0,0,1,1,1,0,0,0,1,1,0)), np.array(rule_110)) == (0,1,1,0,1,0,0,1,1,1,0))\n",
        "\n",
        "\n",
        "# This algorithm is from the textbook - it uses numpy to do a decimal to binary conversion.\n",
        "def get_lookup_table(rule):\n",
        "    \"\"\"\n",
        "    Return the 8-bit transition vector for the given elementary CA rule number.\n",
        "    rule: int 0-255\n",
        "    returns: transition lookup table - a 8 element vector of 0s and 1s\n",
        "    \"\"\"\n",
        "    rule = np.array([rule], dtype=np.uint8)\n",
        "    return np.unpackbits(rule)[::-1]\n",
        "\n",
        "assert np.all( get_lookup_table(110) == rule_110 )\n",
        "\n",
        "\n",
        "def single_centre_array(n_cells):\n",
        "    \"\"\" Return a binary 1D array with given number of cells, all zeros except a single 1 in the centre cell \"\"\"\n",
        "    array = np.zeros(n_cells, dtype=np.uint8)\n",
        "    array[n_cells//2] = 1\n",
        "    return array\n",
        "\n",
        "assert np.all( single_centre_array(7) == (0,0,0,1,0,0,0) )\n",
        "\n",
        "\n",
        "def simulate_ca(n_cells, n_steps, rule):\n",
        "    \"\"\" Generate a CA with given number of cells, plot progression of rule for given number of time steps \"\"\"\n",
        "    start_state = single_centre_array(n_cells)\n",
        "    # create a stack of \"empty\" state vectors, one for each time step\n",
        "    ca_timesteps = np.vstack([start_state, np.zeros((n_steps, len(start_state)), dtype=np.uint8)])\n",
        "    # run the simulation\n",
        "    for t in range(1, n_steps):\n",
        "        ca_timesteps[t] = transition(ca_timesteps[t-1], rule)\n",
        "    return ca_timesteps\n",
        "\n",
        "\n",
        "def plot_ca(array, axes=None, title='', cmap='Blues', **options):\n",
        "    \"\"\"\n",
        "    Plot the 2D array as an image on the given axes  1's will be dark blue, 0's will be light blue.\n",
        "\n",
        "    :param axes: the axes to plot on, or None to use the `plt.gca()` (current axes)\n",
        "    :param options: keyword arguments passed directly to `plt.imshow()`\n",
        "           see https://matplotlib.org/stable/api/_as_gen/matplotlib.axes.Axes.imshow.html\n",
        "    \"\"\"\n",
        "    axes = axes or plt.gca()  # If not axes are provided, draw on current axes\n",
        "    axes.set(\n",
        "        title=title,\n",
        "        ylabel='Time Steps',\n",
        "    )\n",
        "    # Turn off axes labels and tick marks\n",
        "    axes.tick_params(axis='x', which='both', bottom=False, labelbottom=False)\n",
        "    # Defaults for displaying a \"matrix\" with hard-pixel boundaries and (0,0) at top-left\n",
        "    options = {**dict(interpolation='nearest', origin='upper'), **options}\n",
        "    axes.imshow(array, cmap=cmap, **options)\n",
        "\n",
        "rule_90 = get_lookup_table(90)\n",
        "ca_timesteps = simulate_ca(200, 100, rule_90)\n",
        "plot_ca(ca_timesteps, title=f'Rule 90')"
      ],
      "metadata": {
        "pycharm": {
          "name": "#%%\n"
        },
        "ExecuteTime": {
          "end_time": "2024-01-03T01:08:15.797057Z",
          "start_time": "2024-01-03T01:08:15.693838Z"
        },
        "id": "cjKosML7YEa_",
        "outputId": "1c107a19-c5b1-4dd9-f7a6-d68226311060",
        "colab": {
          "base_uri": "https://localhost:8080/",
          "height": 317
        }
      }
    },
    {
      "cell_type": "markdown",
      "source": [
        "## Exercise 1: Additional Start States\n",
        "In Wolfram's original experiments, he starts with a CA that is all zeros except the centre cell.\n",
        "This is reproduced by the `single_centre_array` function above.\n",
        "It would be interesting to experiment with other start states...\n",
        "\n",
        "Write 2 functions, each of which returns a 1-D `numpy.array` (vector) configured in a specific state:\n",
        "1. `from_string_array` takes a text string of 0's and 1's and returns a 1D array with matching integer values\n",
        "2. `random_array` takes a float $ p $ where  $ 0 <= p <= 1 $ as input and returns a 1D array $a$, where probability $a[i] == 1$ is $p$\n",
        "\n",
        "*Tip*: both problems are most easily solved using list comprehensions!"
      ],
      "metadata": {
        "collapsed": false,
        "pycharm": {
          "name": "#%% md\n"
        },
        "id": "OrO74_StYEa_"
      }
    },
    {
      "cell_type": "code",
      "execution_count": 14,
      "outputs": [
        {
          "output_type": "stream",
          "name": "stdout",
          "text": [
            "[0 1 1 1 1 1 1 1]\n"
          ]
        }
      ],
      "source": [
        "# Solution for Ex. 1 here...\n",
        "\n",
        "def from_string_array(s):\n",
        "\n",
        "  d = list(s)\n",
        "\n",
        "  new_array = [int(i) for i in d]\n",
        "\n",
        "\n",
        "\n",
        "  return new_array\n",
        "\n",
        "\n",
        "\n",
        "def random_array(s,prob):\n",
        "\n",
        "\n",
        "  array = from_string_array(s)\n",
        "\n",
        "  n = len(array)\n",
        "\n",
        "  new_array = np.random.choice([0, 1], size = n, p = [1 - prob, prob])\n",
        "\n",
        "  print(new_array)\n",
        "\n",
        "\n",
        "\n",
        "\n",
        "\n",
        "s = '00110010'\n",
        "p = 0.99\n",
        "\n",
        "from_string_array(s)\n",
        "random_array(s, p)\n",
        "\n",
        "\n",
        "\n"
      ],
      "metadata": {
        "pycharm": {
          "name": "#%%\n"
        },
        "ExecuteTime": {
          "end_time": "2024-01-03T01:08:15.800407Z",
          "start_time": "2024-01-03T01:08:15.797136Z"
        },
        "id": "zKeKA9eCYEa_",
        "colab": {
          "base_uri": "https://localhost:8080/"
        },
        "outputId": "e57b0148-8f8f-4989-b4f9-d4a15182df95"
      }
    },
    {
      "cell_type": "markdown",
      "source": [
        "## Exercise 2: A Cell1D class\n",
        "Develop your own `Cell1D` class that uses the functions above to implement its fundamental operations.\n",
        "The `Cell1D` class from the textbook may provide some ideas, but you may find it more confusing than helpful.\n",
        "The goal here is to improve on the design of that class, so it might be better to just start over...\n",
        "\n",
        "* Initialize a `Cell1D` with a `rule` number and an array representing the CA `start_state`\n",
        "  *Tip*: initialize a 2-D array with just a single row to define the CA's data structure correctly.\n",
        "* Add a `simulate` method that takes the number of steps to simulate as input (note: my solution is just 4 lines of code)\n",
        "  *Tip*: you can reuse the algorithm from `simulate_ca` above.\n",
        "* Add a `step` method.  Unlike the textbook, our `step` method is just a convenience method - it just `simulate`s a single step.\n",
        "* Add a `draw` method.  Just call `plot_ca` to do the actual work.\n",
        "\n",
        "Note: this is *not* a `dataclass` - you will need an `__init__` method."
      ],
      "metadata": {
        "collapsed": false,
        "pycharm": {
          "name": "#%% md\n"
        },
        "id": "xaZ8uxbkYEa_"
      }
    },
    {
      "cell_type": "code",
      "execution_count": 25,
      "outputs": [
        {
          "output_type": "display_data",
          "data": {
            "text/plain": [
              "<Figure size 640x480 with 1 Axes>"
            ],
            "image/png": "[encoded data removed]"
          },
          "metadata": {}
        }
      ],
      "source": [
        "# Solution for Ex. 2 here...\n",
        "\n",
        "\n",
        "#USE EXERCISE ONE....POSSIBLY\n",
        "\n",
        "class Cell1D:\n",
        "\n",
        "\n",
        "  def __init__(self, rule, start_state):\n",
        "\n",
        "    self.rule = rule\n",
        "    self.past = [np.array(start_state, dtype = np.uint8)]\n",
        "\n",
        "\n",
        "  def step(self):\n",
        "\n",
        "    next_state = self.implement_rule(self.past[-1])\n",
        "    self.past.append(next_state)\n",
        "\n",
        "\n",
        "\n",
        "  def simulate_ca(self, n_steps):\n",
        "\n",
        "    for _ in range(n_steps):\n",
        "\n",
        "      self.step()\n",
        "\n",
        "\n",
        "\n",
        "\n",
        "  def draw(self):\n",
        "\n",
        "\n",
        "    plot_ca(self.past, title = f\"Rule {self.rule} \")\n",
        "\n",
        "\n",
        "\n",
        "  def gen_table(self):\n",
        "\n",
        "    rule_arr = np.array([self.rule], dtype=np.uint8)\n",
        "    table = np.unpackbits(rule_arr)[::-1]\n",
        "    return table\n",
        "\n",
        "\n",
        "  def implement_rule(self, state):\n",
        "\n",
        "\n",
        "\n",
        "    bin_rule = self.gen_table()\n",
        "    new_state = np.zeros_like(state)\n",
        "\n",
        "\n",
        "    for i in range(1, len(state) - 1):\n",
        "\n",
        "        neighborhood = state[i - 1] * 4 + state[i] * 2 + state[i + 1]\n",
        "        new_state[i] = bin_rule[neighborhood]\n",
        "\n",
        "    return new_state\n",
        "\n",
        "\n",
        "\n",
        "\n",
        "\n",
        "start_state = np.zeros(15, dtype=np.uint8)\n",
        "start_state[7] = 1\n",
        "\n",
        "\n",
        "ca = Cell1D(rule=90, start_state=start_state)\n",
        "\n",
        "\n",
        "ca.simulate_ca(20)\n",
        "\n",
        "ca.draw()\n",
        "plt.show()\n"
      ],
      "metadata": {
        "pycharm": {
          "name": "#%%\n"
        },
        "ExecuteTime": {
          "end_time": "2024-01-02T07:20:38.932395Z",
          "start_time": "2024-01-02T07:20:38.899938Z"
        },
        "id": "Wb7r1tBwYEbA",
        "colab": {
          "base_uri": "https://localhost:8080/",
          "height": 428
        },
        "outputId": "5de42ded-daab-4304-e757-d43e9b68ccec"
      }
    },
    {
      "cell_type": "markdown",
      "source": [],
      "metadata": {
        "id": "9-32ilAaD4ye"
      }
    },
    {
      "cell_type": "markdown",
      "source": [
        "## Run some Experiments\n",
        "With your new `Cell1D` class, run some experiments to explore the Elementary CA's.\n",
        "\n",
        "Wolfram identifies 4 \"classes\" of Elementary Cellular Automata:\n",
        "    a) rapidly converge to a uniform static state.\n",
        "    b) rapidly converge to a stable repeating pattern.\n",
        "    c) generate non-repeating, random states.\n",
        "    d) generate chaos, with areas of repetitive or stable states, but also structures that interact in complex ways.\n",
        "\n",
        "### Exercise 3\n",
        "\n",
        "1. It will be convenient to abstract the steps needed to construct, simulate, and draw a CA - develop a small `experiment` function to do so.\n",
        "\n",
        "2. Identify a rule that exemplifies each of the 4 CA classes.\n",
        "   Create a 2x2 grid of plots that shows an example simulation for each class of CA side-by-side.\n",
        "   You can simply re-purpose the example code below."
      ],
      "metadata": {
        "collapsed": false,
        "pycharm": {
          "name": "#%% md\n"
        },
        "id": "IBTMP7rVYEbA"
      }
    },
    {
      "cell_type": "code",
      "execution_count": 15,
      "outputs": [
        {
          "output_type": "display_data",
          "data": {
            "text/plain": [
              "<Figure size 640x480 with 4 Axes>"
            ],
            "image/png": "[encoded data removed]"
          },
          "metadata": {}
        }
      ],
      "source": [
        "# Solution for Ex. 3 here...\n",
        "\n",
        "\n",
        "def experiment(rule, size, steps):\n",
        "\n",
        "  start_state = np.zeros(size, dtype=np.uint8)\n",
        "  start_date = start_state[size // 2] = 1\n",
        "\n",
        "\n",
        "  ca = Cell1D(rule, start_state)\n",
        "\n",
        "  ca.simulate_ca(steps)\n",
        "\n",
        "  return ca.past\n",
        "\n",
        "\n",
        "def axes_layout(nrows=1, ncols=1, fig_title=None, **kwargs):\n",
        "    \"\"\" layout nrows x ncols axes with sensible defaults.  kwargs passed directly to `plt.subplots()`\"\"\"\n",
        "    kwargs = {**dict(layout='tight'), **kwargs}\n",
        "    fig, axes = plt.subplots(nrows=nrows, ncols=ncols, **kwargs)\n",
        "    if fig_title:\n",
        "        fig.suptitle(fig_title)\n",
        "    return axes\n",
        "\n",
        "\n",
        "\n",
        "rules = [0, 184, 30, 110]\n",
        "\n",
        "size = 100\n",
        "steps = 60\n",
        "\n",
        "\n",
        "index = 0\n",
        "\n",
        "axes = axes_layout(2, 2, fig_title='Sample Plot of 2 x 2 grid of images')\n",
        "\n",
        "for row in axes:\n",
        "\n",
        "  for ax in row:\n",
        "\n",
        "    plot_ca(experiment(rules[index], size, steps), axes=ax, title=f'This is plot dart')\n",
        "\n",
        "    index = index + 1\n",
        "\n",
        "plt.show()\n",
        "\n",
        "\n",
        "\n",
        "\n",
        "\n",
        "\n",
        "\n",
        "\n"
      ],
      "metadata": {
        "pycharm": {
          "name": "#%%\n"
        },
        "ExecuteTime": {
          "end_time": "2024-01-02T07:20:38.932659Z",
          "start_time": "2024-01-02T07:20:38.909421Z"
        },
        "id": "hzmLla8_YEbA",
        "colab": {
          "base_uri": "https://localhost:8080/",
          "height": 477
        },
        "outputId": "51b2a328-248e-4a16-d222-cd8c16327dcd"
      }
    },
    {
      "cell_type": "markdown",
      "source": [
        "#### Sample code for creating a 2x2 grid of plots"
      ],
      "metadata": {
        "collapsed": false,
        "pycharm": {
          "name": "#%% md\n"
        },
        "id": "ArVdmazjYEbA"
      }
    },
    {
      "cell_type": "code",
      "execution_count": 5,
      "outputs": [
        {
          "output_type": "display_data",
          "data": {
            "text/plain": [
              "<Figure size 640x480 with 4 Axes>"
            ],
            "image/png": "[encoded data removed]"
          },
          "metadata": {}
        }
      ],
      "source": [
        "def axes_layout(nrows=1, ncols=1, fig_title=None, **kwargs):\n",
        "    \"\"\" layout nrows x ncols axes with sensible defaults.  kwargs passed directly to `plt.subplots()`\"\"\"\n",
        "    kwargs = {**dict(layout='tight'), **kwargs}\n",
        "    fig, axes = plt.subplots(nrows=nrows, ncols=ncols, **kwargs)\n",
        "    if fig_title:\n",
        "        fig.suptitle(fig_title)\n",
        "    return axes\n",
        "\n",
        "# Example: plot 4 plots in a 2x2 grid - plots are labelled so it's clear which is which.\n",
        "axes = axes_layout(2, 2, fig_title='Sample Plot of 2 x 2 grid of images')\n",
        "for ax, title in zip(axes.flat, ('top-left', 'top-right', 'bottom-left', 'bottom-right' )):\n",
        "    plot_ca(ca_timesteps, axes=ax, title=f'This is plot {title}')"
      ],
      "metadata": {
        "pycharm": {
          "name": "#%%\n"
        },
        "ExecuteTime": {
          "end_time": "2024-01-02T07:20:39.309417Z",
          "start_time": "2024-01-02T07:20:38.915516Z"
        },
        "id": "9YXndjQJYEbA",
        "outputId": "388e15c9-0070-4b31-ca77-498ea52cdaf0",
        "colab": {
          "base_uri": "https://localhost:8080/",
          "height": 445
        }
      }
    },
    {
      "cell_type": "markdown",
      "source": [
        "## Exercise 4:  Thought Experiments\n",
        "Think about some of the questions that arise from this experiment.  Provide some concise answer that capture you thinking...\n",
        "1. What is it about these experiments that requires computation?\n",
        "Is there some other means by which we could conduct experiments like this?\n",
        "\n",
        "2. What conclusions can you draw about the conditions under which complex behaviours can arise?\n",
        "Do you think these conclusions are mostly intuitive or counter-intuitive?\n",
        "\n",
        "3. What lessons might we take about studying complex phenomena in the real world from our study of elementary cellular automata?"
      ],
      "metadata": {
        "collapsed": false,
        "pycharm": {
          "name": "#%% md\n"
        },
        "id": "8bg8nCopYEbA"
      }
    },
    {
      "cell_type": "code",
      "source": [],
      "metadata": {
        "id": "l48LrBklZqk2"
      },
      "execution_count": null,
      "outputs": []
    },
    {
      "cell_type": "markdown",
      "source": [
        "### Answers\n",
        "(concise, point-form -- there are no wrong answers, I'd just like to hear what you think)"
      ],
      "metadata": {
        "collapsed": false,
        "pycharm": {
          "name": "#%% md\n"
        },
        "id": "rIjlwciYYEbA"
      }
    }
  ],
  "metadata": {
    "kernelspec": {
      "display_name": "Python 3",
      "language": "python",
      "name": "python3"
    },
    "language_info": {
      "codemirror_mode": {
        "name": "ipython",
        "version": 2
      },
      "file_extension": ".py",
      "mimetype": "text/x-python",
      "name": "python",
      "nbconvert_exporter": "python",
      "pygments_lexer": "ipython2",
      "version": "2.7.6"
    },
    "colab": {
      "provenance": [],
      "include_colab_link": true
    }
  },
  "nbformat": 4,
  "nbformat_minor": 0
}